{
 "cells": [
  {
   "cell_type": "code",
   "execution_count": null,
   "id": "f9c2052d",
   "metadata": {},
   "outputs": [],
   "source": [
    "# Product & Category Analysis (Questions 151-200)"
   ]
  },
  {
   "cell_type": "code",
   "execution_count": 1,
   "id": "9213914a",
   "metadata": {},
   "outputs": [
    {
     "name": "stdout",
     "output_type": "stream",
     "text": [
      "   Row ID        Order ID Order Date  Ship Date       Ship Mode Customer ID  \\\n",
      "0       1  CA-2016-152156 2016-11-08 2016-11-11    Second Class    CG-12520   \n",
      "1       2  CA-2016-152156 2016-11-08 2016-11-11    Second Class    CG-12520   \n",
      "2       3  CA-2016-138688 2016-06-12 2016-06-16    Second Class    DV-13045   \n",
      "3       4  US-2015-108966 2015-10-11 2015-10-18  Standard Class    SO-20335   \n",
      "4       5  US-2015-108966 2015-10-11 2015-10-18  Standard Class    SO-20335   \n",
      "\n",
      "     Customer Name    Segment        Country             City  ...  \\\n",
      "0      Claire Gute   Consumer  United States        Henderson  ...   \n",
      "1      Claire Gute   Consumer  United States        Henderson  ...   \n",
      "2  Darrin Van Huff  Corporate  United States      Los Angeles  ...   \n",
      "3   Sean O'Donnell   Consumer  United States  Fort Lauderdale  ...   \n",
      "4   Sean O'Donnell   Consumer  United States  Fort Lauderdale  ...   \n",
      "\n",
      "  Postal Code  Region       Product ID         Category Sub-Category  \\\n",
      "0       42420   South  FUR-BO-10001798        Furniture    Bookcases   \n",
      "1       42420   South  FUR-CH-10000454        Furniture       Chairs   \n",
      "2       90036    West  OFF-LA-10000240  Office Supplies       Labels   \n",
      "3       33311   South  FUR-TA-10000577        Furniture       Tables   \n",
      "4       33311   South  OFF-ST-10000760  Office Supplies      Storage   \n",
      "\n",
      "                                        Product Name     Sales  Quantity  \\\n",
      "0                  Bush Somerset Collection Bookcase  261.9600         2   \n",
      "1  Hon Deluxe Fabric Upholstered Stacking Chairs,...  731.9400         3   \n",
      "2  Self-Adhesive Address Labels for Typewriters b...   14.6200         2   \n",
      "3      Bretford CR4500 Series Slim Rectangular Table  957.5775         5   \n",
      "4                     Eldon Fold 'N Roll Cart System   22.3680         2   \n",
      "\n",
      "   Discount    Profit  \n",
      "0      0.00   41.9136  \n",
      "1      0.00  219.5820  \n",
      "2      0.00    6.8714  \n",
      "3      0.45 -383.0310  \n",
      "4      0.20    2.5164  \n",
      "\n",
      "[5 rows x 21 columns]\n",
      "(9994, 21)\n"
     ]
    }
   ],
   "source": [
    "import numpy as np\n",
    "import pandas as pd\n",
    "df = pd.read_excel('Sample - Superstore.xls')\n",
    "print(df.head())\n",
    "print(df.shape)"
   ]
  },
  {
   "cell_type": "code",
   "execution_count": 2,
   "id": "484acafc",
   "metadata": {},
   "outputs": [
    {
     "name": "stdout",
     "output_type": "stream",
     "text": [
      "year\n",
      "2017    3312\n",
      "2016    2587\n",
      "2015    2102\n",
      "2014    1993\n",
      "Name: count, dtype: int64\n",
      "quarter\n",
      "4    3698\n",
      "3    2799\n",
      "2    2120\n",
      "1    1377\n",
      "Name: count, dtype: int64\n",
      "month\n",
      "11    1471\n",
      "12    1408\n",
      "9     1383\n",
      "10     819\n",
      "5      735\n",
      "6      717\n",
      "7      710\n",
      "8      706\n",
      "3      696\n",
      "4      668\n",
      "1      381\n",
      "2      300\n",
      "Name: count, dtype: int64\n",
      "weekday\n",
      "0    1871\n",
      "4    1818\n",
      "6    1710\n",
      "5    1655\n",
      "3    1463\n",
      "1    1106\n",
      "2     371\n",
      "Name: count, dtype: int64\n"
     ]
    }
   ],
   "source": [
    "df['year'] = df['Order Date'].dt.year\n",
    "print(df['year'].value_counts())\n",
    "\n",
    "df['quarter'] = df['Order Date'].dt.quarter\n",
    "print(df['quarter'].value_counts())\n",
    "\n",
    "df['month'] = df['Order Date'].dt.month\n",
    "print(df['month'].value_counts())\n",
    "\n",
    "df['weekday'] = df['Order Date'].dt.weekday\n",
    "print(df['weekday'].value_counts())"
   ]
  },
  {
   "cell_type": "code",
   "execution_count": 3,
   "id": "69a9dced",
   "metadata": {},
   "outputs": [
    {
     "name": "stdout",
     "output_type": "stream",
     "text": [
      "Category\n",
      "Furniture           375\n",
      "Office Supplies    1083\n",
      "Technology          404\n",
      "Name: Product ID, dtype: int64\n"
     ]
    }
   ],
   "source": [
    "# Question 151: Count number of products per category.\n",
    "\n",
    "products_per_category = df.groupby('Category')['Product ID'].nunique()\n",
    "print(products_per_category)"
   ]
  },
  {
   "cell_type": "code",
   "execution_count": 4,
   "id": "14a7b7ad",
   "metadata": {},
   "outputs": [
    {
     "name": "stdout",
     "output_type": "stream",
     "text": [
      "Sub-Category\n",
      "Accessories    144\n",
      "Appliances      98\n",
      "Art            163\n",
      "Binders        210\n",
      "Bookcases       49\n",
      "Chairs          87\n",
      "Copiers         13\n",
      "Envelopes       54\n",
      "Fasteners       43\n",
      "Furnishings    182\n",
      "Labels          70\n",
      "Machines        63\n",
      "Paper          276\n",
      "Phones         184\n",
      "Storage        131\n",
      "Supplies        38\n",
      "Tables          57\n",
      "Name: Product ID, dtype: int64\n"
     ]
    }
   ],
   "source": [
    "# Question 152: Count number of products per sub-category.\n",
    "products_per_subcategory = df.groupby('Sub-Category')['Product ID'].nunique()\n",
    "print(products_per_subcategory)"
   ]
  },
  {
   "cell_type": "code",
   "execution_count": 11,
   "id": "ce548935",
   "metadata": {},
   "outputs": [
    {
     "name": "stdout",
     "output_type": "stream",
     "text": [
      "Most sold product and its sales: Product Name\n",
      "Canon imageCLASS 2200 Advanced Copier    61599.824\n",
      "Name: Sales, dtype: float64\n"
     ]
    }
   ],
   "source": [
    "# Question 153: Find most sold product by sales.\n",
    "most_sold_product = df.groupby('Product Name')['Sales'].sum()\n",
    "sorted_most_sold_product = most_sold_product.sort_values(ascending=False).head(1)\n",
    "print(f\"Most sold product and its sales: {sorted_most_sold_product}\")"
   ]
  },
  {
   "cell_type": "code",
   "execution_count": null,
   "id": "b6daeb05",
   "metadata": {},
   "outputs": [
    {
     "name": "stdout",
     "output_type": "stream",
     "text": [
      "Most sold product by profit: Product Name\n",
      "Canon imageCLASS 2200 Advanced Copier    25199.928\n",
      "Name: Profit, dtype: float64\n"
     ]
    }
   ],
   "source": [
    "# Question 154: Find most sold product by profit.\n",
    "most_sold_product_profit = df.groupby('Product Name')['Profit'].sum()\n",
    "sorted_most_sold_product_profit = most_sold_product_profit.sort_values(ascending=False).head(1)\n",
    "print(f\"Most sold product and its profit: {sorted_most_sold_product_profit}\")"
   ]
  },
  {
   "cell_type": "code",
   "execution_count": 13,
   "id": "01847504",
   "metadata": {},
   "outputs": [
    {
     "name": "stdout",
     "output_type": "stream",
     "text": [
      "Most sold product and its quantity: Product Name\n",
      "Staples    215\n",
      "Name: Quantity, dtype: int64\n"
     ]
    }
   ],
   "source": [
    "# Question 155: Find most sold product by quantity.\n",
    "most_sold_product_quantity = df.groupby('Product Name')['Quantity'].sum()\n",
    "sorted_most_sold_product_quantity = most_sold_product_quantity.sort_values(ascending=False).head(1)\n",
    "print(f\"Most sold product and its quantity: {sorted_most_sold_product_quantity}\")"
   ]
  },
  {
   "cell_type": "code",
   "execution_count": 16,
   "id": "0c7f9f6a",
   "metadata": {},
   "outputs": [
    {
     "name": "stdout",
     "output_type": "stream",
     "text": [
      "Least sold product and its sales: Product Name\n",
      "Eureka Disposable Bags for Sanitaire Vibra Groomer I Upright Vac    1.624\n",
      "Name: Sales, dtype: float64\n"
     ]
    }
   ],
   "source": [
    "# Question 156: Find least sold product by sales.\n",
    "least_sold_product = df.groupby('Product Name')['Sales'].sum()\n",
    "sorted_least_sold_product = least_sold_product.sort_values(ascending=True).head(1)\n",
    "print(f\"Least sold product and its sales: {sorted_least_sold_product}\")"
   ]
  },
  {
   "cell_type": "code",
   "execution_count": 17,
   "id": "0160657f",
   "metadata": {},
   "outputs": [
    {
     "name": "stdout",
     "output_type": "stream",
     "text": [
      "Least sold product and its profit: Product Name\n",
      "Cubify CubeX 3D Printer Double Head Print   -8879.9704\n",
      "Name: Profit, dtype: float64\n"
     ]
    }
   ],
   "source": [
    "# Question 157: Find least sold product by profit.\n",
    "least_sold_product_profit = df.groupby('Product Name')['Profit'].sum()\n",
    "sorted_least_sold_product_profit = least_sold_product_profit.sort_values(ascending=True).head(1)\n",
    "print(f\"Least sold product and its profit: {sorted_least_sold_product_profit}\")"
   ]
  },
  {
   "cell_type": "code",
   "execution_count": 18,
   "id": "2a32549c",
   "metadata": {},
   "outputs": [
    {
     "name": "stdout",
     "output_type": "stream",
     "text": [
      "Least sold product and its quantity: Product Name\n",
      "Penpower WorldCard Pro Card Scanner    1\n",
      "Name: Quantity, dtype: int64\n"
     ]
    }
   ],
   "source": [
    "# Question 158: Find least sold product by quantity.\n",
    "least_sold_product_quantity = df.groupby('Product Name')['Quantity'].sum()\n",
    "sorted_least_sold_product_quantity = least_sold_product_quantity.sort_values(ascending=True).head(1)\n",
    "print(f\"Least sold product and its quantity: {sorted_least_sold_product_quantity}\")"
   ]
  },
  {
   "cell_type": "code",
   "execution_count": 19,
   "id": "bdfa4b34",
   "metadata": {},
   "outputs": [
    {
     "name": "stdout",
     "output_type": "stream",
     "text": [
      "Product Name\n",
      "\"While you Were Out\" Message Book, One Form per Page                                                     8.409333\n",
      "#10 Gummed Flap White Envelopes, 100/Box                                                                10.325000\n",
      "#10 Self-Seal White Envelopes                                                                           27.170500\n",
      "#10 White Business Envelopes,4 1/8 x 9 1/2                                                              69.843429\n",
      "#10- 4 1/8\" x 9 1/2\" Recycled Envelopes                                                                 28.667200\n",
      "                                                                                                          ...    \n",
      "iKross Bluetooth Portable Keyboard + Cell Phone Stand Holder + Brush for Apple iPhone 5S 5C 5, 4S 4     95.532000\n",
      "iOttie HLCRIO102 Car Mount                                                                              43.178400\n",
      "iOttie XL Car Mount                                                                                    111.944000\n",
      "invisibleSHIELD by ZAGG Smudge-Free Screen Protector                                                    63.222000\n",
      "netTALK DUO VoIP Telephone Service                                                                     158.969714\n",
      "Name: Sales, Length: 1850, dtype: float64\n"
     ]
    }
   ],
   "source": [
    "# Question 159: Find average sales per product.\n",
    "average_sales_per_product = df.groupby('Product Name')['Sales'].mean()\n",
    "print(average_sales_per_product)"
   ]
  },
  {
   "cell_type": "code",
   "execution_count": 20,
   "id": "d5cf2930",
   "metadata": {},
   "outputs": [
    {
     "name": "stdout",
     "output_type": "stream",
     "text": [
      "Product Name\n",
      "\"While you Were Out\" Message Book, One Form per Page                                                    3.462667\n",
      "#10 Gummed Flap White Envelopes, 100/Box                                                                4.191950\n",
      "#10 Self-Seal White Envelopes                                                                          13.030750\n",
      "#10 White Business Envelopes,4 1/8 x 9 1/2                                                             31.877257\n",
      "#10- 4 1/8\" x 9 1/2\" Recycled Envelopes                                                                11.528060\n",
      "                                                                                                         ...    \n",
      "iKross Bluetooth Portable Keyboard + Cell Phone Stand Holder + Brush for Apple iPhone 5S 5C 5, 4S 4    23.128800\n",
      "iOttie HLCRIO102 Car Mount                                                                             -2.398800\n",
      "iOttie XL Car Mount                                                                                   -25.187400\n",
      "invisibleSHIELD by ZAGG Smudge-Free Screen Protector                                                   24.466400\n",
      "netTALK DUO VoIP Telephone Service                                                                     61.488286\n",
      "Name: Profit, Length: 1850, dtype: float64\n"
     ]
    }
   ],
   "source": [
    "# Question 160: Find average profit per product.\n",
    "average_profit_per_product = df.groupby('Product Name')['Profit'].mean()\n",
    "print(average_profit_per_product)"
   ]
  },
  {
   "cell_type": "code",
   "execution_count": 21,
   "id": "9160d0ff",
   "metadata": {},
   "outputs": [
    {
     "name": "stdout",
     "output_type": "stream",
     "text": [
      "Product Name\n",
      "3D Systems Cube Printer, 2nd Generation, Magenta                            14299.8900\n",
      "Adjustable Depth Letter/Legal Cart                                           7730.1960\n",
      "Apple iPhone 5                                                              12996.6000\n",
      "Ativa V4110MDD Micro-Cut Shredder                                            7699.8900\n",
      "Atlantic Metals Mobile 3-Shelf Bookcases, Custom Colors                      7539.7122\n",
      "                                                                               ...    \n",
      "Tennsco Snap-Together Open Shelving Units, Starter Sets and Add-On Units     6819.3120\n",
      "Wilson Electronics DB Pro Signal Booster                                     8878.4000\n",
      "Wilson SignalBoost 841262 DB PRO Amplifier Kit                               5327.2600\n",
      "Zebra GX420t Direct Thermal/Thermal Transfer Printer                         5787.3550\n",
      "Zebra ZM400 Thermal Label Printer                                            6965.7000\n",
      "Name: Sales, Length: 107, dtype: float64\n"
     ]
    }
   ],
   "source": [
    "# Question 161: Find products with sales > 5000.\n",
    "products_sales = df.groupby('Product Name')['Sales'].sum()\n",
    "products_sales_gt_5000 = products_sales[products_sales > 5000]\n",
    "print(products_sales_gt_5000) "
   ]
  },
  {
   "cell_type": "code",
   "execution_count": 22,
   "id": "99c51542",
   "metadata": {},
   "outputs": [
    {
     "name": "stdout",
     "output_type": "stream",
     "text": [
      "Product Name\n",
      "3D Systems Cube Printer, 2nd Generation, Magenta    3717.9714\n",
      "Adjustable Depth Letter/Legal Cart                  1932.5490\n",
      "Apple iPhone 5                                      1611.5784\n",
      "Ativa V4110MDD Micro-Cut Shredder                   3772.9461\n",
      "Bady BDG101FRU Card Printer                         1327.9834\n",
      "                                                      ...    \n",
      "Tennsco 16-Compartment Lockers with Coat Rack       1114.3708\n",
      "Tennsco 6- and 18-Compartment Lockers               1575.1098\n",
      "Wilson SignalBoost 841262 DB PRO Amplifier Kit      1043.8550\n",
      "Xerox 1915                                          1262.3940\n",
      "Zebra ZM400 Thermal Label Printer                   3343.5360\n",
      "Name: Profit, Length: 70, dtype: float64\n"
     ]
    }
   ],
   "source": [
    "# Question 162: Find products with profit > 1000.\n",
    "products_profit = df.groupby('Product Name')['Profit'].sum()\n",
    "products_profit_gt_1000 = products_profit[products_profit > 1000]\n",
    "print(products_profit_gt_1000)"
   ]
  },
  {
   "cell_type": "code",
   "execution_count": 23,
   "id": "78dc5d5d",
   "metadata": {},
   "outputs": [
    {
     "name": "stdout",
     "output_type": "stream",
     "text": [
      "Product Name\n",
      "3.6 Cubic Foot Counter Height Office Refrigerator                 -872.0752\n",
      "36X48 HARDFLOOR CHAIRMAT                                           -40.4914\n",
      "3D Systems Cube Printer, 2nd Generation, White                    -467.9964\n",
      "3M Replacement Filter for Office Air Cleaner for 20' x 33' Room    -20.4768\n",
      "ARKON Windshield Dashboard Air Vent Car Mount Holder               -15.5940\n",
      "                                                                     ...   \n",
      "XtraLife ClearVue Slant-D Ring Binders by Cardinal                 -13.3280\n",
      "Zebra GK420t Direct Thermal/Thermal Transfer Printer              -938.2800\n",
      "i.Sound Portable Power - 8000 mAh                                  -58.8189\n",
      "iOttie HLCRIO102 Car Mount                                         -11.9940\n",
      "iOttie XL Car Mount                                                -50.3748\n",
      "Name: Profit, Length: 301, dtype: float64\n"
     ]
    }
   ],
   "source": [
    "# Question 163: Find products with negative profit.\n",
    "products_with_negative_profit = products_profit[products_profit < 0]\n",
    "print(products_with_negative_profit)"
   ]
  },
  {
   "cell_type": "code",
   "execution_count": 28,
   "id": "2688c40b",
   "metadata": {},
   "outputs": [
    {
     "name": "stdout",
     "output_type": "stream",
     "text": [
      "                                           Product Name  Discount\n",
      "14    Holmes Replacement Filter for HEPA Air Cleaner...       0.8\n",
      "15     Storex DuraTech Recycled Plastic Frosted Binders       0.8\n",
      "28    Avery Recycled Flexi-View Covers for Binding S...       0.7\n",
      "32    Acco Pressboard Covers with Storage Hooks, 14 ...       0.7\n",
      "36    Electrix Architect's Clamp-On Swing Arm Lamp, ...       0.6\n",
      "...                                                 ...       ...\n",
      "9870                   GBC Standard Therm-A-Bind Covers       0.7\n",
      "9877  Wilson Jones Clip & Carry Folder Binder Tool f...       0.7\n",
      "9903  GE General Use Halogen Bulbs, 100 Watts, 1 Bul...       0.6\n",
      "9920  GBC Pre-Punched Binding Paper, Plastic, White,...       0.8\n",
      "9921                    Acco Expandable Hanging Binders       0.7\n",
      "\n",
      "[856 rows x 2 columns]\n"
     ]
    }
   ],
   "source": [
    "# Question 164: Find products with discount > 0.5.\n",
    "products_discount_gt_0_5 = df[df['Discount'] > 0.5][['Product Name','Discount']]\n",
    "print(products_discount_gt_0_5)"
   ]
  },
  {
   "cell_type": "code",
   "execution_count": 38,
   "id": "78149050",
   "metadata": {},
   "outputs": [
    {
     "name": "stdout",
     "output_type": "stream",
     "text": [
      "1622\n",
      "['Bush Somerset Collection Bookcase'\n",
      " 'Hon Deluxe Fabric Upholstered Stacking Chairs, Rounded Back'\n",
      " 'Self-Adhesive Address Labels for Typewriters by Universal' ...\n",
      " 'Eldon Expressions Desk Accessory, Wood Photo Frame, Mahogany'\n",
      " 'Panasonic KX T7731-B Digital phone' 'Cisco SPA112 2 Port Phone Adapter']\n"
     ]
    }
   ],
   "source": [
    "# Question 165: Find products with no discount.\n",
    "products_no_discount = df[df['Discount'] == 0]['Product Name'].unique()\n",
    "print(products_no_discount.size)\n",
    "print(products_no_discount)\n"
   ]
  },
  {
   "cell_type": "code",
   "execution_count": 42,
   "id": "817a5d51",
   "metadata": {},
   "outputs": [
    {
     "name": "stdout",
     "output_type": "stream",
     "text": [
      "           Category                                       Product Name  \\\n",
      "0         Furniture  Hon Deluxe Fabric Upholstered Stacking Chairs,...   \n",
      "1         Furniture            Global Deluxe High-Back Manager's Chair   \n",
      "2         Furniture                         Hon Pagoda Stacking Chairs   \n",
      "3         Furniture  Hon 4070 Series Pagoda Armless Upholstered Sta...   \n",
      "4         Furniture  Office Star - Professional Matrix Back Chair w...   \n",
      "5         Furniture                           Hon Olson Stacker Chairs   \n",
      "6         Furniture  GE 48\" Fluorescent Tube, Cool White Energy Sav...   \n",
      "7         Furniture                             Hon GuestStacker Chair   \n",
      "8         Furniture                           SAFCO Arco Folding Chair   \n",
      "9         Furniture  Hon 4070 Series Pagoda Round Back Stacking Chairs   \n",
      "10  Office Supplies  Fellowes PB500 Electric Punch Plastic Comb Bin...   \n",
      "11  Office Supplies               Ibico EPK-21 Electric Binding System   \n",
      "12  Office Supplies  Honeywell Enviracaire Portable HEPA Air Cleane...   \n",
      "13  Office Supplies        Fellowes PB300 Plastic Comb Binding Machine   \n",
      "14  Office Supplies          Ibico Ibimaster 300 Manual Binding System   \n",
      "15  Office Supplies         GBC DocuBind TL300 Electric Binding System   \n",
      "16  Office Supplies                     Hot File 7-Pocket, Floor Stand   \n",
      "17  Office Supplies                 Adjustable Depth Letter/Legal Cart   \n",
      "18  Office Supplies  Sanyo Counter Height Refrigerator with Crisper...   \n",
      "19  Office Supplies              Dual Level, Single-Width Filing Carts   \n",
      "20       Technology              Canon imageCLASS 2200 Advanced Copier   \n",
      "21       Technology               Hewlett Packard LaserJet 3310 Copier   \n",
      "22       Technology                 Canon PC1060 Personal Laser Copier   \n",
      "23       Technology  HP Designjet T520 Inkjet Large Format Printer ...   \n",
      "24       Technology                  Ativa V4110MDD Micro-Cut Shredder   \n",
      "25       Technology   3D Systems Cube Printer, 2nd Generation, Magenta   \n",
      "26       Technology  Plantronics Savi W720 Multi-Device Wireless He...   \n",
      "27       Technology                  Zebra ZM400 Thermal Label Printer   \n",
      "28       Technology  Hewlett Packard 610 Color Digital Copier / Pri...   \n",
      "29       Technology  Plantronics CS510 - Over-the-Head monaural Wir...   \n",
      "\n",
      "        Profit  \n",
      "0    1927.4420  \n",
      "1    1558.5910  \n",
      "2    1540.7040  \n",
      "3    1388.6348  \n",
      "4    1305.6456  \n",
      "5    1292.1264  \n",
      "6    1260.2210  \n",
      "7    1233.0848  \n",
      "8    1179.3740  \n",
      "9    1052.8144  \n",
      "10   7753.0390  \n",
      "11   3345.2823  \n",
      "12   3247.0200  \n",
      "13   2518.0551  \n",
      "14   2318.3370  \n",
      "15   2233.5051  \n",
      "16   2016.7110  \n",
      "17   1932.5490  \n",
      "18   1653.8256  \n",
      "19   1640.5348  \n",
      "20  25199.9280  \n",
      "21   6983.8836  \n",
      "22   4570.9347  \n",
      "23   4094.9766  \n",
      "24   3772.9461  \n",
      "25   3717.9714  \n",
      "26   3696.2820  \n",
      "27   3343.5360  \n",
      "28   3124.9375  \n",
      "29   3085.0325  \n"
     ]
    },
    {
     "name": "stderr",
     "output_type": "stream",
     "text": [
      "C:\\Users\\udite\\AppData\\Local\\Temp\\ipykernel_23320\\4227565073.py:3: FutureWarning: DataFrameGroupBy.apply operated on the grouping columns. This behavior is deprecated, and in a future version of pandas the grouping columns will be excluded from the operation. Either pass `include_groups=False` to exclude the groupings or explicitly select the grouping columns after groupby to silence this warning.\n",
      "  top_10_profitable_products = products_per_category_profit.groupby('Category').apply(lambda x: x.nlargest(10, 'Profit')).reset_index(drop=True)\n"
     ]
    }
   ],
   "source": [
    "# Question 166: Find top 10 profitable products per category.\n",
    "products_per_category_profit = df.groupby(['Category', 'Product Name'])['Profit'].sum().reset_index()\n",
    "top_10_profitable_products = products_per_category_profit.groupby('Category').apply(lambda x: x.nlargest(10, 'Profit')).reset_index(drop=True)\n",
    "print(top_10_profitable_products)"
   ]
  },
  {
   "cell_type": "code",
   "execution_count": 43,
   "id": "6e825552",
   "metadata": {},
   "outputs": [
    {
     "name": "stdout",
     "output_type": "stream",
     "text": [
      "           Category                                       Product Name  \\\n",
      "0         Furniture  Chromcraft Bull-Nose Wood Oval Conference Tabl...   \n",
      "1         Furniture  Bush Advantage Collection Racetrack Conference...   \n",
      "2         Furniture                       Balt Solid Wood Round Tables   \n",
      "3         Furniture  BoxOffice By Design Rectangular and Half-Moon ...   \n",
      "4         Furniture  Riverside Furniture Oval Coffee Table, Oval En...   \n",
      "5         Furniture  Hon 2090 “Pillow Soft” Series Mid Back Swivel/...   \n",
      "6         Furniture         O'Sullivan 4-Shelf Bookcase in Odessa Pine   \n",
      "7         Furniture  Bretford “Just In Time” Height-Adjustable Mult...   \n",
      "8         Furniture                Bevis Oval Conference Table, Walnut   \n",
      "9         Furniture                              BPI Conference Tables   \n",
      "10  Office Supplies          GBC DocuBind P400 Electric Binding System   \n",
      "11  Office Supplies  Martin Yale Chadless Opener Electric Letter Op...   \n",
      "12  Office Supplies  3.6 Cubic Foot Counter Height Office Refrigerator   \n",
      "13  Office Supplies                        Tennsco Single-Tier Lockers   \n",
      "14  Office Supplies              SAFCO Commercial Wire Shelving, Black   \n",
      "15  Office Supplies                      SAFCO Boltless Steel Shelving   \n",
      "16  Office Supplies       GBC ProClick 150 Presentation Binding System   \n",
      "17  Office Supplies                    Premier Automatic Letter Opener   \n",
      "18  Office Supplies            GBC VeloBinder Electric Binding Machine   \n",
      "19  Office Supplies                  Fellowes Officeware Wire Shelving   \n",
      "20       Technology          Cubify CubeX 3D Printer Double Head Print   \n",
      "21       Technology          Lexmark MX611dhe Monochrome Laser Printer   \n",
      "22       Technology          Cubify CubeX 3D Printer Triple Head Print   \n",
      "23       Technology  Cisco TelePresence System EX90 Videoconferenci...   \n",
      "24       Technology  Epson TM-T88V Direct Thermal Printer - Monochr...   \n",
      "25       Technology  Zebra GK420t Direct Thermal/Thermal Transfer P...   \n",
      "26       Technology    StarTech.com 10/100 VDSL2 Ethernet Extender Kit   \n",
      "27       Technology        Lexmark MarkNet N8150 Wireless Print Server   \n",
      "28       Technology     3D Systems Cube Printer, 2nd Generation, White   \n",
      "29       Technology       Swingline SM12-08 MicroCut Jam Free Shredder   \n",
      "\n",
      "       Profit  \n",
      "0  -2876.1156  \n",
      "1  -1934.3976  \n",
      "2  -1201.0581  \n",
      "3  -1148.4375  \n",
      "4  -1147.4000  \n",
      "5   -989.0496  \n",
      "6   -975.0988  \n",
      "7   -964.1940  \n",
      "8   -856.0144  \n",
      "9   -795.9725  \n",
      "10 -1878.1662  \n",
      "11 -1299.1836  \n",
      "12  -872.0752  \n",
      "13  -825.7480  \n",
      "14  -635.4440  \n",
      "15  -470.4696  \n",
      "16  -461.3308  \n",
      "17  -427.8586  \n",
      "18  -411.3320  \n",
      "19  -332.3710  \n",
      "20 -8879.9704  \n",
      "21 -4589.9730  \n",
      "22 -3839.9904  \n",
      "23 -1811.0784  \n",
      "24 -1057.2300  \n",
      "25  -938.2800  \n",
      "26  -785.7620  \n",
      "27  -506.4570  \n",
      "28  -467.9964  \n",
      "29  -447.9888  \n"
     ]
    },
    {
     "name": "stderr",
     "output_type": "stream",
     "text": [
      "C:\\Users\\udite\\AppData\\Local\\Temp\\ipykernel_23320\\2543781562.py:3: FutureWarning: DataFrameGroupBy.apply operated on the grouping columns. This behavior is deprecated, and in a future version of pandas the grouping columns will be excluded from the operation. Either pass `include_groups=False` to exclude the groupings or explicitly select the grouping columns after groupby to silence this warning.\n",
      "  top_10_loss_making_products = products_per_category_loss.groupby('Category').apply(lambda x: x.nsmallest(10, 'Profit')).reset_index(drop=True)\n"
     ]
    }
   ],
   "source": [
    "# Question 167: Find top 10 loss-making products per category.\n",
    "products_per_category_loss = df.groupby(['Category', 'Product Name'])['Profit'].sum().reset_index()\n",
    "top_10_loss_making_products = products_per_category_loss.groupby('Category').apply(lambda x: x.nsmallest(10, 'Profit')).reset_index(drop=True)\n",
    "print(top_10_loss_making_products)"
   ]
  },
  {
   "cell_type": "code",
   "execution_count": 46,
   "id": "0f153187",
   "metadata": {},
   "outputs": [
    {
     "name": "stdout",
     "output_type": "stream",
     "text": [
      "Sub-category with highest sales: Phones\n"
     ]
    }
   ],
   "source": [
    "# Question 168: Find sub-category with highest sales.\n",
    "highest_sales_subcategory = df.groupby('Sub-Category')['Sales'].sum().idxmax()\n",
    "print(f\"Sub-category with highest sales: {highest_sales_subcategory}\")"
   ]
  },
  {
   "cell_type": "code",
   "execution_count": 47,
   "id": "be9decf4",
   "metadata": {},
   "outputs": [
    {
     "name": "stdout",
     "output_type": "stream",
     "text": [
      "Sub-category with lowest sales: Fasteners\n"
     ]
    }
   ],
   "source": [
    "# Question 169: Find sub-category with lowest sales.\n",
    "lowest_sales_subcategory = df.groupby('Sub-Category')['Sales'].sum().idxmin()\n",
    "print(f\"Sub-category with lowest sales: {lowest_sales_subcategory}\")"
   ]
  },
  {
   "cell_type": "code",
   "execution_count": 50,
   "id": "28450799",
   "metadata": {},
   "outputs": [
    {
     "name": "stdout",
     "output_type": "stream",
     "text": [
      "Sub-category with highest profit: Copiers\n"
     ]
    }
   ],
   "source": [
    "# Question 170: Find sub-category with highest profit.\n",
    "highest_profit_subcategory = df.groupby('Sub-Category')['Profit'].sum().idxmax()\n",
    "print(f\"Sub-category with highest profit: {highest_profit_subcategory}\")"
   ]
  },
  {
   "cell_type": "code",
   "execution_count": 51,
   "id": "49eebdb2",
   "metadata": {},
   "outputs": [
    {
     "name": "stdout",
     "output_type": "stream",
     "text": [
      "Sub-category with lowest profit: Tables\n"
     ]
    }
   ],
   "source": [
    "# Question 171: Find sub-category with lowest profit.\n",
    "lowest_profit_subcategory = df.groupby('Sub-Category')['Profit'].sum().idxmin()\n",
    "print(f\"Sub-category with lowest profit: {lowest_profit_subcategory}\")"
   ]
  },
  {
   "cell_type": "code",
   "execution_count": 53,
   "id": "59bc3f0c",
   "metadata": {},
   "outputs": [
    {
     "name": "stdout",
     "output_type": "stream",
     "text": [
      "Appliances\n"
     ]
    }
   ],
   "source": [
    "# Question 172: Find sub-category with maximum discount.\n",
    "highest_discount_subcategory = df.groupby('Sub-Category')['Discount'].max().idxmax()\n",
    "print(highest_discount_subcategory)"
   ]
  },
  {
   "cell_type": "code",
   "execution_count": 54,
   "id": "eacb1980",
   "metadata": {},
   "outputs": [
    {
     "name": "stdout",
     "output_type": "stream",
     "text": [
      "Accessories\n"
     ]
    }
   ],
   "source": [
    "# Question 173: Find sub-category with minimum discount.\n",
    "lowest_discount_subcategory = df.groupby('Sub-Category')['Discount'].min().idxmin()\n",
    "print(lowest_discount_subcategory)"
   ]
  },
  {
   "cell_type": "code",
   "execution_count": 55,
   "id": "f2cbcfc0",
   "metadata": {},
   "outputs": [
    {
     "name": "stdout",
     "output_type": "stream",
     "text": [
      "Category\n",
      "Furniture          741999.7953\n",
      "Office Supplies    719047.0320\n",
      "Technology         836154.0330\n",
      "Name: Sales, dtype: float64\n"
     ]
    }
   ],
   "source": [
    "# Question 174: Compare sales across categories.\n",
    "category_sales = df.groupby('Category')['Sales'].sum()\n",
    "print(category_sales)"
   ]
  },
  {
   "cell_type": "code",
   "execution_count": 56,
   "id": "15daa269",
   "metadata": {},
   "outputs": [
    {
     "name": "stdout",
     "output_type": "stream",
     "text": [
      "Category\n",
      "Furniture           18451.2728\n",
      "Office Supplies    122490.8008\n",
      "Technology         145454.9481\n",
      "Name: Profit, dtype: float64\n"
     ]
    }
   ],
   "source": [
    "# Question 175: Compare profit across categories.\n",
    "category_profit = df.groupby('Category')['Profit'].sum()\n",
    "print(category_profit)"
   ]
  },
  {
   "cell_type": "code",
   "execution_count": 57,
   "id": "7f359cbd",
   "metadata": {},
   "outputs": [
    {
     "name": "stdout",
     "output_type": "stream",
     "text": [
      "Category\n",
      "Furniture          0.173923\n",
      "Office Supplies    0.157285\n",
      "Technology         0.132323\n",
      "Name: Discount, dtype: float64\n"
     ]
    }
   ],
   "source": [
    "# Question 176: Compare average discount across categories.\n",
    "avg_discount_category = df.groupby('Category')['Discount'].mean()\n",
    "print(avg_discount_category)"
   ]
  },
  {
   "cell_type": "code",
   "execution_count": 58,
   "id": "47e19314",
   "metadata": {},
   "outputs": [
    {
     "name": "stdout",
     "output_type": "stream",
     "text": [
      "Category\n",
      "Furniture           8028\n",
      "Office Supplies    22906\n",
      "Technology          6939\n",
      "Name: Quantity, dtype: int64\n"
     ]
    }
   ],
   "source": [
    "# Question 177: Compare quantity sold across categories.\n",
    "quantity_sold_category = df.groupby('Category')['Quantity'].sum()\n",
    "print(quantity_sold_category)"
   ]
  },
  {
   "cell_type": "code",
   "execution_count": 59,
   "id": "70e8b3e8",
   "metadata": {},
   "outputs": [
    {
     "name": "stdout",
     "output_type": "stream",
     "text": [
      "0.5897216185996697\n"
     ]
    }
   ],
   "source": [
    "# Question 178: Find correlation between sales and profit per product.\n",
    "product_summary = df.groupby('Product Name')[['Sales', 'Profit']].sum().reset_index()\n",
    "correaltion_sales_profit = product_summary['Sales'].corr(product_summary['Profit'])\n",
    "print(correaltion_sales_profit)\n"
   ]
  },
  {
   "cell_type": "code",
   "execution_count": 60,
   "id": "02e0c93c",
   "metadata": {},
   "outputs": [
    {
     "name": "stdout",
     "output_type": "stream",
     "text": [
      "-0.048862033464044496\n"
     ]
    }
   ],
   "source": [
    "# Question 179: Find correlation between discount and profit per product.\n",
    "product_summary = df.groupby('Product Name')[['Discount', 'Profit']].sum().reset_index()\n",
    "correaltion_discount_profit = product_summary['Discount'].corr(product_summary['Profit'])\n",
    "print(correaltion_discount_profit)"
   ]
  },
  {
   "cell_type": "code",
   "execution_count": 61,
   "id": "ab6b26a5",
   "metadata": {},
   "outputs": [
    {
     "name": "stdout",
     "output_type": "stream",
     "text": [
      "     Region Sub-Category      Profit\n",
      "0   Central      Copiers  15608.8413\n",
      "1   Central       Phones  12323.0267\n",
      "2   Central  Accessories   7251.6306\n",
      "3   Central        Paper   6971.9005\n",
      "4   Central       Chairs   6592.7221\n",
      "5      East      Copiers  17022.8418\n",
      "6      East       Phones  12314.6860\n",
      "7      East      Binders  11267.9346\n",
      "8      East  Accessories  11195.8644\n",
      "9      East       Chairs   9357.7706\n",
      "10    South       Phones  10767.2753\n",
      "11    South  Accessories   7004.5424\n",
      "12    South       Chairs   6612.0893\n",
      "13    South        Paper   5947.0614\n",
      "14    South   Appliances   4123.9396\n",
      "15     West      Copiers  19327.2351\n",
      "16     West  Accessories  16484.5983\n",
      "17     West      Binders  16096.8016\n",
      "18     West        Paper  12119.2364\n",
      "19     West       Phones   9110.7426\n"
     ]
    },
    {
     "name": "stderr",
     "output_type": "stream",
     "text": [
      "C:\\Users\\udite\\AppData\\Local\\Temp\\ipykernel_23320\\3709913337.py:3: FutureWarning: DataFrameGroupBy.apply operated on the grouping columns. This behavior is deprecated, and in a future version of pandas the grouping columns will be excluded from the operation. Either pass `include_groups=False` to exclude the groupings or explicitly select the grouping columns after groupby to silence this warning.\n",
      "  top_5_profitable_subcategories = top_5_profitable_subcategories.groupby('Region').apply(lambda x: x.nlargest(5, 'Profit')).reset_index(drop=True)\n"
     ]
    }
   ],
   "source": [
    "# Question 180: Find top 5 profitable sub-categories in each region.\n",
    "top_5_profitable_subcategories = df.groupby(['Region', 'Sub-Category'])['Profit'].sum().reset_index()\n",
    "top_5_profitable_subcategories = top_5_profitable_subcategories.groupby('Region').apply(lambda x: x.nlargest(5, 'Profit')).reset_index(drop=True)\n",
    "print(top_5_profitable_subcategories)"
   ]
  },
  {
   "cell_type": "code",
   "execution_count": 62,
   "id": "fed0c35c",
   "metadata": {},
   "outputs": [
    {
     "name": "stdout",
     "output_type": "stream",
     "text": [
      "         State                                       Product Name     Profit\n",
      "0      Alabama  Hewlett-Packard Deskjet 3050a All-in-One Color...  1459.2000\n",
      "1      Alabama  Logitech Z-906 Speaker sys - home theater - 5....   527.9840\n",
      "2      Alabama                    Avaya IP Phone 1140E VoIP phone   362.6870\n",
      "3      Alabama  SAFCO PlanMaster Boards, 60w x 37-1/2d, White ...   316.1392\n",
      "4      Alabama  Brother DCP1000 Digital 3 in 1 Multifunction M...   314.9895\n",
      "..         ...                                                ...        ...\n",
      "235  Wisconsin  Hon Deluxe Fabric Upholstered Stacking Chairs,...   585.5520\n",
      "236  Wisconsin  Plantronics CS510 - Over-the-Head monaural Wir...   544.4175\n",
      "237  Wisconsin        Lifetime Advantage Folding Chairs, 4/Carton   427.4368\n",
      "238  Wisconsin  Atlantic Metals Mobile 3-Shelf Bookcases, Cust...   407.1288\n",
      "239    Wyoming      Global Troy Executive Leather Low-Back Tilter   100.1960\n",
      "\n",
      "[240 rows x 3 columns]\n"
     ]
    },
    {
     "name": "stderr",
     "output_type": "stream",
     "text": [
      "C:\\Users\\udite\\AppData\\Local\\Temp\\ipykernel_23320\\3113790194.py:3: FutureWarning: DataFrameGroupBy.apply operated on the grouping columns. This behavior is deprecated, and in a future version of pandas the grouping columns will be excluded from the operation. Either pass `include_groups=False` to exclude the groupings or explicitly select the grouping columns after groupby to silence this warning.\n",
      "  top_5_profitable_products_state = top_5_profitable_products_state.groupby('State').apply(lambda x: x.nlargest(5, 'Profit')).reset_index(drop=True)\n"
     ]
    }
   ],
   "source": [
    "# Question 181: Find top 5 profitable products in each state.\n",
    "top_5_profitable_products_state = df.groupby(['State', 'Product Name'])['Profit'].sum().reset_index()\n",
    "top_5_profitable_products_state = top_5_profitable_products_state.groupby('State').apply(lambda x: x.nlargest(5, 'Profit')).reset_index(drop=True)\n",
    "print(top_5_profitable_products_state)"
   ]
  },
  {
   "cell_type": "code",
   "execution_count": 63,
   "id": "48bc5516",
   "metadata": {},
   "outputs": [
    {
     "name": "stdout",
     "output_type": "stream",
     "text": [
      "     Region         Category      Profit\n",
      "2   Central       Technology  33697.4320\n",
      "5      East       Technology  47462.0351\n",
      "8     South       Technology  19991.8314\n",
      "10     West  Office Supplies  52609.8490\n"
     ]
    }
   ],
   "source": [
    "# Question 182: Find most profitable category in each region.\n",
    "most_profitable_category_region = df.groupby(['Region', 'Category'])['Profit'].sum().reset_index()\n",
    "most_profitable_category_region = most_profitable_category_region.loc[most_profitable_category_region.groupby('Region')['Profit'].idxmax()]\n",
    "print(most_profitable_category_region)"
   ]
  },
  {
   "cell_type": "code",
   "execution_count": 64,
   "id": "b3678496",
   "metadata": {},
   "outputs": [
    {
     "name": "stdout",
     "output_type": "stream",
     "text": [
      "                    State Sub-Category      Profit\n",
      "10                Alabama     Machines   1459.2000\n",
      "27                Arizona        Paper    842.0394\n",
      "34               Arkansas      Binders   1356.2052\n",
      "45             California  Accessories  11095.6565\n",
      "67               Colorado       Chairs    556.5216\n",
      "84            Connecticut       Chairs    696.2570\n",
      "99               Delaware      Copiers   5039.9856\n",
      "113  District of Columbia     Machines    648.5624\n",
      "128               Florida       Phones   1354.7557\n",
      "135               Georgia      Binders   5717.3075\n",
      "157                 Idaho       Tables    419.7063\n",
      "164              Illinois      Copiers   1831.9666\n",
      "180               Indiana      Copiers   8849.9670\n",
      "192                  Iowa       Chairs    394.2680\n",
      "203                Kansas      Binders    279.4432\n",
      "216              Kentucky       Chairs   2552.2605\n",
      "228             Louisiana  Accessories    593.5582\n",
      "248                 Maine       Phones    131.3550\n",
      "252              Maryland      Binders   1595.5108\n",
      "276         Massachusetts       Phones   1016.1553\n",
      "283              Michigan      Binders  11079.5050\n",
      "300             Minnesota      Binders   6041.2760\n",
      "312           Mississippi  Accessories    754.6503\n",
      "332              Missouri      Copiers   2536.9632\n",
      "343               Montana      Copiers   1379.9770\n",
      "358              Nebraska       Phones    891.6315\n",
      "364                Nevada      Binders   1768.4430\n",
      "376         New Hampshire  Accessories    655.2223\n",
      "398            New Jersey     Machines   2709.9522\n",
      "411            New Mexico        Paper    298.9394\n",
      "426              New York     Machines  17320.0762\n",
      "444        North Carolina        Paper    898.8403\n",
      "452          North Dakota      Storage    162.0948\n",
      "453                  Ohio  Accessories   1452.8701\n",
      "480              Oklahoma       Phones   1185.2144\n",
      "495                Oregon        Paper    324.0580\n",
      "506          Pennsylvania      Copiers   1735.9829\n",
      "523          Rhode Island      Copiers   3491.9388\n",
      "533        South Carolina       Chairs    543.0760\n",
      "540          South Dakota  Accessories    133.8966\n",
      "559             Tennessee        Paper    363.8583\n",
      "577                 Texas       Phones   3222.4608\n",
      "590                  Utah        Paper    553.4284\n",
      "598               Vermont    Bookcases   1013.1270\n",
      "615              Virginia     Machines   2890.2711\n",
      "627            Washington      Copiers   9442.4242\n",
      "639         West Virginia        Paper    219.4416\n",
      "646             Wisconsin       Chairs   2737.4205\n",
      "655               Wyoming       Chairs    100.1960\n"
     ]
    }
   ],
   "source": [
    "# Question 183: Find most profitable sub-category in each state.\n",
    "most_profitable_subcategory_state = df.groupby(['State', 'Sub-Category'])['Profit'].sum().reset_index()\n",
    "most_profitable_subcategory_state = most_profitable_subcategory_state.loc[most_profitable_subcategory_state.groupby('State')['Profit'].idxmax()]\n",
    "print(most_profitable_subcategory_state)"
   ]
  },
  {
   "cell_type": "code",
   "execution_count": null,
   "id": "2e2d46b2",
   "metadata": {},
   "outputs": [
    {
     "name": "stdout",
     "output_type": "stream",
     "text": [
      "Category\n",
      "Furniture           2.486695\n",
      "Office Supplies    17.035158\n",
      "Technology         17.395712\n",
      "dtype: float64\n"
     ]
    },
    {
     "name": "stderr",
     "output_type": "stream",
     "text": [
      "C:\\Users\\udite\\AppData\\Local\\Temp\\ipykernel_23320\\2394403601.py:2: FutureWarning: DataFrameGroupBy.apply operated on the grouping columns. This behavior is deprecated, and in a future version of pandas the grouping columns will be excluded from the operation. Either pass `include_groups=False` to exclude the groupings or explicitly select the grouping columns after groupby to silence this warning.\n",
      "  avg_profit_margin_category = df.groupby('Category').apply(lambda x: (x['Profit'].sum() / x['Sales'].sum()) * 100)\n"
     ]
    }
   ],
   "source": [
    "# Question 184: Find average profit margin per category.\n",
    "# IMP\n",
    "avg_profit_margin_category = df.groupby('Category').apply(lambda x: (x['Profit'].sum() / x['Sales'].sum()) * 100)\n",
    "print(avg_profit_margin_category)"
   ]
  },
  {
   "cell_type": "code",
   "execution_count": 66,
   "id": "77f6ceff",
   "metadata": {},
   "outputs": [
    {
     "name": "stdout",
     "output_type": "stream",
     "text": [
      "Sub-Category\n",
      "Accessories    25.054700\n",
      "Appliances     16.867517\n",
      "Art            24.071083\n",
      "Binders        14.857361\n",
      "Bookcases      -3.022768\n",
      "Chairs          8.095673\n",
      "Copiers        37.195585\n",
      "Envelopes      42.267582\n",
      "Fasteners      31.396504\n",
      "Furnishings    14.240358\n",
      "Labels         44.418672\n",
      "Machines        1.788618\n",
      "Paper          43.391837\n",
      "Phones         13.489327\n",
      "Storage         9.506113\n",
      "Supplies       -2.547695\n",
      "Tables         -8.564460\n",
      "dtype: float64\n"
     ]
    },
    {
     "name": "stderr",
     "output_type": "stream",
     "text": [
      "C:\\Users\\udite\\AppData\\Local\\Temp\\ipykernel_23320\\3500689513.py:2: FutureWarning: DataFrameGroupBy.apply operated on the grouping columns. This behavior is deprecated, and in a future version of pandas the grouping columns will be excluded from the operation. Either pass `include_groups=False` to exclude the groupings or explicitly select the grouping columns after groupby to silence this warning.\n",
      "  avg_profit_margin_subcategory = df.groupby('Sub-Category').apply(lambda x: (x['Profit'].sum() / x['Sales'].sum()) * 100)\n"
     ]
    }
   ],
   "source": [
    "# Question 185: Find average profit margin per sub-category.\n",
    "avg_profit_margin_subcategory = df.groupby('Sub-Category').apply(lambda x: (x['Profit'].sum() / x['Sales'].sum()) * 100)\n",
    "print(avg_profit_margin_subcategory)"
   ]
  },
  {
   "cell_type": "code",
   "execution_count": 74,
   "id": "54980ae0",
   "metadata": {},
   "outputs": [
    {
     "name": "stdout",
     "output_type": "stream",
     "text": [
      "Product Name\n",
      "Adams Telephone Message Book w/Frequently-Called Numbers Space, 400 Messages per Book    50.0\n",
      "Avery 475                                                                                50.0\n",
      "Canon imageCLASS MF7460 Monochrome Digital Laser Multifunction Copier                    50.0\n",
      "Southworth Structures Collection                                                         50.0\n",
      "Tops Green Bar Computer Printout Paper                                                   50.0\n",
      "Xerox 1890                                                                               50.0\n",
      "dtype: float64\n"
     ]
    },
    {
     "name": "stderr",
     "output_type": "stream",
     "text": [
      "C:\\Users\\udite\\AppData\\Local\\Temp\\ipykernel_23320\\4067438751.py:2: FutureWarning: DataFrameGroupBy.apply operated on the grouping columns. This behavior is deprecated, and in a future version of pandas the grouping columns will be excluded from the operation. Either pass `include_groups=False` to exclude the groupings or explicitly select the grouping columns after groupby to silence this warning.\n",
      "  max_profit_margin_product = df.groupby('Product Name').apply(lambda x: (x['Profit'].sum() / x['Sales'].sum()) * 100)\n"
     ]
    }
   ],
   "source": [
    "# Question 186: Find product with maximum profit margin.\n",
    "max_profit_margin_product = df.groupby('Product Name').apply(lambda x: (x['Profit'].sum() / x['Sales'].sum()) * 100)\n",
    "max_profit_margin_product = max_profit_margin_product[max_profit_margin_product == max_profit_margin_product.max()]\n",
    "print(max_profit_margin_product)\n"
   ]
  },
  {
   "cell_type": "code",
   "execution_count": 75,
   "id": "cca87451",
   "metadata": {},
   "outputs": [
    {
     "name": "stdout",
     "output_type": "stream",
     "text": [
      "Product Name\n",
      "Eureka Disposable Bags for Sanitaire Vibra Groomer I Upright Vac   -275.0\n",
      "dtype: float64\n"
     ]
    },
    {
     "name": "stderr",
     "output_type": "stream",
     "text": [
      "C:\\Users\\udite\\AppData\\Local\\Temp\\ipykernel_23320\\132188442.py:3: FutureWarning: DataFrameGroupBy.apply operated on the grouping columns. This behavior is deprecated, and in a future version of pandas the grouping columns will be excluded from the operation. Either pass `include_groups=False` to exclude the groupings or explicitly select the grouping columns after groupby to silence this warning.\n",
      "  min_profit_margin_prodyct = df.groupby('Product Name').apply(lambda x: (x['Profit'].sum() / x['Sales'].sum()) * 100)\n"
     ]
    }
   ],
   "source": [
    "# Question 187: Find product with minimum profit margin.\n",
    "\n",
    "min_profit_margin_prodyct = df.groupby('Product Name').apply(lambda x: (x['Profit'].sum() / x['Sales'].sum()) * 100)\n",
    "min_profit_margin_product = min_profit_margin_prodyct[min_profit_margin_prodyct == min_profit_margin_prodyct.min()]\n",
    "print(min_profit_margin_product)"
   ]
  },
  {
   "cell_type": "code",
   "execution_count": null,
   "id": "2d9deee5",
   "metadata": {},
   "outputs": [
    {
     "name": "stdout",
     "output_type": "stream",
     "text": [
      "Product Name    Cisco TelePresence System EX90 Videoconferenci...\n",
      "Sales                                                    22638.48\n",
      "Profit                                                 -1811.0784\n",
      "Name: 444, dtype: object\n"
     ]
    }
   ],
   "source": [
    "# Question 188: Find product with highest sales but negative profit.\n",
    "# IMP\n",
    "product_summary = df.groupby('Product Name')[['Sales','Profit']].sum().reset_index()\n",
    "negative_profit_products = product_summary[product_summary['Profit'] < 0]\n",
    "highest_sales_negative_profit_product = negative_profit_products.loc[negative_profit_products['Sales'].idxmax()]\n",
    "print(highest_sales_negative_profit_product)\n"
   ]
  },
  {
   "cell_type": "code",
   "execution_count": null,
   "id": "6d1946de",
   "metadata": {},
   "outputs": [
    {
     "name": "stdout",
     "output_type": "stream",
     "text": [
      "Product Name    Storex Dura Pro Binders\n",
      "Discount                            7.2\n",
      "Profit                          50.5494\n",
      "Name: 1511, dtype: object\n"
     ]
    }
   ],
   "source": [
    "# Question 189: Find product with highest discount but positive profit.\n",
    "# IMP\n",
    "product_summary = df.groupby('Product Name')[['Discount','Profit']].sum().reset_index()\n",
    "positive_profit_highest_discount_product = product_summary[product_summary['Profit'] > 0]\n",
    "positive_profit_highest_discount_product = positive_profit_highest_discount_product.loc[positive_profit_highest_discount_product['Discount'].idxmax()]\n",
    "print(positive_profit_highest_discount_product)"
   ]
  },
  {
   "cell_type": "code",
   "execution_count": null,
   "id": "278428be",
   "metadata": {},
   "outputs": [
    {
     "name": "stdout",
     "output_type": "stream",
     "text": [
      "23\n",
      "Product Name\n",
      "Easy-staple paper    23\n",
      "Name: State, dtype: int64\n"
     ]
    }
   ],
   "source": [
    "# Question 190: Find product sold in maximum number of states.\n",
    "states_per_product = df.groupby('Product Name')['State'].nunique()\n",
    "# print(states_per_product.max())\n",
    "max_states_product = states_per_product[states_per_product == states_per_product.max()]\n",
    "print(max_states_product)"
   ]
  },
  {
   "cell_type": "code",
   "execution_count": 82,
   "id": "37bfa4ba",
   "metadata": {},
   "outputs": [
    {
     "name": "stdout",
     "output_type": "stream",
     "text": [
      "Product Name\n",
      "4009 Highlighters                                       1\n",
      "AT&T EL51110 DECT                                       1\n",
      "Acco Glide Clips                                        1\n",
      "Ativa V4110MDD Micro-Cut Shredder                       1\n",
      "Avaya IP Phone 1140E VoIP phone                         1\n",
      "                                                       ..\n",
      "Xerox Blank Computer Paper                              1\n",
      "Xerox WorkCentre 6505DN Laser Multifunction Printer     1\n",
      "Xiaomi Mi3                                              1\n",
      "Zebra GK420t Direct Thermal/Thermal Transfer Printer    1\n",
      "Zebra ZM400 Thermal Label Printer                       1\n",
      "Name: State, Length: 114, dtype: int64\n"
     ]
    }
   ],
   "source": [
    "# Question 191: Find product sold in minimum number of states.\n",
    "min_states_product = states_per_product[states_per_product == states_per_product.min()]\n",
    "print(min_states_product)\n"
   ]
  },
  {
   "cell_type": "code",
   "execution_count": 83,
   "id": "9fab7fce",
   "metadata": {},
   "outputs": [
    {
     "name": "stdout",
     "output_type": "stream",
     "text": [
      "Product Name\n",
      "#10 White Business Envelopes,4 1/8 x 9 1/2                             4\n",
      "#10- 4 1/8\" x 9 1/2\" Recycled Envelopes                                4\n",
      "12-1/2 Diameter Round Wall Clock                                       4\n",
      "3M Hangers With Command Adhesive                                       4\n",
      "4009 Highlighters by Sanford                                           4\n",
      "                                                                      ..\n",
      "Xerox 232                                                              4\n",
      "Xerox 4200 Series MultiUse Premium Copy Paper (20Lb. and 84 Bright)    4\n",
      "XtraLife ClearVue Slant-D Ring Binder, White, 3\"                       4\n",
      "XtraLife ClearVue Slant-D Ring Binders by Cardinal                     4\n",
      "Zipper Ring Binder Pockets                                             4\n",
      "Name: Region, Length: 482, dtype: int64\n"
     ]
    }
   ],
   "source": [
    "# Question 192: Find product sold in maximum number of regions.\n",
    "regions_per_product = df.groupby('Product Name')['Region'].nunique()\n",
    "max_regions_product = regions_per_product[regions_per_product == regions_per_product.max()]\n",
    "print(max_regions_product)"
   ]
  },
  {
   "cell_type": "code",
   "execution_count": 84,
   "id": "f90f7176",
   "metadata": {},
   "outputs": [
    {
     "name": "stdout",
     "output_type": "stream",
     "text": [
      "Product Name\n",
      "1/4 Fold Party Design Invitations & White Envelopes, 24 8-1/2\" X 11\" Cards, 25 Env./Pack    1\n",
      "3D Systems Cube Printer, 2nd Generation, Magenta                                            1\n",
      "4009 Highlighters                                                                           1\n",
      "AT&T EL51110 DECT                                                                           1\n",
      "Acco Glide Clips                                                                            1\n",
      "                                                                                           ..\n",
      "Xerox Blank Computer Paper                                                                  1\n",
      "Xerox WorkCentre 6505DN Laser Multifunction Printer                                         1\n",
      "Xiaomi Mi3                                                                                  1\n",
      "Zebra GK420t Direct Thermal/Thermal Transfer Printer                                        1\n",
      "Zebra ZM400 Thermal Label Printer                                                           1\n",
      "Name: Region, Length: 163, dtype: int64\n"
     ]
    }
   ],
   "source": [
    "# Question 193: Find product sold in minimum number of regions.\n",
    "min_regions_product = regions_per_product[regions_per_product == regions_per_product.min()]\n",
    "print(min_regions_product)"
   ]
  },
  {
   "cell_type": "code",
   "execution_count": null,
   "id": "6fcfc467",
   "metadata": {},
   "outputs": [
    {
     "name": "stdout",
     "output_type": "stream",
     "text": [
      "Category\n",
      "Technology    36.398821\n",
      "Name: Sales, dtype: float64\n"
     ]
    }
   ],
   "source": [
    "# Question 194: Find category with maximum contribution to total sales.\n",
    "# IMP\n",
    "sales_per_category = df.groupby('Category')['Sales'].sum()\n",
    "total_sales = sales_per_category.sum()\n",
    "contribution_percentage = sales_per_category / total_sales * 100\n",
    "max_contribution_category = contribution_percentage[contribution_percentage == contribution_percentage.max()]\n",
    "print(max_contribution_category)"
   ]
  },
  {
   "cell_type": "code",
   "execution_count": 89,
   "id": "ffb6f140",
   "metadata": {},
   "outputs": [
    {
     "name": "stdout",
     "output_type": "stream",
     "text": [
      "Category\n",
      "Technology    50.78787\n",
      "Name: Profit, dtype: float64\n"
     ]
    }
   ],
   "source": [
    "# Question 195: Find category with maximum contribution to total profit.\n",
    "# IMP\n",
    "profit_per_category = df.groupby('Category')['Profit'].sum()\n",
    "total_profit = profit_per_category.sum()\n",
    "contribution_percentage_profit = profit_per_category / total_profit * 100\n",
    "max_contribution_profit_category = contribution_percentage_profit[contribution_percentage_profit == contribution_percentage_profit.max()]\n",
    "print(max_contribution_profit_category)\n"
   ]
  },
  {
   "cell_type": "code",
   "execution_count": 90,
   "id": "20343cb4",
   "metadata": {},
   "outputs": [
    {
     "name": "stdout",
     "output_type": "stream",
     "text": [
      "Category\n",
      "Office Supplies    31.301008\n",
      "Name: Sales, dtype: float64\n"
     ]
    }
   ],
   "source": [
    "# Question 196: Find category with minimum contribution to sales.\n",
    "min_contribution_category = contribution_percentage[contribution_percentage == contribution_percentage.min()]\n",
    "print(min_contribution_category)"
   ]
  },
  {
   "cell_type": "code",
   "execution_count": 91,
   "id": "2d30bf69",
   "metadata": {},
   "outputs": [
    {
     "name": "stdout",
     "output_type": "stream",
     "text": [
      "Category\n",
      "Furniture    6.442551\n",
      "Name: Profit, dtype: float64\n"
     ]
    }
   ],
   "source": [
    "# Question 197: Find category with minimum contribution to profit.\n",
    "min_contribution_profit_category = contribution_percentage_profit[contribution_percentage_profit == contribution_percentage_profit.min()]\n",
    "print(min_contribution_profit_category)\n"
   ]
  },
  {
   "cell_type": "code",
   "execution_count": null,
   "id": "bc833295",
   "metadata": {},
   "outputs": [
    {
     "name": "stdout",
     "output_type": "stream",
     "text": [
      "Category\n",
      "Technology         2029.500080\n",
      "Furniture          1952.631040\n",
      "Office Supplies     679.628575\n",
      "Name: Sales, dtype: float64\n",
      "Category\n",
      "Technology         1.0\n",
      "Furniture          2.0\n",
      "Office Supplies    3.0\n",
      "Name: Sales, dtype: float64\n"
     ]
    }
   ],
   "source": [
    "# Question 198: Rank categories by average sales per product.\n",
    "# IMP\n",
    "product_sales = df.groupby(['Category', 'Product Name'])['Sales'].sum().reset_index()\n",
    "avg_sales_per_category = product_sales.groupby('Category')['Sales'].mean().sort_values(ascending=False)\n",
    "print(avg_sales_per_category)\n",
    "ranked_avg_sales_per_category = avg_sales_per_category.rank(ascending=False)\n",
    "print(ranked_avg_sales_per_category)"
   ]
  },
  {
   "cell_type": "code",
   "execution_count": 95,
   "id": "ebb9f1a5",
   "metadata": {},
   "outputs": [
    {
     "name": "stdout",
     "output_type": "stream",
     "text": [
      "Sub-Category\n",
      "Copiers        4278.294223\n",
      "Chairs          302.160981\n",
      "Accessories     285.283236\n",
      "Phones          235.532966\n",
      "Appliances      186.989746\n",
      "Storage         161.203230\n",
      "Envelopes       158.276743\n",
      "Binders         143.231106\n",
      "Paper           122.937073\n",
      "Labels           79.232200\n",
      "Furnishings      70.210449\n",
      "Machines         53.726300\n",
      "Art              41.578261\n",
      "Fasteners        27.927006\n",
      "Supplies        -33.030542\n",
      "Bookcases       -69.451120\n",
      "Tables         -316.526448\n",
      "Name: Profit, dtype: float64\n",
      "Sub-Category\n",
      "Copiers         1.0\n",
      "Chairs          2.0\n",
      "Accessories     3.0\n",
      "Phones          4.0\n",
      "Appliances      5.0\n",
      "Storage         6.0\n",
      "Envelopes       7.0\n",
      "Binders         8.0\n",
      "Paper           9.0\n",
      "Labels         10.0\n",
      "Furnishings    11.0\n",
      "Machines       12.0\n",
      "Art            13.0\n",
      "Fasteners      14.0\n",
      "Supplies       15.0\n",
      "Bookcases      16.0\n",
      "Tables         17.0\n",
      "Name: Profit, dtype: float64\n"
     ]
    }
   ],
   "source": [
    "# Question 199: Rank sub-categories by average profit per product.\n",
    "product_profit = df.groupby(['Sub-Category', 'Product Name'])['Profit'].sum().reset_index()\n",
    "avg_profit_per_subcategory = product_profit.groupby('Sub-Category')['Profit'].mean().sort_values(ascending=False)\n",
    "print(avg_profit_per_subcategory)\n",
    "ranked_avg_profit_per_subcategory = avg_profit_per_subcategory.rank(ascending=False)\n",
    "print(ranked_avg_profit_per_subcategory)"
   ]
  },
  {
   "cell_type": "code",
   "execution_count": 96,
   "id": "41bd4d54",
   "metadata": {},
   "outputs": [
    {
     "name": "stdout",
     "output_type": "stream",
     "text": [
      "Product Name\n",
      "Eureka Disposable Bags for Sanitaire Vibra Groomer I Upright Vac    0.800000\n",
      "GBC Plasticlear Binding Covers                                      0.728571\n",
      "GBC VeloBinder Electric Binding Machine                             0.725000\n",
      "Epson Perfection V600 Photo Scanner                                 0.700000\n",
      "Lexmark MarkNet N8150 Wireless Print Server                         0.700000\n",
      "                                                                      ...   \n",
      "Xerox 1969                                                          0.000000\n",
      "Eldon 200 Class Desk Accessories, Smoke                             0.000000\n",
      "Eldon 200 Class Desk Accessories, Black                             0.000000\n",
      "Zebra ZM400 Thermal Label Printer                                   0.000000\n",
      "Xiaomi Mi3                                                          0.000000\n",
      "Name: Discount, Length: 1850, dtype: float64\n",
      "Product Name\n",
      "Eureka Disposable Bags for Sanitaire Vibra Groomer I Upright Vac       1.0\n",
      "GBC Plasticlear Binding Covers                                         2.0\n",
      "GBC VeloBinder Electric Binding Machine                                3.0\n",
      "Epson Perfection V600 Photo Scanner                                    8.0\n",
      "Lexmark MarkNet N8150 Wireless Print Server                            8.0\n",
      "                                                                     ...  \n",
      "Xerox 1969                                                          1754.0\n",
      "Eldon 200 Class Desk Accessories, Smoke                             1754.0\n",
      "Eldon 200 Class Desk Accessories, Black                             1754.0\n",
      "Zebra ZM400 Thermal Label Printer                                   1754.0\n",
      "Xiaomi Mi3                                                          1754.0\n",
      "Name: Discount, Length: 1850, dtype: float64\n"
     ]
    }
   ],
   "source": [
    "# Question 200: Rank products by average discount.\n",
    "# IMP\n",
    "avg_discount_per_product = df.groupby('Product Name')['Discount'].mean().sort_values(ascending=False)\n",
    "print(avg_discount_per_product)\n",
    "ranked_avg_discount_per_product = avg_discount_per_product.rank(ascending=False)\n",
    "print(ranked_avg_discount_per_product)"
   ]
  }
 ],
 "metadata": {
  "kernelspec": {
   "display_name": "Python 3",
   "language": "python",
   "name": "python3"
  },
  "language_info": {
   "codemirror_mode": {
    "name": "ipython",
    "version": 3
   },
   "file_extension": ".py",
   "mimetype": "text/x-python",
   "name": "python",
   "nbconvert_exporter": "python",
   "pygments_lexer": "ipython3",
   "version": "3.13.2"
  }
 },
 "nbformat": 4,
 "nbformat_minor": 5
}
