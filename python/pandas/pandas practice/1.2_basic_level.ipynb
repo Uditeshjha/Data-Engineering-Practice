{
 "cells": [
  {
   "cell_type": "code",
   "execution_count": 1,
   "id": "ab51eb4f",
   "metadata": {},
   "outputs": [],
   "source": [
    "import numpy as np\n",
    "import pandas as pd"
   ]
  },
  {
   "cell_type": "code",
   "execution_count": 2,
   "id": "e12a6dd1",
   "metadata": {},
   "outputs": [
    {
     "name": "stdout",
     "output_type": "stream",
     "text": [
      "   Row ID        Order ID Order Date  Ship Date       Ship Mode Customer ID  \\\n",
      "0       1  CA-2016-152156 2016-11-08 2016-11-11    Second Class    CG-12520   \n",
      "1       2  CA-2016-152156 2016-11-08 2016-11-11    Second Class    CG-12520   \n",
      "2       3  CA-2016-138688 2016-06-12 2016-06-16    Second Class    DV-13045   \n",
      "3       4  US-2015-108966 2015-10-11 2015-10-18  Standard Class    SO-20335   \n",
      "4       5  US-2015-108966 2015-10-11 2015-10-18  Standard Class    SO-20335   \n",
      "\n",
      "     Customer Name    Segment        Country             City  ...  \\\n",
      "0      Claire Gute   Consumer  United States        Henderson  ...   \n",
      "1      Claire Gute   Consumer  United States        Henderson  ...   \n",
      "2  Darrin Van Huff  Corporate  United States      Los Angeles  ...   \n",
      "3   Sean O'Donnell   Consumer  United States  Fort Lauderdale  ...   \n",
      "4   Sean O'Donnell   Consumer  United States  Fort Lauderdale  ...   \n",
      "\n",
      "  Postal Code  Region       Product ID         Category Sub-Category  \\\n",
      "0       42420   South  FUR-BO-10001798        Furniture    Bookcases   \n",
      "1       42420   South  FUR-CH-10000454        Furniture       Chairs   \n",
      "2       90036    West  OFF-LA-10000240  Office Supplies       Labels   \n",
      "3       33311   South  FUR-TA-10000577        Furniture       Tables   \n",
      "4       33311   South  OFF-ST-10000760  Office Supplies      Storage   \n",
      "\n",
      "                                        Product Name     Sales  Quantity  \\\n",
      "0                  Bush Somerset Collection Bookcase  261.9600         2   \n",
      "1  Hon Deluxe Fabric Upholstered Stacking Chairs,...  731.9400         3   \n",
      "2  Self-Adhesive Address Labels for Typewriters b...   14.6200         2   \n",
      "3      Bretford CR4500 Series Slim Rectangular Table  957.5775         5   \n",
      "4                     Eldon Fold 'N Roll Cart System   22.3680         2   \n",
      "\n",
      "   Discount    Profit  \n",
      "0      0.00   41.9136  \n",
      "1      0.00  219.5820  \n",
      "2      0.00    6.8714  \n",
      "3      0.45 -383.0310  \n",
      "4      0.20    2.5164  \n",
      "\n",
      "[5 rows x 21 columns]\n",
      "(9994, 21)\n"
     ]
    }
   ],
   "source": [
    "df = pd.read_excel('Sample - Superstore.xls')\n",
    "print(df.head())\n",
    "print(df.shape)"
   ]
  },
  {
   "cell_type": "code",
   "execution_count": 3,
   "metadata": {},
   "outputs": [
    {
     "name": "stdout",
     "output_type": "stream",
     "text": [
      "year\n",
      "2017    3312\n",
      "2016    2587\n",
      "2015    2102\n",
      "2014    1993\n",
      "Name: count, dtype: int64\n",
      "quarter\n",
      "4    3698\n",
      "3    2799\n",
      "2    2120\n",
      "1    1377\n",
      "Name: count, dtype: int64\n",
      "month\n",
      "11    1471\n",
      "12    1408\n",
      "9     1383\n",
      "10     819\n",
      "5      735\n",
      "6      717\n",
      "7      710\n",
      "8      706\n",
      "3      696\n",
      "4      668\n",
      "1      381\n",
      "2      300\n",
      "Name: count, dtype: int64\n"
     ]
    }
   ],
   "source": [
    "df['year'] = df['Order Date'].dt.year\n",
    "print(df['year'].value_counts())\n",
    "\n",
    "df['quarter'] = df['Order Date'].dt.quarter\n",
    "print(df['quarter'].value_counts())\n",
    "\n",
    "df['month'] = df['Order Date'].dt.month\n",
    "print(df['month'].value_counts())\n",
    "\n",
    "\n",
    "\n"
   ]
  },
  {
   "cell_type": "code",
   "execution_count": 4,
   "id": "0f1f1186",
   "metadata": {},
   "outputs": [
    {
     "name": "stdout",
     "output_type": "stream",
     "text": [
      "weekday\n",
      "0    1871\n",
      "4    1818\n",
      "6    1710\n",
      "5    1655\n",
      "3    1463\n",
      "1    1106\n",
      "2     371\n",
      "Name: count, dtype: int64\n"
     ]
    }
   ],
   "source": [
    "df['weekday'] = df['Order Date'].dt.weekday\n",
    "print(df['weekday'].value_counts())"
   ]
  },
  {
   "cell_type": "code",
   "execution_count": 17,
   "id": "fe9d773e",
   "metadata": {},
   "outputs": [
    {
     "name": "stdout",
     "output_type": "stream",
     "text": [
      "Segment      Segment      Customer ID\n",
      "Consumer     Consumer     RB-19360       6976.0959\n",
      "                          SC-20095       5757.4119\n",
      "                          HL-15040       5622.4292\n",
      "                          AB-10105       5444.8055\n",
      "                          CM-12385       3899.8904\n",
      "Corporate    Corporate    TC-20980       8981.3239\n",
      "                          KD-16495       3038.6254\n",
      "                          BS-11365       2616.0644\n",
      "                          HM-14860       2437.9836\n",
      "                          TS-21370       2371.7144\n",
      "Home Office  Home Office  TA-21385       4703.7883\n",
      "                          DR-12940       2869.0760\n",
      "                          NM-18445       2751.6849\n",
      "                          AB-10060       2054.5885\n",
      "                          SR-20740       1990.4244\n",
      "Name: Profit, dtype: float64\n"
     ]
    }
   ],
   "source": [
    "# Question 127: Find top 5 customers by profit in each segment.\n",
    "profit_by_segment = df.groupby(['Segment', 'Customer ID'])['Profit'].sum()\n",
    "top_5_customers = profit_by_segment.groupby('Segment').nlargest(5)\n",
    "print(top_5_customers)"
   ]
  },
  {
   "cell_type": "code",
   "execution_count": 19,
   "id": "24e23ebc",
   "metadata": {},
   "outputs": [
    {
     "name": "stdout",
     "output_type": "stream",
     "text": [
      "Customer ID\n",
      "CS-12505   -6626.3895\n",
      "GT-14635   -4108.6589\n",
      "LF-17185   -3583.9770\n",
      "SR-20425   -3333.9144\n",
      "HG-14965   -2797.9635\n",
      "Name: Profit, dtype: float64\n"
     ]
    }
   ],
   "source": [
    "# Question 128: Find top 5 loss-making customers.\n",
    "loss_by_customer = df.groupby('Customer ID')['Profit'].sum()\n",
    "top_5_loss_making = loss_by_customer.nsmallest(5)\n",
    "print(top_5_loss_making)"
   ]
  },
  {
   "cell_type": "code",
   "execution_count": 22,
   "id": "9a667e92",
   "metadata": {},
   "outputs": [
    {
     "name": "stdout",
     "output_type": "stream",
     "text": [
      "Customer ID\n",
      "SM-20320    22638.480\n",
      "TC-20980    17499.950\n",
      "RB-19360    13999.960\n",
      "TA-21385    11199.968\n",
      "HL-15040    10499.970\n",
      "Name: Sales, dtype: float64\n"
     ]
    }
   ],
   "source": [
    "# Question 129: Find customers with largest order value.\n",
    "max_order_value = df.groupby('Customer ID')['Sales'].max().nlargest(5)\n",
    "print(max_order_value)"
   ]
  },
  {
   "cell_type": "code",
   "execution_count": 23,
   "id": "de166613",
   "metadata": {},
   "outputs": [
    {
     "name": "stdout",
     "output_type": "stream",
     "text": [
      "Customer ID\n",
      "ZC-21910    0.444\n",
      "RS-19765    0.556\n",
      "KB-16600    0.836\n",
      "JO-15280    0.852\n",
      "HG-14965    0.876\n",
      "Name: Sales, dtype: float64\n"
     ]
    }
   ],
   "source": [
    "# Question 130: Find customers with smallest order value.\n",
    "min_order_value = df.groupby('Customer ID')['Sales'].min().nsmallest(5)\n",
    "print(min_order_value)"
   ]
  },
  {
   "cell_type": "code",
   "execution_count": 25,
   "id": "bc513a95",
   "metadata": {},
   "outputs": [
    {
     "name": "stdout",
     "output_type": "stream",
     "text": [
      "year\n",
      "2014    595\n",
      "2015    573\n",
      "2016    638\n",
      "2017    693\n",
      "Name: Customer ID, dtype: int64\n"
     ]
    }
   ],
   "source": [
    "# Question 131: Find number of unique customers each year.\n",
    "unique_customer_each_year = df.groupby('year')['Customer ID'].nunique()\n",
    "print(unique_customer_each_year)"
   ]
  },
  {
   "cell_type": "code",
   "execution_count": 26,
   "id": "bc8ad8dd",
   "metadata": {},
   "outputs": [
    {
     "name": "stdout",
     "output_type": "stream",
     "text": [
      "year\n",
      "2014         NaN\n",
      "2015   -0.036975\n",
      "2016    0.113438\n",
      "2017    0.086207\n",
      "Name: Customer ID, dtype: float64\n"
     ]
    }
   ],
   "source": [
    "# Question 132: Find retention rate year over year.\n",
    "retention_rate = df.groupby('year')['Customer ID'].nunique().pct_change()\n",
    "print(retention_rate)"
   ]
  },
  {
   "cell_type": "code",
   "execution_count": null,
   "id": "e2eaf690",
   "metadata": {},
   "outputs": [
    {
     "name": "stdout",
     "output_type": "stream",
     "text": [
      "Years: [np.int32(2014), np.int32(2015), np.int32(2016), np.int32(2017)]\n",
      "Customers this year: 693\n",
      "Customers last year: 638\n",
      "Churned customers: 80\n",
      "   Customer ID\n",
      "0     TC-20980\n",
      "1     JL-15850\n",
      "2     VD-21670\n",
      "3     JS-15880\n",
      "4     MC-17425\n",
      "..         ...\n",
      "75    CM-12235\n",
      "76    JJ-15445\n",
      "77    CS-12490\n",
      "78    BS-11665\n",
      "79    AF-10885\n",
      "\n",
      "[80 rows x 1 columns]\n"
     ]
    }
   ],
   "source": [
    "# Question 133: Find churned customers (present last year, not this year).\n",
    "# churned customers -> customers who were present last year but not this year\n",
    "\n",
    "years_sorted = sorted(df['year'].unique())\n",
    "print(f\"Years: {years_sorted}\")\n",
    "\n",
    "this_year = years_sorted[-1]\n",
    "last_year = years_sorted[-2]\n",
    "\n",
    "# df.loc[df['year'] == this_year, 'Customer ID']\n",
    "customers_this_year = set(df[df['year'] == this_year]['Customer ID'].unique())\n",
    "customers_last_year = set(df[df['year'] == last_year]['Customer ID'].unique())\n",
    "print(f\"Customers this year: {len(customers_this_year)}\")\n",
    "print(f\"Customers last year: {len(customers_last_year)}\")\n",
    "churned_customers = customers_last_year - customers_this_year  \n",
    "print(f\"Churned customers: {len(churned_customers)}\")\n",
    "\n",
    "# df[df['Customer ID'].isin(churned_customers) & (df['year'] == last_year)]\n",
    "churned_df = pd.DataFrame(churned_customers, columns=['Customer ID'])\n",
    "print(churned_df)"
   ]
  },
  {
   "cell_type": "code",
   "execution_count": 10,
   "id": "e4f1aaa3",
   "metadata": {},
   "outputs": [
    {
     "name": "stdout",
     "output_type": "stream",
     "text": [
      "New total customers: 135\n",
      "    Customer ID\n",
      "0      TM-21490\n",
      "1      FG-14260\n",
      "2      LT-16765\n",
      "3      PO-19195\n",
      "4      MS-17980\n",
      "..          ...\n",
      "130    MW-18235\n",
      "131    MR-17545\n",
      "132    YS-21880\n",
      "133    EM-13960\n",
      "134    TC-21145\n",
      "\n",
      "[135 rows x 1 columns]\n"
     ]
    }
   ],
   "source": [
    "# Question 134: Find new customers (present this year, not last year).\n",
    "\n",
    "new_customers = customers_this_year - customers_last_year\n",
    "print(f\"New total customers: {len(new_customers)}\")\n",
    "new_customers_df = pd.DataFrame(new_customers, columns=['Customer ID'])\n",
    "print(new_customers_df)"
   ]
  },
  {
   "cell_type": "code",
   "execution_count": null,
   "id": "08fec1b9",
   "metadata": {},
   "outputs": [
    {
     "name": "stdout",
     "output_type": "stream",
     "text": [
      "contribution of top 10 customers: 6.70%\n"
     ]
    }
   ],
   "source": [
    "# Question 135: Find sales contribution of top 10 customers.\n",
    "# IMP\n",
    "\n",
    "# working with series\n",
    "customers_sales = df.groupby('Customer ID')['Sales'].sum()\n",
    "top_10_customers = customers_sales.nlargest(10)\n",
    "contribution = top_10_customers.sum() / customers_sales.sum() * 100\n",
    "print(f\"contribution of top 10 customers: {contribution:.2f}%\")\n",
    "\n",
    "\n",
    "# working with dataframe, more flexible\n",
    "# 1️⃣ Find total sales by each customer\n",
    "# customer_sales = df.groupby('Customer ID')['Sales'].sum().reset_index()\n",
    "\n",
    "# # 2️⃣ Sort customers by total sales (descending order)\n",
    "# customer_sales = customer_sales.sort_values(by='Sales', ascending=False)\n",
    "\n",
    "# # 3️⃣ Take top 10 customers\n",
    "# top10 = customer_sales.head(10)\n",
    "\n",
    "# # 4️⃣ Calculate total company sales\n",
    "# total_sales = df['Sales'].sum()\n",
    "\n",
    "# # 5️⃣ Calculate contribution of these top 10 customers\n",
    "# top10_contribution = top10['Sales'].sum() / total_sales * 100\n",
    "\n",
    "# # 6️⃣ Display result\n",
    "# print(\"Top 10 Customers by Total Sales:\\n\", top10)\n",
    "# print(f\"\\nSales Contribution of Top 10 Customers: {top10_contribution:.2f}%\")"
   ]
  },
  {
   "cell_type": "code",
   "execution_count": 15,
   "id": "21fe4c22",
   "metadata": {},
   "outputs": [
    {
     "name": "stdout",
     "output_type": "stream",
     "text": [
      "Profit contribution of top 10 customers: 17.52%\n"
     ]
    }
   ],
   "source": [
    "# Question 136: Find profit contribution of top 10 customers.\n",
    "customers_profit = df.groupby('Customer ID')['Profit'].sum()\n",
    "top_10_profit_customers = customers_profit.nlargest(10)\n",
    "profit_contribution = top_10_profit_customers.sum() / customers_profit.sum() * 100\n",
    "print(f\"Profit contribution of top 10 customers: {profit_contribution:.2f}%\")"
   ]
  },
  {
   "cell_type": "code",
   "execution_count": 20,
   "id": "824c5a7f",
   "metadata": {},
   "outputs": [
    {
     "name": "stdout",
     "output_type": "stream",
     "text": [
      "Total categories: 3\n",
      "Customer ID\n",
      "AA-10315    3\n",
      "AA-10375    3\n",
      "AA-10480    3\n",
      "AA-10645    3\n",
      "AB-10015    3\n",
      "           ..\n",
      "XP-21865    3\n",
      "YC-21895    3\n",
      "YS-21880    3\n",
      "ZC-21910    3\n",
      "ZD-21925    3\n",
      "Name: Category, Length: 617, dtype: int64\n"
     ]
    }
   ],
   "source": [
    "# Question 137: Find customers who purchased from all categories.\n",
    "total_categories = df['Category'].nunique()\n",
    "print(f\"Total categories: {total_categories}\")\n",
    "categories_per_customer = df.groupby('Customer ID')['Category'].nunique()\n",
    "customer_per_all_categories = categories_per_customer[categories_per_customer == total_categories]\n",
    "print(customer_per_all_categories)"
   ]
  },
  {
   "cell_type": "code",
   "execution_count": null,
   "id": "bb6318b4",
   "metadata": {},
   "outputs": [
    {
     "name": "stdout",
     "output_type": "stream",
     "text": [
      "Customer ID\n",
      "AA-10315    [Office Supplies, Technology, Furniture]\n",
      "AA-10375    [Office Supplies, Furniture, Technology]\n",
      "AA-10480    [Office Supplies, Furniture, Technology]\n",
      "AA-10645    [Furniture, Technology, Office Supplies]\n",
      "AB-10015    [Furniture, Office Supplies, Technology]\n",
      "                              ...                   \n",
      "XP-21865    [Technology, Office Supplies, Furniture]\n",
      "YC-21895    [Technology, Office Supplies, Furniture]\n",
      "YS-21880    [Office Supplies, Furniture, Technology]\n",
      "ZC-21910    [Technology, Office Supplies, Furniture]\n",
      "ZD-21925    [Office Supplies, Technology, Furniture]\n",
      "Name: Category, Length: 793, dtype: object\n",
      "Customer ID\n",
      "AO-10810    [Furniture]\n",
      "PH-18790    [Furniture]\n",
      "SH-20635    [Furniture]\n",
      "Name: Category, dtype: object\n"
     ]
    }
   ],
   "source": [
    "# Question 138: Find customers who purchased only furniture.\n",
    "# IMP\n",
    "categories_per_customer = df.groupby('Customer ID')['Category'].unique()\n",
    "print(categories_per_customer)\n",
    "only_furniture_customers = categories_per_customer[categories_per_customer.apply(lambda x: set(x) == {'Furniture'})]\n",
    "print(only_furniture_customers)"
   ]
  },
  {
   "cell_type": "code",
   "execution_count": 27,
   "id": "f8c44cd7",
   "metadata": {},
   "outputs": [
    {
     "name": "stdout",
     "output_type": "stream",
     "text": [
      "Customer ID\n",
      "JR-15700    [Technology]\n",
      "Name: Category, dtype: object\n"
     ]
    }
   ],
   "source": [
    "# Question 139: Find customers who purchased only technology.\n",
    "only_technology_customers = categories_per_customer[categories_per_customer.apply(lambda x: set(x) == {'Technology'})]\n",
    "print(only_technology_customers)"
   ]
  },
  {
   "cell_type": "code",
   "execution_count": 28,
   "id": "76c10c9a",
   "metadata": {},
   "outputs": [
    {
     "name": "stdout",
     "output_type": "stream",
     "text": [
      "Customer ID\n",
      "AG-10765    [Office Supplies]\n",
      "AJ-10960    [Office Supplies]\n",
      "BF-11080    [Office Supplies]\n",
      "BO-11425    [Office Supplies]\n",
      "BS-11800    [Office Supplies]\n",
      "CJ-11875    [Office Supplies]\n",
      "GP-14740    [Office Supplies]\n",
      "HD-14785    [Office Supplies]\n",
      "IG-15085    [Office Supplies]\n",
      "JW-16075    [Office Supplies]\n",
      "LD-16855    [Office Supplies]\n",
      "RE-19405    [Office Supplies]\n",
      "RH-19555    [Office Supplies]\n",
      "RS-19870    [Office Supplies]\n",
      "SG-20890    [Office Supplies]\n",
      "TS-21085    [Office Supplies]\n",
      "TT-21265    [Office Supplies]\n",
      "Name: Category, dtype: object\n"
     ]
    }
   ],
   "source": [
    "# Question 140: Find customers who purchased only office supplies.\n",
    "only_office_supplies_customers = categories_per_customer[categories_per_customer.apply(lambda x: set(x) == {'Office Supplies'})]\n",
    "print(only_office_supplies_customers)"
   ]
  },
  {
   "cell_type": "code",
   "execution_count": null,
   "id": "44bcf2de",
   "metadata": {},
   "outputs": [
    {
     "name": "stdout",
     "output_type": "stream",
     "text": [
      "Segment\n",
      "Consumer       7.548724\n",
      "Corporate      7.667107\n",
      "Home Office    7.419142\n",
      "Name: Quantity, dtype: float64\n"
     ]
    }
   ],
   "source": [
    "# Question 141: Find average order size per segment.\n",
    "# IMP\n",
    "# average_order_size_per_segment = df.groupby('Segment')['Quantity'].mean()\n",
    "# print(average_order_size_per_segment)\n",
    "\n",
    "orders_total = df.groupby(['Order ID','Segment'])['Quantity'].sum().reset_index()\n",
    "avg_order_size = orders_total.groupby('Segment')['Quantity'].mean()\n",
    "print(avg_order_size)"
   ]
  },
  {
   "cell_type": "code",
   "execution_count": 40,
   "id": "204c7c6d",
   "metadata": {},
   "outputs": [
    {
     "name": "stdout",
     "output_type": "stream",
     "text": [
      "Segment\n",
      "Consumer       0.158141\n",
      "Corporate      0.158228\n",
      "Home Office    0.147128\n",
      "Name: Discount, dtype: float64\n"
     ]
    }
   ],
   "source": [
    "# Question 142: Find average discount per segment.\n",
    "avg_discount_per_segment = df.groupby('Segment')['Discount'].mean()\n",
    "print(avg_discount_per_segment)"
   ]
  },
  {
   "cell_type": "code",
   "execution_count": 43,
   "id": "c4e599be",
   "metadata": {},
   "outputs": [
    {
     "name": "stdout",
     "output_type": "stream",
     "text": [
      "Segment with maximum number of customers: Consumer\n"
     ]
    }
   ],
   "source": [
    "# Question 143: Find segment with maximum number of customers.\n",
    "\n",
    "max_customer_segment = df.groupby('Segment')['Customer ID'].nunique().idxmax()\n",
    "print(f\"Segment with maximum number of customers: {max_customer_segment}\")"
   ]
  },
  {
   "cell_type": "code",
   "execution_count": 46,
   "id": "613561dd",
   "metadata": {},
   "outputs": [
    {
     "name": "stdout",
     "output_type": "stream",
     "text": [
      "Segment with minimum number of customers: Home Office\n"
     ]
    }
   ],
   "source": [
    "# Question 144: Find segment with minimum number of customers.\n",
    "min_customer_segment = df.groupby('Segment')['Customer ID'].nunique().idxmin()\n",
    "print(f\"Segment with minimum number of customers: {min_customer_segment}\")"
   ]
  },
  {
   "cell_type": "code",
   "execution_count": 47,
   "id": "fd5a9125",
   "metadata": {},
   "outputs": [
    {
     "name": "stdout",
     "output_type": "stream",
     "text": [
      "Customer with maximum quantity purchased: JD-15895 with quantity 150\n"
     ]
    }
   ],
   "source": [
    "# Question 145: Find customer with maximum quantity purchased.\n",
    "max_quantity_customer = df.groupby('Customer ID')['Quantity'].sum().idxmax()\n",
    "max_quantity = df.groupby('Customer ID')['Quantity'].sum().max()\n",
    "print(f\"Customer with maximum quantity purchased: {max_quantity_customer} with quantity {max_quantity}\")"
   ]
  },
  {
   "cell_type": "code",
   "execution_count": 49,
   "id": "fb369341",
   "metadata": {},
   "outputs": [
    {
     "name": "stdout",
     "output_type": "stream",
     "text": [
      "Customer with minimum quantity purchased: AO-10810 with quantity 2\n"
     ]
    }
   ],
   "source": [
    "# Question 146: Find customer with minimum quantity purchased.\n",
    "min_quantity_customer = df.groupby('Customer ID')['Quantity'].sum().idxmin()\n",
    "min_quantity = df.groupby('Customer ID')['Quantity'].sum().min()\n",
    "print(f\"Customer with minimum quantity purchased: {min_quantity_customer} with quantity {min_quantity}\")\n"
   ]
  },
  {
   "cell_type": "code",
   "execution_count": 54,
   "id": "2c58fe4f",
   "metadata": {},
   "outputs": [
    {
     "name": "stdout",
     "output_type": "stream",
     "text": [
      "Customer who bought most different products: WB-21850\n"
     ]
    }
   ],
   "source": [
    "# Question 147: Find customer who bought most different products.\n",
    "most_different_products_customer = df.groupby('Customer ID')['Product ID'].nunique().idxmax()\n",
    "print(f\"Customer who bought most different products: {most_different_products_customer}\")"
   ]
  },
  {
   "cell_type": "code",
   "execution_count": 58,
   "id": "d1cb6a53",
   "metadata": {},
   "outputs": [
    {
     "name": "stdout",
     "output_type": "stream",
     "text": [
      "Customer who bought most categories: Customer ID\n",
      "AA-10315    3\n",
      "AA-10375    3\n",
      "AA-10480    3\n",
      "AA-10645    3\n",
      "AB-10015    3\n",
      "           ..\n",
      "XP-21865    3\n",
      "YC-21895    3\n",
      "YS-21880    3\n",
      "ZC-21910    3\n",
      "ZD-21925    3\n",
      "Name: Category, Length: 617, dtype: int64\n"
     ]
    }
   ],
   "source": [
    "# Question 148: Find customer who bought most categories.\n",
    "categories_customer = df.groupby('Customer ID')['Category'].nunique()\n",
    "most_categories_customer = categories_customer[categories_customer == categories_customer.max()]\n",
    "print(f\"Customer who bought most categories: {most_categories_customer}\")"
   ]
  },
  {
   "cell_type": "code",
   "execution_count": 59,
   "id": "fe3b2bab",
   "metadata": {},
   "outputs": [
    {
     "name": "stdout",
     "output_type": "stream",
     "text": [
      "Customer who bought most sub-categories: Customer ID\n",
      "AP-10915    15\n",
      "NW-18400    15\n",
      "Name: Sub-Category, dtype: int64\n"
     ]
    }
   ],
   "source": [
    "# Question 149: Find customer who bought most sub-categories.\n",
    "subcategories_customer = df.groupby('Customer ID')['Sub-Category'].nunique()\n",
    "most_subcategories_customer = subcategories_customer[subcategories_customer == subcategories_customer.max()]\n",
    "print(f\"Customer who bought most sub-categories: {most_subcategories_customer}\")"
   ]
  },
  {
   "cell_type": "code",
   "execution_count": 60,
   "id": "68c28ce2",
   "metadata": {},
   "outputs": [
    {
     "name": "stdout",
     "output_type": "stream",
     "text": [
      "Customer who bought across most states: Customer ID\n",
      "Dp-13240    11\n",
      "Name: State, dtype: int64\n"
     ]
    }
   ],
   "source": [
    "# Question 150: Find customer who bought across most states.\n",
    "customer_across_states = df.groupby('Customer ID')['State'].nunique()\n",
    "most_states_customer = customer_across_states[customer_across_states == customer_across_states.max()]\n",
    "print(f\"Customer who bought across most states: {most_states_customer}\")"
   ]
  },
  {
   "cell_type": "code",
   "execution_count": null,
   "id": "0decb900",
   "metadata": {},
   "outputs": [],
   "source": []
  }
 ],
 "metadata": {
  "kernelspec": {
   "display_name": "Python 3",
   "language": "python",
   "name": "python3"
  },
  "language_info": {
   "codemirror_mode": {
    "name": "ipython",
    "version": 3
   },
   "file_extension": ".py",
   "mimetype": "text/x-python",
   "name": "python",
   "nbconvert_exporter": "python",
   "pygments_lexer": "ipython3",
   "version": "3.13.2"
  }
 },
 "nbformat": 4,
 "nbformat_minor": 5
}
