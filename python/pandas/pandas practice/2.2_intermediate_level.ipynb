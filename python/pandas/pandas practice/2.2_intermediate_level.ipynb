{
 "cells": [
  {
   "cell_type": "code",
   "execution_count": 2,
   "id": "ca595de8",
   "metadata": {},
   "outputs": [
    {
     "name": "stdout",
     "output_type": "stream",
     "text": [
      "   Row ID        Order ID Order Date  Ship Date       Ship Mode Customer ID  \\\n",
      "0       1  CA-2016-152156 2016-11-08 2016-11-11    Second Class    CG-12520   \n",
      "1       2  CA-2016-152156 2016-11-08 2016-11-11    Second Class    CG-12520   \n",
      "2       3  CA-2016-138688 2016-06-12 2016-06-16    Second Class    DV-13045   \n",
      "3       4  US-2015-108966 2015-10-11 2015-10-18  Standard Class    SO-20335   \n",
      "4       5  US-2015-108966 2015-10-11 2015-10-18  Standard Class    SO-20335   \n",
      "\n",
      "     Customer Name    Segment        Country             City  ...  \\\n",
      "0      Claire Gute   Consumer  United States        Henderson  ...   \n",
      "1      Claire Gute   Consumer  United States        Henderson  ...   \n",
      "2  Darrin Van Huff  Corporate  United States      Los Angeles  ...   \n",
      "3   Sean O'Donnell   Consumer  United States  Fort Lauderdale  ...   \n",
      "4   Sean O'Donnell   Consumer  United States  Fort Lauderdale  ...   \n",
      "\n",
      "  Postal Code  Region       Product ID         Category Sub-Category  \\\n",
      "0       42420   South  FUR-BO-10001798        Furniture    Bookcases   \n",
      "1       42420   South  FUR-CH-10000454        Furniture       Chairs   \n",
      "2       90036    West  OFF-LA-10000240  Office Supplies       Labels   \n",
      "3       33311   South  FUR-TA-10000577        Furniture       Tables   \n",
      "4       33311   South  OFF-ST-10000760  Office Supplies      Storage   \n",
      "\n",
      "                                        Product Name     Sales  Quantity  \\\n",
      "0                  Bush Somerset Collection Bookcase  261.9600         2   \n",
      "1  Hon Deluxe Fabric Upholstered Stacking Chairs,...  731.9400         3   \n",
      "2  Self-Adhesive Address Labels for Typewriters b...   14.6200         2   \n",
      "3      Bretford CR4500 Series Slim Rectangular Table  957.5775         5   \n",
      "4                     Eldon Fold 'N Roll Cart System   22.3680         2   \n",
      "\n",
      "   Discount    Profit  \n",
      "0      0.00   41.9136  \n",
      "1      0.00  219.5820  \n",
      "2      0.00    6.8714  \n",
      "3      0.45 -383.0310  \n",
      "4      0.20    2.5164  \n",
      "\n",
      "[5 rows x 21 columns]\n",
      "(9994, 21)\n"
     ]
    }
   ],
   "source": [
    "# Time Series & Trend Analysis (Questions 201-250)\n",
    "import numpy as np\n",
    "import pandas as pd\n",
    "df = pd.read_excel('Sample - Superstore.xls')\n",
    "print(df.head())\n",
    "print(df.shape)\n"
   ]
  },
  {
   "cell_type": "code",
   "execution_count": 3,
   "id": "92cf7835",
   "metadata": {},
   "outputs": [
    {
     "name": "stdout",
     "output_type": "stream",
     "text": [
      "year\n",
      "2017    3312\n",
      "2016    2587\n",
      "2015    2102\n",
      "2014    1993\n",
      "Name: count, dtype: int64\n",
      "quarter\n",
      "4    3698\n",
      "3    2799\n",
      "2    2120\n",
      "1    1377\n",
      "Name: count, dtype: int64\n",
      "month\n",
      "11    1471\n",
      "12    1408\n",
      "9     1383\n",
      "10     819\n",
      "5      735\n",
      "6      717\n",
      "7      710\n",
      "8      706\n",
      "3      696\n",
      "4      668\n",
      "1      381\n",
      "2      300\n",
      "Name: count, dtype: int64\n",
      "weekday\n",
      "0    1871\n",
      "4    1818\n",
      "6    1710\n",
      "5    1655\n",
      "3    1463\n",
      "1    1106\n",
      "2     371\n",
      "Name: count, dtype: int64\n"
     ]
    }
   ],
   "source": [
    "df['year'] = df['Order Date'].dt.year\n",
    "print(df['year'].value_counts())\n",
    "\n",
    "df['quarter'] = df['Order Date'].dt.quarter\n",
    "print(df['quarter'].value_counts())\n",
    "\n",
    "df['month'] = df['Order Date'].dt.month\n",
    "print(df['month'].value_counts())\n",
    "\n",
    "df['weekday'] = df['Order Date'].dt.weekday\n",
    "print(df['weekday'].value_counts())"
   ]
  },
  {
   "cell_type": "code",
   "execution_count": 3,
   "id": "4c3fb725",
   "metadata": {},
   "outputs": [
    {
     "name": "stdout",
     "output_type": "stream",
     "text": [
      "    year  month        Sales\n",
      "0   2014      1   14236.8950\n",
      "1   2014      2    4519.8920\n",
      "2   2014      3   55691.0090\n",
      "3   2014      4   28295.3450\n",
      "4   2014      5   23648.2870\n",
      "5   2014      6   34595.1276\n",
      "6   2014      7   33946.3930\n",
      "7   2014      8   27909.4685\n",
      "8   2014      9   81777.3508\n",
      "9   2014     10   31453.3930\n",
      "10  2014     11   78628.7167\n",
      "11  2014     12   69545.6205\n",
      "12  2015      1   18174.0756\n",
      "13  2015      2   11951.4110\n",
      "14  2015      3   38726.2520\n",
      "15  2015      4   34195.2085\n",
      "16  2015      5   30131.6865\n",
      "17  2015      6   24797.2920\n",
      "18  2015      7   28765.3250\n",
      "19  2015      8   36898.3322\n",
      "20  2015      9   64595.9180\n",
      "21  2015     10   31404.9235\n",
      "22  2015     11   75972.5635\n",
      "23  2015     12   74919.5212\n",
      "24  2016      1   18542.4910\n",
      "25  2016      2   22978.8150\n",
      "26  2016      3   51715.8750\n",
      "27  2016      4   38750.0390\n",
      "28  2016      5   56987.7280\n",
      "29  2016      6   40344.5340\n",
      "30  2016      7   39261.9630\n",
      "31  2016      8   31115.3743\n",
      "32  2016      9   73410.0249\n",
      "33  2016     10   59687.7450\n",
      "34  2016     11   79411.9658\n",
      "35  2016     12   96999.0430\n",
      "36  2017      1   43971.3740\n",
      "37  2017      2   20301.1334\n",
      "38  2017      3   58872.3528\n",
      "39  2017      4   36521.5361\n",
      "40  2017      5   44261.1102\n",
      "41  2017      6   52981.7257\n",
      "42  2017      7   45264.4160\n",
      "43  2017      8   63120.8880\n",
      "44  2017      9   87866.6520\n",
      "45  2017     10   77776.9232\n",
      "46  2017     11  118447.8250\n",
      "47  2017     12   83829.3188\n"
     ]
    }
   ],
   "source": [
    "# Question 201: Find monthly sales trend for each year.\n",
    "monthly_sales_trend = df.groupby(['year','month'])['Sales'].sum().reset_index()\n",
    "print(monthly_sales_trend)"
   ]
  },
  {
   "cell_type": "code",
   "execution_count": 4,
   "id": "83571bb6",
   "metadata": {},
   "outputs": [
    {
     "name": "stdout",
     "output_type": "stream",
     "text": [
      "    year  month      Profit\n",
      "0   2014      1   2450.1907\n",
      "1   2014      2    862.3084\n",
      "2   2014      3    498.7299\n",
      "3   2014      4   3488.8352\n",
      "4   2014      5   2738.7096\n",
      "5   2014      6   4976.5244\n",
      "6   2014      7   -841.4826\n",
      "7   2014      8   5318.1050\n",
      "8   2014      9   8328.0994\n",
      "9   2014     10   3448.2573\n",
      "10  2014     11   9292.1269\n",
      "11  2014     12   8983.5699\n",
      "12  2015      1  -3281.0070\n",
      "13  2015      2   2813.8508\n",
      "14  2015      3   9732.0978\n",
      "15  2015      4   4187.4962\n",
      "16  2015      5   4667.8690\n",
      "17  2015      6   3335.5572\n",
      "18  2015      7   3288.6483\n",
      "19  2015      8   5355.8084\n",
      "20  2015      9   8209.1627\n",
      "21  2015     10   2817.3660\n",
      "22  2015     11  12474.7884\n",
      "23  2015     12   8016.9659\n",
      "24  2016      1   2824.8233\n",
      "25  2016      2   5004.5795\n",
      "26  2016      3   3611.9680\n",
      "27  2016      4   2977.8149\n",
      "28  2016      5   8662.1464\n",
      "29  2016      6   4750.3781\n",
      "30  2016      7   4432.8779\n",
      "31  2016      8   2062.0693\n",
      "32  2016      9   9328.6576\n",
      "33  2016     10  16243.1425\n",
      "34  2016     11   4011.4075\n",
      "35  2016     12  17885.3093\n",
      "36  2017      1   7140.4391\n",
      "37  2017      2   1613.8720\n",
      "38  2017      3  14751.8915\n",
      "39  2017      4    933.2900\n",
      "40  2017      5   6342.5828\n",
      "41  2017      6   8223.3357\n",
      "42  2017      7   6952.6212\n",
      "43  2017      8   9040.9557\n",
      "44  2017      9  10991.5556\n",
      "45  2017     10   9275.2755\n",
      "46  2017     11   9690.1037\n",
      "47  2017     12   8483.3468\n"
     ]
    }
   ],
   "source": [
    "# Question 202: Find monthly profit trend for each year.\n",
    "monthly_profit_trend = df.groupby(['year','month'])['Profit'].sum().reset_index()\n",
    "print(monthly_profit_trend)"
   ]
  },
  {
   "cell_type": "code",
   "execution_count": 9,
   "id": "8adaf83a",
   "metadata": {},
   "outputs": [
    {
     "name": "stdout",
     "output_type": "stream",
     "text": [
      "2017\n"
     ]
    }
   ],
   "source": [
    "# Question 203: Find year with highest sales.\n",
    "year_with_highest_sales = df.groupby('year')['Sales'].sum().idxmax()\n",
    "print(year_with_highest_sales)"
   ]
  },
  {
   "cell_type": "code",
   "execution_count": 10,
   "id": "dd2ea7bb",
   "metadata": {},
   "outputs": [
    {
     "name": "stdout",
     "output_type": "stream",
     "text": [
      "2015\n"
     ]
    }
   ],
   "source": [
    "# Question 204: Find year with lowest sales.\n",
    "year_with_lowest_sales = df.groupby('year')['Sales'].sum().idxmin()\n",
    "print(year_with_lowest_sales)"
   ]
  },
  {
   "cell_type": "code",
   "execution_count": 11,
   "id": "69b816dd",
   "metadata": {},
   "outputs": [
    {
     "name": "stdout",
     "output_type": "stream",
     "text": [
      "2017\n"
     ]
    }
   ],
   "source": [
    "# Question 205: Find year with highest profit.\n",
    "year_with_highest_profit = df.groupby('year')['Profit'].sum().idxmax()\n",
    "print(year_with_highest_profit)"
   ]
  },
  {
   "cell_type": "code",
   "execution_count": 12,
   "id": "8182cbe9",
   "metadata": {},
   "outputs": [
    {
     "name": "stdout",
     "output_type": "stream",
     "text": [
      "2014\n"
     ]
    }
   ],
   "source": [
    "# Question 206: Find year with lowest profit.\n",
    "year_with_lowest_profit = df.groupby('year')['Profit'].sum().idxmin()\n",
    "print(year_with_lowest_profit) "
   ]
  },
  {
   "cell_type": "code",
   "execution_count": 13,
   "id": "0f6e9777",
   "metadata": {},
   "outputs": [
    {
     "name": "stdout",
     "output_type": "stream",
     "text": [
      "    year  quarter        Sales\n",
      "0   2014        1   74447.7960\n",
      "1   2014        2   86538.7596\n",
      "2   2014        3  143633.2123\n",
      "3   2014        4  179627.7302\n",
      "4   2015        1   68851.7386\n",
      "5   2015        2   89124.1870\n",
      "6   2015        3  130259.5752\n",
      "7   2015        4  182297.0082\n",
      "8   2016        1   93237.1810\n",
      "9   2016        2  136082.3010\n",
      "10  2016        3  143787.3622\n",
      "11  2016        4  236098.7538\n",
      "12  2017        1  123144.8602\n",
      "13  2017        2  133764.3720\n",
      "14  2017        3  196251.9560\n",
      "15  2017        4  280054.0670\n"
     ]
    }
   ],
   "source": [
    "# Question 207: Find quarterly sales trend.\n",
    "quarterly_sales_trend = df.groupby(['year','quarter'])['Sales'].sum().reset_index()\n",
    "print(quarterly_sales_trend)"
   ]
  },
  {
   "cell_type": "code",
   "execution_count": 14,
   "id": "2ae6dd8a",
   "metadata": {},
   "outputs": [
    {
     "name": "stdout",
     "output_type": "stream",
     "text": [
      "    year  quarter      Profit\n",
      "0   2014        1   3811.2290\n",
      "1   2014        2  11204.0692\n",
      "2   2014        3  12804.7218\n",
      "3   2014        4  21723.9541\n",
      "4   2015        1   9264.9416\n",
      "5   2015        2  12190.9224\n",
      "6   2015        3  16853.6194\n",
      "7   2015        4  23309.1203\n",
      "8   2016        1  11441.3708\n",
      "9   2016        2  16390.3394\n",
      "10  2016        3  15823.6048\n",
      "11  2016        4  38139.8593\n",
      "12  2017        1  23506.2026\n",
      "13  2017        2  15499.2085\n",
      "14  2017        3  26985.1325\n",
      "15  2017        4  27448.7260\n"
     ]
    }
   ],
   "source": [
    "# Question 208: Find quarterly profit trend.\n",
    "quarterly_profit_trend = df.groupby(['year','quarter'])['Profit'].sum().reset_index()\n",
    "print(quarterly_profit_trend)"
   ]
  },
  {
   "cell_type": "code",
   "execution_count": null,
   "id": "32e033cf",
   "metadata": {},
   "outputs": [
    {
     "name": "stdout",
     "output_type": "stream",
     "text": [
      "    year  month        Sales    3_month_MA\n",
      "0   2014      1   14236.8950           NaN\n",
      "1   2014      2    4519.8920           NaN\n",
      "2   2014      3   55691.0090  24815.932000\n",
      "3   2014      4   28295.3450  29502.082000\n",
      "4   2014      5   23648.2870  35878.213667\n",
      "5   2014      6   34595.1276  28846.253200\n",
      "6   2014      7   33946.3930  30729.935867\n",
      "7   2014      8   27909.4685  32150.329700\n",
      "8   2014      9   81777.3508  47877.737433\n",
      "9   2014     10   31453.3930  47046.737433\n",
      "10  2014     11   78628.7167  63953.153500\n",
      "11  2014     12   69545.6205  59875.910067\n",
      "12  2015      1   18174.0756  55449.470933\n",
      "13  2015      2   11951.4110  33223.702367\n",
      "14  2015      3   38726.2520  22950.579533\n",
      "15  2015      4   34195.2085  28290.957167\n",
      "16  2015      5   30131.6865  34351.049000\n",
      "17  2015      6   24797.2920  29708.062333\n",
      "18  2015      7   28765.3250  27898.101167\n",
      "19  2015      8   36898.3322  30153.649733\n",
      "20  2015      9   64595.9180  43419.858400\n",
      "21  2015     10   31404.9235  44299.724567\n",
      "22  2015     11   75972.5635  57324.468333\n",
      "23  2015     12   74919.5212  60765.669400\n",
      "24  2016      1   18542.4910  56478.191900\n",
      "25  2016      2   22978.8150  38813.609067\n",
      "26  2016      3   51715.8750  31079.060333\n",
      "27  2016      4   38750.0390  37814.909667\n",
      "28  2016      5   56987.7280  49151.214000\n",
      "29  2016      6   40344.5340  45360.767000\n",
      "30  2016      7   39261.9630  45531.408333\n",
      "31  2016      8   31115.3743  36907.290433\n",
      "32  2016      9   73410.0249  47929.120733\n",
      "33  2016     10   59687.7450  54737.714733\n",
      "34  2016     11   79411.9658  70836.578567\n",
      "35  2016     12   96999.0430  78699.584600\n",
      "36  2017      1   43971.3740  73460.794267\n",
      "37  2017      2   20301.1334  53757.183467\n",
      "38  2017      3   58872.3528  41048.286733\n",
      "39  2017      4   36521.5361  38565.007433\n",
      "40  2017      5   44261.1102  46551.666367\n",
      "41  2017      6   52981.7257  44588.124000\n",
      "42  2017      7   45264.4160  47502.417300\n",
      "43  2017      8   63120.8880  53789.009900\n",
      "44  2017      9   87866.6520  65417.318667\n",
      "45  2017     10   77776.9232  76254.821067\n",
      "46  2017     11  118447.8250  94697.133400\n",
      "47  2017     12   83829.3188  93351.355667\n"
     ]
    }
   ],
   "source": [
    "# Question 209: Find moving average of sales (3 months).\n",
    "\n",
    "# A moving average (or rolling mean) smooths sales over time —\n",
    "# instead of looking at each month’s sales separately, you look at the average of that month and the previous 2 months.\n",
    "\n",
    "monthly_sales = df.groupby(['year','month'])['Sales'].sum().reset_index()\n",
    "monthly_sales = monthly_sales.sort_values(by=['year','month'])\n",
    "#\n",
    "monthly_sales['3_month_MA'] = monthly_sales['Sales'].rolling(window=3).mean()\n",
    "print(monthly_sales)"
   ]
  },
  {
   "cell_type": "code",
   "execution_count": 8,
   "id": "a36e2117",
   "metadata": {},
   "outputs": [
    {
     "name": "stdout",
     "output_type": "stream",
     "text": [
      "    year  month      Profit  3_month_profit_MA\n",
      "0   2014      1   2450.1907                NaN\n",
      "1   2014      2    862.3084                NaN\n",
      "2   2014      3    498.7299        1270.409667\n",
      "3   2014      4   3488.8352        1616.624500\n",
      "4   2014      5   2738.7096        2242.091567\n",
      "5   2014      6   4976.5244        3734.689733\n",
      "6   2014      7   -841.4826        2291.250467\n",
      "7   2014      8   5318.1050        3151.048933\n",
      "8   2014      9   8328.0994        4268.240600\n",
      "9   2014     10   3448.2573        5698.153900\n",
      "10  2014     11   9292.1269        7022.827867\n",
      "11  2014     12   8983.5699        7241.318033\n",
      "12  2015      1  -3281.0070        4998.229933\n",
      "13  2015      2   2813.8508        2838.804567\n",
      "14  2015      3   9732.0978        3088.313867\n",
      "15  2015      4   4187.4962        5577.814933\n",
      "16  2015      5   4667.8690        6195.821000\n",
      "17  2015      6   3335.5572        4063.640800\n",
      "18  2015      7   3288.6483        3764.024833\n",
      "19  2015      8   5355.8084        3993.337967\n",
      "20  2015      9   8209.1627        5617.873133\n",
      "21  2015     10   2817.3660        5460.779033\n",
      "22  2015     11  12474.7884        7833.772367\n",
      "23  2015     12   8016.9659        7769.706767\n",
      "24  2016      1   2824.8233        7772.192533\n",
      "25  2016      2   5004.5795        5282.122900\n",
      "26  2016      3   3611.9680        3813.790267\n",
      "27  2016      4   2977.8149        3864.787467\n",
      "28  2016      5   8662.1464        5083.976433\n",
      "29  2016      6   4750.3781        5463.446467\n",
      "30  2016      7   4432.8779        5948.467467\n",
      "31  2016      8   2062.0693        3748.441767\n",
      "32  2016      9   9328.6576        5274.534933\n",
      "33  2016     10  16243.1425        9211.289800\n",
      "34  2016     11   4011.4075        9861.069200\n",
      "35  2016     12  17885.3093       12713.286433\n",
      "36  2017      1   7140.4391        9679.051967\n",
      "37  2017      2   1613.8720        8879.873467\n",
      "38  2017      3  14751.8915        7835.400867\n",
      "39  2017      4    933.2900        5766.351167\n",
      "40  2017      5   6342.5828        7342.588100\n",
      "41  2017      6   8223.3357        5166.402833\n",
      "42  2017      7   6952.6212        7172.846567\n",
      "43  2017      8   9040.9557        8072.304200\n",
      "44  2017      9  10991.5556        8995.044167\n",
      "45  2017     10   9275.2755        9769.262267\n",
      "46  2017     11   9690.1037        9985.644933\n",
      "47  2017     12   8483.3468        9149.575333\n"
     ]
    }
   ],
   "source": [
    "# Question 210: Find moving average of profit (3 months).\n",
    "monthly_profit = df.groupby(['year','month'])['Profit'].sum().reset_index()\n",
    "monthly_profit = monthly_profit.sort_values(by=['year','month'])\n",
    "monthly_profit['3_month_profit_MA'] = monthly_profit['Profit'].rolling(window=3).mean()\n",
    "print(monthly_profit)"
   ]
  },
  {
   "cell_type": "code",
   "execution_count": 9,
   "id": "57db7546",
   "metadata": {},
   "outputs": [
    {
     "name": "stdout",
     "output_type": "stream",
     "text": [
      "    year  month        Sales    3_month_MA    6_month_MA\n",
      "0   2014      1   14236.8950           NaN           NaN\n",
      "1   2014      2    4519.8920           NaN           NaN\n",
      "2   2014      3   55691.0090  24815.932000           NaN\n",
      "3   2014      4   28295.3450  29502.082000           NaN\n",
      "4   2014      5   23648.2870  35878.213667           NaN\n",
      "5   2014      6   34595.1276  28846.253200  26831.092600\n",
      "6   2014      7   33946.3930  30729.935867  30116.008933\n",
      "7   2014      8   27909.4685  32150.329700  34014.271683\n",
      "8   2014      9   81777.3508  47877.737433  38361.995317\n",
      "9   2014     10   31453.3930  47046.737433  38888.336650\n",
      "10  2014     11   78628.7167  63953.153500  48051.741600\n",
      "11  2014     12   69545.6205  59875.910067  53876.823750\n",
      "12  2015      1   18174.0756  55449.470933  51248.104183\n",
      "13  2015      2   11951.4110  33223.702367  48588.427933\n",
      "14  2015      3   38726.2520  22950.579533  41413.244800\n",
      "15  2015      4   34195.2085  28290.957167  41870.214050\n",
      "16  2015      5   30131.6865  34351.049000  33787.375683\n",
      "17  2015      6   24797.2920  29708.062333  26329.320933\n",
      "18  2015      7   28765.3250  27898.101167  28094.529167\n",
      "19  2015      8   36898.3322  30153.649733  32252.349367\n",
      "20  2015      9   64595.9180  43419.858400  36563.960367\n",
      "21  2015     10   31404.9235  44299.724567  36098.912867\n",
      "22  2015     11   75972.5635  57324.468333  43739.059033\n",
      "23  2015     12   74919.5212  60765.669400  52092.763900\n",
      "24  2016      1   18542.4910  56478.191900  50388.958233\n",
      "25  2016      2   22978.8150  38813.609067  48069.038700\n",
      "26  2016      3   51715.8750  31079.060333  45922.364867\n",
      "27  2016      4   38750.0390  37814.909667  47146.550783\n",
      "28  2016      5   56987.7280  49151.214000  43982.411533\n",
      "29  2016      6   40344.5340  45360.767000  38219.913667\n",
      "30  2016      7   39261.9630  45531.408333  41673.159000\n",
      "31  2016      8   31115.3743  36907.290433  43029.252217\n",
      "32  2016      9   73410.0249  47929.120733  46644.943867\n",
      "33  2016     10   59687.7450  54737.714733  50134.561533\n",
      "34  2016     11   79411.9658  70836.578567  53871.934500\n",
      "35  2016     12   96999.0430  78699.584600  63314.352667\n",
      "36  2017      1   43971.3740  73460.794267  64099.254500\n",
      "37  2017      2   20301.1334  53757.183467  62296.881017\n",
      "38  2017      3   58872.3528  41048.286733  59873.935667\n",
      "39  2017      4   36521.5361  38565.007433  56012.900850\n",
      "40  2017      5   44261.1102  46551.666367  50154.424917\n",
      "41  2017      6   52981.7257  44588.124000  42818.205367\n",
      "42  2017      7   45264.4160  47502.417300  43033.712367\n",
      "43  2017      8   63120.8880  53789.009900  50170.338133\n",
      "44  2017      9   87866.6520  65417.318667  55002.721333\n",
      "45  2017     10   77776.9232  76254.821067  61878.619183\n",
      "46  2017     11  118447.8250  94697.133400  74243.071650\n",
      "47  2017     12   83829.3188  93351.355667  79384.337167\n"
     ]
    }
   ],
   "source": [
    "# Question 211: Find moving average of sales (6 months).\n",
    "monthly_sales['6_month_MA'] = monthly_sales['Sales'].rolling(window=6).mean()\n",
    "print(monthly_sales)"
   ]
  },
  {
   "cell_type": "code",
   "execution_count": 10,
   "id": "672ed4ba",
   "metadata": {},
   "outputs": [
    {
     "name": "stdout",
     "output_type": "stream",
     "text": [
      "    year  month      Profit  3_month_profit_MA  6_month_profit_MA\n",
      "0   2014      1   2450.1907                NaN                NaN\n",
      "1   2014      2    862.3084                NaN                NaN\n",
      "2   2014      3    498.7299        1270.409667                NaN\n",
      "3   2014      4   3488.8352        1616.624500                NaN\n",
      "4   2014      5   2738.7096        2242.091567                NaN\n",
      "5   2014      6   4976.5244        3734.689733        2502.549700\n",
      "6   2014      7   -841.4826        2291.250467        1953.937483\n",
      "7   2014      8   5318.1050        3151.048933        2696.570250\n",
      "8   2014      9   8328.0994        4268.240600        4001.465167\n",
      "9   2014     10   3448.2573        5698.153900        3994.702183\n",
      "10  2014     11   9292.1269        7022.827867        5086.938400\n",
      "11  2014     12   8983.5699        7241.318033        5754.779317\n",
      "12  2015      1  -3281.0070        4998.229933        5348.191917\n",
      "13  2015      2   2813.8508        2838.804567        4930.816217\n",
      "14  2015      3   9732.0978        3088.313867        5164.815950\n",
      "15  2015      4   4187.4962        5577.814933        5288.022433\n",
      "16  2015      5   4667.8690        6195.821000        4517.312783\n",
      "17  2015      6   3335.5572        4063.640800        3575.977333\n",
      "18  2015      7   3288.6483        3764.024833        4670.919883\n",
      "19  2015      8   5355.8084        3993.337967        5094.579483\n",
      "20  2015      9   8209.1627        5617.873133        4840.756967\n",
      "21  2015     10   2817.3660        5460.779033        4612.401933\n",
      "22  2015     11  12474.7884        7833.772367        5913.555167\n",
      "23  2015     12   8016.9659        7769.706767        6693.789950\n",
      "24  2016      1   2824.8233        7772.192533        6616.485783\n",
      "25  2016      2   5004.5795        5282.122900        6557.947633\n",
      "26  2016      3   3611.9680        3813.790267        5791.748517\n",
      "27  2016      4   2977.8149        3864.787467        5818.490000\n",
      "28  2016      5   8662.1464        5083.976433        5183.049667\n",
      "29  2016      6   4750.3781        5463.446467        4638.618367\n",
      "30  2016      7   4432.8779        5948.467467        4906.627467\n",
      "31  2016      8   2062.0693        3748.441767        4416.209100\n",
      "32  2016      9   9328.6576        5274.534933        5368.990700\n",
      "33  2016     10  16243.1425        9211.289800        7579.878633\n",
      "34  2016     11   4011.4075        9861.069200        6804.755483\n",
      "35  2016     12  17885.3093       12713.286433        8993.910683\n",
      "36  2017      1   7140.4391        9679.051967        9445.170883\n",
      "37  2017      2   1613.8720        8879.873467        9370.471333\n",
      "38  2017      3  14751.8915        7835.400867       10274.343650\n",
      "39  2017      4    933.2900        5766.351167        7722.701567\n",
      "40  2017      5   6342.5828        7342.588100        8111.230783\n",
      "41  2017      6   8223.3357        5166.402833        6500.901850\n",
      "42  2017      7   6952.6212        7172.846567        6469.598867\n",
      "43  2017      8   9040.9557        8072.304200        7707.446150\n",
      "44  2017      9  10991.5556        8995.044167        7080.723500\n",
      "45  2017     10   9275.2755        9769.262267        8471.054417\n",
      "46  2017     11   9690.1037        9985.644933        9028.974567\n",
      "47  2017     12   8483.3468        9149.575333        9072.309750\n"
     ]
    }
   ],
   "source": [
    "# Question 212: Find moving average of profit (6 months).\n",
    "monthly_profit['6_month_profit_MA'] = monthly_profit['Profit'].rolling(window=6).mean()\n",
    "print(monthly_profit)"
   ]
  },
  {
   "cell_type": "code",
   "execution_count": null,
   "id": "571ba970",
   "metadata": {},
   "outputs": [
    {
     "name": "stdout",
     "output_type": "stream",
     "text": [
      "   year        Sales  YoY_growth\n",
      "0  2014  484247.4981         NaN\n",
      "1  2015  470532.5090   -2.832227\n",
      "2  2016  609205.5980   29.471521\n",
      "3  2017  733215.2552   20.355962\n"
     ]
    }
   ],
   "source": [
    "# Question 213: Compare year-over-year growth in sales.\n",
    "yearly_sales = df.groupby('year')['Sales'].sum().reset_index()\n",
    "# .pct_change() automatically does (current - previous) / previous.\n",
    "yearly_sales['YoY_growth'] = yearly_sales['Sales'].pct_change() * 100\n",
    "print(yearly_sales)"
   ]
  },
  {
   "cell_type": "code",
   "execution_count": 12,
   "id": "6da7b160",
   "metadata": {},
   "outputs": [
    {
     "name": "stdout",
     "output_type": "stream",
     "text": [
      "   year      Profit  YoY_profit_growth\n",
      "0  2014  49543.9741                NaN\n",
      "1  2015  61618.6037          24.371540\n",
      "2  2016  81795.1743          32.744284\n",
      "3  2017  93439.2696          14.235675\n"
     ]
    }
   ],
   "source": [
    "# Question 214: Compare year-over-year growth in profit.\n",
    "yearly_profit = df.groupby('year')['Profit'].sum().reset_index()\n",
    "yearly_profit['YoY_profit_growth'] = yearly_profit['Profit'].pct_change() * 100\n",
    "print(yearly_profit)"
   ]
  },
  {
   "cell_type": "code",
   "execution_count": 13,
   "id": "5668fa81",
   "metadata": {},
   "outputs": [
    {
     "name": "stdout",
     "output_type": "stream",
     "text": [
      "    year  month        Sales  MoM_sales_growth\n",
      "0   2014      1   14236.8950               NaN\n",
      "1   2014      2    4519.8920        -68.252263\n",
      "2   2014      3   55691.0090       1132.131409\n",
      "3   2014      4   28295.3450        -49.192257\n",
      "4   2014      5   23648.2870        -16.423401\n",
      "5   2014      6   34595.1276         46.290205\n",
      "6   2014      7   33946.3930         -1.875220\n",
      "7   2014      8   27909.4685        -17.783699\n",
      "8   2014      9   81777.3508        193.009345\n",
      "9   2014     10   31453.3930        -61.537770\n",
      "10  2014     11   78628.7167        149.984848\n",
      "11  2014     12   69545.6205        -11.551882\n",
      "12  2015      1   18174.0756        -73.867405\n",
      "13  2015      2   11951.4110        -34.239236\n",
      "14  2015      3   38726.2520        224.030794\n",
      "15  2015      4   34195.2085        -11.700186\n",
      "16  2015      5   30131.6865        -11.883308\n",
      "17  2015      6   24797.2920        -17.703604\n",
      "18  2015      7   28765.3250         16.001880\n",
      "19  2015      8   36898.3322         28.273650\n",
      "20  2015      9   64595.9180         75.064601\n",
      "21  2015     10   31404.9235        -51.382495\n",
      "22  2015     11   75972.5635        141.912907\n",
      "23  2015     12   74919.5212         -1.386082\n",
      "24  2016      1   18542.4910        -75.250121\n",
      "25  2016      2   22978.8150         23.925178\n",
      "26  2016      3   51715.8750        125.058929\n",
      "27  2016      4   38750.0390        -25.071288\n",
      "28  2016      5   56987.7280         47.064957\n",
      "29  2016      6   40344.5340        -29.204874\n",
      "30  2016      7   39261.9630         -2.683315\n",
      "31  2016      8   31115.3743        -20.749316\n",
      "32  2016      9   73410.0249        135.928465\n",
      "33  2016     10   59687.7450        -18.692651\n",
      "34  2016     11   79411.9658         33.045679\n",
      "35  2016     12   96999.0430         22.146634\n",
      "36  2017      1   43971.3740        -54.668239\n",
      "37  2017      2   20301.1334        -53.831023\n",
      "38  2017      3   58872.3528        189.995399\n",
      "39  2017      4   36521.5361        -37.964878\n",
      "40  2017      5   44261.1102         21.191809\n",
      "41  2017      6   52981.7257         19.702659\n",
      "42  2017      7   45264.4160        -14.565984\n",
      "43  2017      8   63120.8880         39.449249\n",
      "44  2017      9   87866.6520         39.203764\n",
      "45  2017     10   77776.9232        -11.483001\n",
      "46  2017     11  118447.8250         52.291734\n",
      "47  2017     12   83829.3188        -29.226798\n"
     ]
    }
   ],
   "source": [
    "# Question 215: Compare month-over-month growth in sales.\n",
    "monthly_sales = df.groupby(['year','month'])['Sales'].sum().reset_index()\n",
    "monthly_sales = monthly_sales.sort_values(by=['year','month'])\n",
    "monthly_sales['MoM_sales_growth'] = monthly_sales['Sales'].pct_change() * 100\n",
    "print(monthly_sales)\n"
   ]
  },
  {
   "cell_type": "code",
   "execution_count": 14,
   "id": "47c578ba",
   "metadata": {},
   "outputs": [
    {
     "name": "stdout",
     "output_type": "stream",
     "text": [
      "    year  month      Profit  MoM_profit_growth\n",
      "0   2014      1   2450.1907                NaN\n",
      "1   2014      2    862.3084         -64.806478\n",
      "2   2014      3    498.7299         -42.163395\n",
      "3   2014      4   3488.8352         599.544022\n",
      "4   2014      5   2738.7096         -21.500746\n",
      "5   2014      6   4976.5244          81.710554\n",
      "6   2014      7   -841.4826        -116.909042\n",
      "7   2014      8   5318.1050        -731.992272\n",
      "8   2014      9   8328.0994          56.599003\n",
      "9   2014     10   3448.2573         -58.594907\n",
      "10  2014     11   9292.1269         169.473131\n",
      "11  2014     12   8983.5699          -3.320628\n",
      "12  2015      1  -3281.0070        -136.522307\n",
      "13  2015      2   2813.8508        -185.761804\n",
      "14  2015      3   9732.0978         245.864031\n",
      "15  2015      4   4187.4962         -56.972317\n",
      "16  2015      5   4667.8690          11.471600\n",
      "17  2015      6   3335.5572         -28.542185\n",
      "18  2015      7   3288.6483          -1.406329\n",
      "19  2015      8   5355.8084          62.857439\n",
      "20  2015      9   8209.1627          53.275885\n",
      "21  2015     10   2817.3660         -65.680227\n",
      "22  2015     11  12474.7884         342.781960\n",
      "23  2015     12   8016.9659         -35.734654\n",
      "24  2016      1   2824.8233         -64.764434\n",
      "25  2016      2   5004.5795          77.164338\n",
      "26  2016      3   3611.9680         -27.826743\n",
      "27  2016      4   2977.8149         -17.556997\n",
      "28  2016      5   8662.1464         190.889350\n",
      "29  2016      6   4750.3781         -45.159342\n",
      "30  2016      7   4432.8779          -6.683683\n",
      "31  2016      8   2062.0693         -53.482380\n",
      "32  2016      9   9328.6576         352.393021\n",
      "33  2016     10  16243.1425          74.120899\n",
      "34  2016     11   4011.4075         -75.303994\n",
      "35  2016     12  17885.3093         345.861192\n",
      "36  2017      1   7140.4391         -60.076513\n",
      "37  2017      2   1613.8720         -77.398141\n",
      "38  2017      3  14751.8915         814.068247\n",
      "39  2017      4    933.2900         -93.673421\n",
      "40  2017      5   6342.5828         579.593995\n",
      "41  2017      6   8223.3357          29.652792\n",
      "42  2017      7   6952.6212         -15.452543\n",
      "43  2017      8   9040.9557          30.036650\n",
      "44  2017      9  10991.5556          21.575152\n",
      "45  2017     10   9275.2755         -15.614533\n",
      "46  2017     11   9690.1037           4.472408\n",
      "47  2017     12   8483.3468         -12.453498\n"
     ]
    }
   ],
   "source": [
    "# Question 216: Compare month-over-month growth in profit.\n",
    "monthly_profit = df.groupby(['year','month'])['Profit'].sum().reset_index()\n",
    "monthly_profit = monthly_profit.sort_values(by=['year','month'])\n",
    "monthly_profit['MoM_profit_growth'] = monthly_profit['Profit'].pct_change() * 100\n",
    "print(monthly_profit)"
   ]
  },
  {
   "cell_type": "code",
   "execution_count": 16,
   "id": "95ec0a39",
   "metadata": {},
   "outputs": [
    {
     "name": "stdout",
     "output_type": "stream",
     "text": [
      "    month        Sales\n",
      "10     11  352461.0710\n",
      "11     12  325293.5035\n",
      "8       9  307649.9457\n"
     ]
    }
   ],
   "source": [
    "# Question 217: Find seasonal peak months in sales.\n",
    "monthly_sales = df.groupby('month')['Sales'].sum().reset_index()\n",
    "monthly_sales = monthly_sales.sort_values(by='Sales', ascending=False)\n",
    "print(monthly_sales.head(3))\n",
    "\n"
   ]
  },
  {
   "cell_type": "code",
   "execution_count": 17,
   "id": "4ae0c99e",
   "metadata": {},
   "outputs": [
    {
     "name": "stdout",
     "output_type": "stream",
     "text": [
      "   month        Sales\n",
      "1      2   59751.2514\n",
      "0      1   94924.8356\n",
      "3      4  137762.1286\n"
     ]
    }
   ],
   "source": [
    "# Question 218: Find seasonal low months in sales.\n",
    "monthly_sales_low = monthly_sales.sort_values(by='Sales', ascending=True)\n",
    "print(monthly_sales_low.head(3)) "
   ]
  },
  {
   "cell_type": "code",
   "execution_count": 27,
   "id": "1614fe09",
   "metadata": {},
   "outputs": [
    {
     "name": "stdout",
     "output_type": "stream",
     "text": [
      "   year        Sales\n",
      "0  2014  148174.3372\n",
      "1  2015  150892.0847\n",
      "2  2016  176411.0088\n",
      "3  2017  202277.1438\n"
     ]
    }
   ],
   "source": [
    "# Question 219: Find holiday season sales (Nov–Dec).\n",
    "holiday_season_sales = df[df['month'].isin([11, 12])].groupby('year')['Sales'].sum().reset_index()\n",
    "print(holiday_season_sales)"
   ]
  },
  {
   "cell_type": "code",
   "execution_count": 28,
   "id": "2acc858e",
   "metadata": {},
   "outputs": [
    {
     "name": "stdout",
     "output_type": "stream",
     "text": [
      "   year      Profit\n",
      "0  2014  18275.6968\n",
      "1  2015  20491.7543\n",
      "2  2016  21896.7168\n",
      "3  2017  18173.4505\n"
     ]
    }
   ],
   "source": [
    "# Question 220: Find holiday season profit (Nov–Dec).\n",
    "holiday_season_profit = df[df['month'].isin([11, 12])].groupby('year')['Profit'].sum().reset_index()\n",
    "print(holiday_season_profit)"
   ]
  },
  {
   "cell_type": "code",
   "execution_count": null,
   "id": "2e429a94",
   "metadata": {},
   "outputs": [
    {
     "name": "stdout",
     "output_type": "stream",
     "text": [
      "weekday\n",
      "0    1871\n",
      "4    1818\n",
      "6    1710\n",
      "5    1655\n",
      "3    1463\n",
      "1    1106\n",
      "2     371\n",
      "Name: count, dtype: int64\n",
      "   day_type         Sales\n",
      "0  weekdays  1.553862e+06\n",
      "1   weekend  7.433385e+05\n"
     ]
    }
   ],
   "source": [
    "# Question 221: Compare sales between weekdays and weekends.\n",
    "# IMP\n",
    "print(df['weekday'].value_counts())\n",
    "df['day_type'] = df['weekday'].apply(lambda x: 'weekend' if x >= 5 else 'weekdays')\n",
    "sales_comparison = df.groupby('day_type')['Sales'].sum().reset_index()\n",
    "print(sales_comparison)"
   ]
  },
  {
   "cell_type": "code",
   "execution_count": 8,
   "id": "73f256ac",
   "metadata": {},
   "outputs": [
    {
     "name": "stdout",
     "output_type": "stream",
     "text": [
      "   day_type       Profit\n",
      "0  weekdays  187989.8895\n",
      "1   weekend   98407.1322\n"
     ]
    }
   ],
   "source": [
    "# Question 222: Compare profit between weekdays and weekends.\n",
    "profit_comparison = df.groupby('day_type')['Profit'].sum().reset_index()\n",
    "print(profit_comparison)\n"
   ]
  },
  {
   "cell_type": "code",
   "execution_count": 9,
   "id": "22b7edfb",
   "metadata": {},
   "outputs": [
    {
     "name": "stdout",
     "output_type": "stream",
     "text": [
      "   discount_status         Sales\n",
      "0   After Campaign  1.209292e+06\n",
      "1  Before Campaign  1.087908e+06\n"
     ]
    }
   ],
   "source": [
    "# Question 223: Compare sales before and after discount campaigns.\n",
    "df['discount_status'] = df['Discount'].apply(lambda x: 'After Campaign' if x > 0 else 'Before Campaign')\n",
    "sales_comparison_discount = df.groupby('discount_status')['Sales'].sum().reset_index()\n",
    "print(sales_comparison_discount)"
   ]
  },
  {
   "cell_type": "code",
   "execution_count": 10,
   "id": "3bb8d4d0",
   "metadata": {},
   "outputs": [
    {
     "name": "stdout",
     "output_type": "stream",
     "text": [
      "   discount_status       Profit\n",
      "0   After Campaign  -34590.5815\n",
      "1  Before Campaign  320987.6032\n"
     ]
    }
   ],
   "source": [
    "# Question 224: Compare profit before and after discount campaigns.\n",
    "profit_comparison_discount = df.groupby('discount_status')['Profit'].sum().reset_index()\n",
    "print(profit_comparison_discount)"
   ]
  },
  {
   "cell_type": "code",
   "execution_count": 13,
   "id": "aefbfc30",
   "metadata": {},
   "outputs": [
    {
     "name": "stdout",
     "output_type": "stream",
     "text": [
      "Q4 Sales: 878077.5592, Q1 Sales: 359681.5758\n"
     ]
    }
   ],
   "source": [
    "# Question 225: Compare sales during Q4 vs Q1.\n",
    "q4_sales = df[df['quarter'] == 4]['Sales'].sum()\n",
    "q1_sales = df[df['quarter'] == 1]['Sales'].sum()\n",
    "print(f\"Q4 Sales: {q4_sales}, Q1 Sales: {q1_sales}\")"
   ]
  },
  {
   "cell_type": "code",
   "execution_count": 14,
   "id": "e00b5392",
   "metadata": {},
   "outputs": [
    {
     "name": "stdout",
     "output_type": "stream",
     "text": [
      "Q4 Profit: 110621.65969999997, Q1 Profit: 48023.74399999999\n"
     ]
    }
   ],
   "source": [
    "# Question 226: Compare profit during Q4 vs Q1.\n",
    "q4_profit = df[df['quarter'] == 4]['Profit'].sum()\n",
    "q1_profit = df[df['quarter'] == 1]['Profit'].sum()\n",
    "print(f\"Q4 Profit: {q4_profit}, Q1 Profit: {q1_profit}\")"
   ]
  },
  {
   "cell_type": "code",
   "execution_count": null,
   "id": "975dc9a5",
   "metadata": {},
   "outputs": [
    {
     "name": "stdout",
     "output_type": "stream",
     "text": [
      "    year   Region        Sales  Sales_Growth\n",
      "0   2014  Central  103838.1646           NaN\n",
      "1   2014     East  128680.4570           NaN\n",
      "2   2014    South  103845.8435           NaN\n",
      "3   2014     West  147883.0330           NaN\n",
      "4   2015  Central  102874.2220     -0.928312\n",
      "5   2015     East  156332.0570     21.488578\n",
      "6   2015    South   71359.9805    -31.282776\n",
      "7   2015     West  139966.2495     -5.353409\n",
      "8   2016  Central  147429.3760     43.310319\n",
      "9   2016     East  180685.8220     15.578228\n",
      "10  2016    South   93610.2235     31.180282\n",
      "11  2016     West  187480.1765     33.946703\n",
      "12  2017  Central  147098.1282     -0.224682\n",
      "13  2017     East  213082.9040     17.930063\n",
      "14  2017    South  122905.8575     31.295336\n",
      "15  2017     West  250128.3655     33.415900\n"
     ]
    }
   ],
   "source": [
    "# Question 227: Find sales growth in each region per year.\n",
    "# IMP\n",
    "\n",
    "# First, calculate yearly sales per region\n",
    "yearly_region_sales = df.groupby(['year', 'Region'])['Sales'].sum().reset_index()\n",
    "\n",
    "# Then, calculate year-over-year growth per region\n",
    "yearly_region_sales['Sales_Growth'] = yearly_region_sales.groupby('Region')['Sales'].pct_change() * 100\n",
    "print(yearly_region_sales)"
   ]
  },
  {
   "cell_type": "code",
   "execution_count": null,
   "id": "b7745b2d",
   "metadata": {},
   "outputs": [
    {
     "name": "stdout",
     "output_type": "stream",
     "text": [
      "    year   Region      Profit  Profit_Growth\n",
      "0   2014  Central    539.5534            NaN\n",
      "1   2014     East  17059.6095            NaN\n",
      "2   2014    South  11879.1200            NaN\n",
      "3   2014     West  20065.6912            NaN\n",
      "4   2015  Central  11716.8020    2071.574120\n",
      "5   2015     East  21091.0130      23.631277\n",
      "6   2015    South   8318.5940     -29.972978\n",
      "7   2015     West  20492.1947       2.125536\n",
      "8   2016  Central  19899.1629      69.834422\n",
      "9   2016     East  20141.5961      -4.501523\n",
      "10  2016    South  17702.8084     112.810102\n",
      "11  2016     West  24051.6069      17.369600\n",
      "12  2017  Central   7550.8442     -62.054463\n",
      "13  2017     East  33230.5614      64.984747\n",
      "14  2017    South   8848.9079     -50.014101\n",
      "15  2017     West  43808.9561      82.145652\n"
     ]
    }
   ],
   "source": [
    "# Question 228: Find profit growth in each region per year.\n",
    "# IMP\n",
    "yearly_region_profit = df.groupby(['year', 'Region'])['Profit'].sum().reset_index()\n",
    "yearly_region_profit['Profit_Growth'] = yearly_region_profit.groupby('Region')['Profit'].pct_change() * 100\n",
    "print(yearly_region_profit)\n"
   ]
  },
  {
   "cell_type": "code",
   "execution_count": null,
   "id": "749f5d82",
   "metadata": {},
   "outputs": [
    {
     "name": "stdout",
     "output_type": "stream",
     "text": [
      "Category\n",
      "Furniture    2121\n",
      "Name: count, dtype: int64\n",
      "    year  quarter       Sales\n",
      "0   2014        1  22656.1390\n",
      "1   2014        2  28063.7496\n",
      "2   2014        3  41957.8783\n",
      "3   2014        4  64515.0862\n",
      "4   2015        1  27374.0986\n",
      "5   2015        2  27564.8280\n",
      "6   2015        3  49586.0352\n",
      "7   2015        4  65993.2752\n",
      "8   2016        1  24349.3860\n",
      "9   2016        2  41402.4970\n",
      "10  2016        3  52814.6322\n",
      "11  2016        4  80334.9208\n",
      "12  2017        1  23723.8142\n",
      "13  2017        2  45032.1030\n",
      "14  2017        3  56283.1020\n",
      "15  2017        4  90348.2500\n"
     ]
    }
   ],
   "source": [
    "# Question 229: Find sales trend in furniture category.\n",
    "#IMP\n",
    "furniture_category = df[df['Category'] == 'Furniture']\n",
    "print(furniture_category['Category'].value_counts())\n",
    "furniture_sales_trend = furniture_category.groupby(['year','quarter'])['Sales'].sum().reset_index()\n",
    "print(furniture_sales_trend)\n"
   ]
  },
  {
   "cell_type": "code",
   "execution_count": 23,
   "id": "c33bdcc8",
   "metadata": {},
   "outputs": [
    {
     "name": "stdout",
     "output_type": "stream",
     "text": [
      "    year  quarter      Profit\n",
      "0   2014        1   1778.2709\n",
      "1   2014        2   4624.4058\n",
      "2   2014        3   2923.2821\n",
      "3   2014        4  12166.8737\n",
      "4   2015        1   2617.3426\n",
      "5   2015        2   5959.9873\n",
      "6   2015        3  10955.6459\n",
      "7   2015        4  13970.8912\n",
      "8   2016        1   7319.7652\n",
      "9   2016        2  10542.7889\n",
      "10  2016        3   8109.0475\n",
      "11  2016        4  13802.3904\n",
      "12  2017        1  15813.5973\n",
      "13  2017        2   4561.3238\n",
      "14  2017        3  11310.6989\n",
      "15  2017        4  18998.6366\n"
     ]
    }
   ],
   "source": [
    "# Question 230: Find profit trend in technology category.\n",
    "\n",
    "technology_category = df[df['Category'] == 'Technology']\n",
    "technology_profit_trend = technology_category.groupby(['year','quarter'])['Profit'].sum().reset_index()\n",
    "print(technology_profit_trend)"
   ]
  },
  {
   "cell_type": "code",
   "execution_count": 24,
   "id": "5a60abb6",
   "metadata": {},
   "outputs": [
    {
     "name": "stdout",
     "output_type": "stream",
     "text": [
      "    year  quarter      Sales\n",
      "0   2014        1  14528.683\n",
      "1   2014        2  31243.735\n",
      "2   2014        3  53923.968\n",
      "3   2014        4  52080.026\n",
      "4   2015        1  23059.394\n",
      "5   2015        2  32320.041\n",
      "6   2015        3  35760.814\n",
      "7   2015        4  46093.214\n",
      "8   2016        1  29440.963\n",
      "9   2016        2  34584.459\n",
      "10  2016        3  45147.922\n",
      "11  2016        4  74766.638\n",
      "12  2017        1  43232.347\n",
      "13  2017        2  45721.194\n",
      "14  2017        3  72197.163\n",
      "15  2017        4  84946.471\n"
     ]
    }
   ],
   "source": [
    "# Question 231: Find sales trend in office supplies category.\n",
    "office_supply_category = df[df['Category'] == 'Office Supplies']\n",
    "office_supply_sales_trend = office_supply_category.groupby(['year','quarter'])['Sales'].sum().reset_index()\n",
    "print(office_supply_sales_trend)"
   ]
  },
  {
   "cell_type": "code",
   "execution_count": 25,
   "id": "dc600bc3",
   "metadata": {},
   "outputs": [
    {
     "name": "stdout",
     "output_type": "stream",
     "text": [
      "    year  quarter     Profit\n",
      "0   2014        1  -202.4968\n",
      "1   2014        2   800.8178\n",
      "2   2014        3  2896.3160\n",
      "3   2014        4  1963.0885\n",
      "4   2015        1 -1164.2479\n",
      "5   2015        2   826.5752\n",
      "6   2015        3   537.5538\n",
      "7   2015        4  2815.3218\n",
      "8   2016        1   125.7279\n",
      "9   2016        2  2083.0408\n",
      "10  2016        3  1247.3641\n",
      "11  2016        4  3503.8203\n",
      "12  2017        1   762.3709\n",
      "13  2017        2  1034.5751\n",
      "14  2017        3  2195.5471\n",
      "15  2017        4  -974.1018\n"
     ]
    }
   ],
   "source": [
    "# Question 232: Find profit trend in furniture category.\n",
    "furniture_category = df[df['Category'] == 'Furniture']\n",
    "furniture_profit_trend = furniture_category.groupby(['year','quarter'])['Profit'].sum().reset_index()\n",
    "print(furniture_profit_trend)"
   ]
  },
  {
   "cell_type": "code",
   "execution_count": 26,
   "id": "4ca7eeda",
   "metadata": {},
   "outputs": [
    {
     "name": "stdout",
     "output_type": "stream",
     "text": [
      "    year      Segment        Sales  Sales_Growth\n",
      "0   2014     Consumer  266096.8126           NaN\n",
      "1   2014    Corporate  128434.8737           NaN\n",
      "2   2014  Home Office   89715.8118           NaN\n",
      "3   2015     Consumer  266535.9333      0.165023\n",
      "4   2015    Corporate  128757.3069      0.251048\n",
      "5   2015  Home Office   75239.2688    -16.136000\n",
      "6   2016     Consumer  296863.8992     11.378566\n",
      "7   2016    Corporate  207106.3618     60.850181\n",
      "8   2016  Home Office  105235.3370     39.867570\n",
      "9   2017     Consumer  331904.6999     11.803658\n",
      "10  2017    Corporate  241847.8244     16.774696\n",
      "11  2017  Home Office  159462.7309     51.529643\n"
     ]
    }
   ],
   "source": [
    "# Question 233: Find sales growth by segment year over year.\n",
    "# IMP\n",
    "yearly_segment_sales = df.groupby(['year', 'Segment'])['Sales'].sum().reset_index()\n",
    "yearly_segment_sales['Sales_Growth'] = yearly_segment_sales.groupby('Segment')['Sales'].pct_change() * 100\n",
    "print(yearly_segment_sales)"
   ]
  },
  {
   "cell_type": "code",
   "execution_count": 27,
   "id": "6a1eb84b",
   "metadata": {},
   "outputs": [
    {
     "name": "stdout",
     "output_type": "stream",
     "text": [
      "    year      Segment      Profit  Profit_Growth\n",
      "0   2014     Consumer  24319.8504            NaN\n",
      "1   2014    Corporate  13513.2769            NaN\n",
      "2   2014  Home Office  11710.8468            NaN\n",
      "3   2015     Consumer  28460.1665      17.024431\n",
      "4   2015    Corporate  20688.3248      53.096284\n",
      "5   2015  Home Office  12470.1124       6.483439\n",
      "6   2016     Consumer  35770.9532      25.687786\n",
      "7   2016    Corporate  30995.1690      49.819617\n",
      "8   2016  Home Office  15029.0521      20.520582\n",
      "9   2017     Consumer  45568.2391      27.388943\n",
      "10  2017    Corporate  26782.3633     -13.591814\n",
      "11  2017  Home Office  21088.6672      40.319343\n"
     ]
    }
   ],
   "source": [
    "# Question 234: Find profit growth by segment year over year.\n",
    "# IMP\n",
    "yearly_segment_profit = df.groupby(['year', 'Segment'])['Profit'].sum().reset_index()\n",
    "yearly_segment_profit['Profit_Growth'] = yearly_segment_profit.groupby('Segment')['Profit'].pct_change() * 100\n",
    "print(yearly_segment_profit)\n"
   ]
  },
  {
   "cell_type": "code",
   "execution_count": null,
   "id": "c1bb7952",
   "metadata": {},
   "outputs": [
    {
     "name": "stdout",
     "output_type": "stream",
     "text": [
      "    year  month  No. Of Orders\n",
      "0   2014      1             32\n",
      "1   2014      2             28\n",
      "2   2014      3             71\n",
      "3   2014      4             66\n",
      "4   2014      5             69\n",
      "5   2014      6             66\n",
      "6   2014      7             65\n",
      "7   2014      8             72\n",
      "8   2014      9            130\n",
      "9   2014     10             78\n",
      "10  2014     11            151\n",
      "11  2014     12            141\n",
      "12  2015      1             29\n",
      "13  2015      2             36\n",
      "14  2015      3             79\n",
      "15  2015      4             72\n",
      "16  2015      5             74\n",
      "17  2015      6             68\n",
      "18  2015      7             66\n",
      "19  2015      8             68\n",
      "20  2015      9            140\n",
      "21  2015     10             87\n",
      "22  2015     11            158\n",
      "23  2015     12            161\n",
      "24  2016      1             48\n",
      "25  2016      2             45\n",
      "26  2016      3             86\n",
      "27  2016      4             89\n",
      "28  2016      5            108\n",
      "29  2016      6             97\n",
      "30  2016      7             96\n",
      "31  2016      8             90\n",
      "32  2016      9            192\n",
      "33  2016     10            105\n",
      "34  2016     11            183\n",
      "35  2016     12            176\n",
      "36  2017      1             69\n",
      "37  2017      2             53\n",
      "38  2017      3            118\n",
      "39  2017      4            116\n",
      "40  2017      5            118\n",
      "41  2017      6            133\n",
      "42  2017      7            111\n",
      "43  2017      8            111\n",
      "44  2017      9            226\n",
      "45  2017     10            147\n",
      "46  2017     11            261\n",
      "47  2017     12            224\n"
     ]
    }
   ],
   "source": [
    "# Question 235: Find number of orders month by month.\n",
    "#IMP\n",
    "monthly_orders = df.groupby(['year','month'])['Order ID'].nunique().reset_index().rename(columns={'Order ID':'No. Of Orders'})\n",
    "print(monthly_orders)"
   ]
  },
  {
   "cell_type": "code",
   "execution_count": 31,
   "id": "32b42ada",
   "metadata": {},
   "outputs": [
    {
     "name": "stdout",
     "output_type": "stream",
     "text": [
      "    year  quarter  No. of Orders\n",
      "0   2014        1            131\n",
      "1   2014        2            201\n",
      "2   2014        3            267\n",
      "3   2014        4            370\n",
      "4   2015        1            144\n",
      "5   2015        2            214\n",
      "6   2015        3            274\n",
      "7   2015        4            406\n",
      "8   2016        1            179\n",
      "9   2016        2            294\n",
      "10  2016        3            378\n",
      "11  2016        4            464\n",
      "12  2017        1            240\n",
      "13  2017        2            367\n",
      "14  2017        3            448\n",
      "15  2017        4            632\n"
     ]
    }
   ],
   "source": [
    "# Question 236: Find number of orders quarter by quarter.\n",
    "quarterly_orders = df.groupby(['year','quarter'])['Order ID'].nunique().reset_index().rename(columns={'Order ID':'No. of Orders'})\n",
    "print(quarterly_orders)"
   ]
  },
  {
   "cell_type": "code",
   "execution_count": 34,
   "id": "8895854d",
   "metadata": {},
   "outputs": [
    {
     "name": "stdout",
     "output_type": "stream",
     "text": [
      "Empty DataFrame\n",
      "Columns: [Row ID, Order ID, Order Date, Ship Date, Ship Mode, Customer ID, Customer Name, Segment, Country, City, State, Postal Code, Region, Product ID, Category, Sub-Category, Product Name, Sales, Quantity, Discount, Profit, year, quarter, month, weekday, day_type, discount_status]\n",
      "Index: []\n",
      "\n",
      "[0 rows x 27 columns]\n",
      "0.0\n"
     ]
    }
   ],
   "source": [
    "# Question 237: Find sales during Black Friday week.\n",
    "# IMP\n",
    "\n",
    "# It usually falls between Nov 23–29\n",
    "\n",
    "black_friday_week = df[(df['month'] == 11) & (df['weekday'].between(20,30))]\n",
    "print(black_friday_week)\n",
    "black_friday_sales = black_friday_week['Sales'].sum()\n",
    "print(black_friday_sales)"
   ]
  },
  {
   "cell_type": "code",
   "execution_count": 35,
   "id": "56e4442f",
   "metadata": {},
   "outputs": [
    {
     "name": "stdout",
     "output_type": "stream",
     "text": [
      "0.0\n"
     ]
    }
   ],
   "source": [
    "# Question 238: Find profit during Black Friday week.\n",
    "# black_friday_week = df[(df['month'] == 11) & (df['weekday'].between(20,30))]\n",
    "black_friday_profit = black_friday_week['Profit'].sum()\n",
    "print(black_friday_profit)"
   ]
  },
  {
   "cell_type": "code",
   "execution_count": null,
   "id": "d2036e3b",
   "metadata": {},
   "outputs": [
    {
     "name": "stdout",
     "output_type": "stream",
     "text": [
      "    year  month        Sales\n",
      "10  2014     11   78628.7167\n",
      "22  2015     11   75972.5635\n",
      "34  2016     11   79411.9658\n",
      "46  2017     11  118447.8250\n",
      "    year  month       Sales\n",
      "11  2014     12  69545.6205\n",
      "23  2015     12  74919.5212\n",
      "35  2016     12  96999.0430\n",
      "47  2017     12  83829.3188\n",
      "   year  month_Dec   Sales_Dec  month_Nov    Sales_Nov   Growth_%\n",
      "0  2014         12  69545.6205         11   78628.7167 -11.551882\n",
      "1  2015         12  74919.5212         11   75972.5635  -1.386082\n",
      "2  2016         12  96999.0430         11   79411.9658  22.146634\n",
      "3  2017         12  83829.3188         11  118447.8250 -29.226798\n"
     ]
    }
   ],
   "source": [
    "# Question 239: Find sales spike in December.\n",
    "# IMP\n",
    "\n",
    "monthly_sales = df.groupby(['year','month'])['Sales'].sum().reset_index()\n",
    "\n",
    "dec_sales = monthly_sales[monthly_sales['month'] == 12]\n",
    "nov_sales = monthly_sales[monthly_sales['month'] == 11]\n",
    "print(nov_sales)\n",
    "print(dec_sales)\n",
    "# Merge both to compare\n",
    "# pd.merge(..., on='year') lines up rows where year matches in both frames. By default the merge is an inner join, \n",
    "# so only years present in both frames are kept.\n",
    "# Because both frames have a column called Sales, suffixes=('_Dec','_Nov') tells pandas \n",
    "# how to rename those duplicate column names in the result.\n",
    "comparison = pd.merge(dec_sales, nov_sales, on='year', suffixes=('_Dec', '_Nov'))\n",
    "# Calculate growth %\n",
    "comparison['Growth_%'] = ((comparison['Sales_Dec'] - comparison['Sales_Nov']) / comparison['Sales_Nov']) * 100\n",
    "print(comparison)"
   ]
  },
  {
   "cell_type": "code",
   "execution_count": 46,
   "id": "cdf30929",
   "metadata": {},
   "outputs": [
    {
     "name": "stdout",
     "output_type": "stream",
     "text": [
      "   year  month_Jan   Sales_Jan  month_Dec   Sales_Dec      Dip_%\n",
      "0  2015          1  18174.0756         12  69545.6205 -73.867405\n",
      "1  2016          1  18542.4910         12  74919.5212 -75.250121\n",
      "2  2017          1  43971.3740         12  96999.0430 -54.668239\n"
     ]
    },
    {
     "name": "stderr",
     "output_type": "stream",
     "text": [
      "C:\\Users\\udite\\AppData\\Local\\Temp\\ipykernel_15564\\929732981.py:5: SettingWithCopyWarning: \n",
      "A value is trying to be set on a copy of a slice from a DataFrame.\n",
      "Try using .loc[row_indexer,col_indexer] = value instead\n",
      "\n",
      "See the caveats in the documentation: https://pandas.pydata.org/pandas-docs/stable/user_guide/indexing.html#returning-a-view-versus-a-copy\n",
      "  dec_sales['year'] = dec_sales['year'] + 1\n"
     ]
    }
   ],
   "source": [
    "# Question 240: Find sales dip in January.\n",
    "\n",
    "jan_sales = monthly_sales[monthly_sales['month'] == 1]\n",
    "# Shift December's year by +1 so it aligns with next January\n",
    "dec_sales['year'] = dec_sales['year'] + 1\n",
    "\n",
    "comparison = pd.merge(jan_sales,dec_sales, on='year', suffixes=('_Jan', '_Dec'))\n",
    "comparison['Dip_%'] = ((comparison['Sales_Jan'] - comparison['Sales_Dec']) / comparison['Sales_Dec']) * 100\n",
    "print(comparison)"
   ]
  },
  {
   "cell_type": "code",
   "execution_count": null,
   "id": "c2e0286d",
   "metadata": {},
   "outputs": [],
   "source": []
  }
 ],
 "metadata": {
  "kernelspec": {
   "display_name": "Python 3",
   "language": "python",
   "name": "python3"
  },
  "language_info": {
   "codemirror_mode": {
    "name": "ipython",
    "version": 3
   },
   "file_extension": ".py",
   "mimetype": "text/x-python",
   "name": "python",
   "nbconvert_exporter": "python",
   "pygments_lexer": "ipython3",
   "version": "3.13.2"
  }
 },
 "nbformat": 4,
 "nbformat_minor": 5
}
