{
 "cells": [
  {
   "cell_type": "code",
   "execution_count": 1,
   "id": "3e0dcd1e",
   "metadata": {},
   "outputs": [],
   "source": [
    "import numpy as np\n",
    "import pandas as pd"
   ]
  },
  {
   "cell_type": "code",
   "execution_count": 4,
   "id": "fcc990f0",
   "metadata": {},
   "outputs": [
    {
     "name": "stdout",
     "output_type": "stream",
     "text": [
      "   Row ID        Order ID Order Date  Ship Date       Ship Mode Customer ID  \\\n",
      "0       1  CA-2016-152156 2016-11-08 2016-11-11    Second Class    CG-12520   \n",
      "1       2  CA-2016-152156 2016-11-08 2016-11-11    Second Class    CG-12520   \n",
      "2       3  CA-2016-138688 2016-06-12 2016-06-16    Second Class    DV-13045   \n",
      "3       4  US-2015-108966 2015-10-11 2015-10-18  Standard Class    SO-20335   \n",
      "4       5  US-2015-108966 2015-10-11 2015-10-18  Standard Class    SO-20335   \n",
      "\n",
      "     Customer Name    Segment        Country             City  ...  \\\n",
      "0      Claire Gute   Consumer  United States        Henderson  ...   \n",
      "1      Claire Gute   Consumer  United States        Henderson  ...   \n",
      "2  Darrin Van Huff  Corporate  United States      Los Angeles  ...   \n",
      "3   Sean O'Donnell   Consumer  United States  Fort Lauderdale  ...   \n",
      "4   Sean O'Donnell   Consumer  United States  Fort Lauderdale  ...   \n",
      "\n",
      "  Postal Code  Region       Product ID         Category Sub-Category  \\\n",
      "0       42420   South  FUR-BO-10001798        Furniture    Bookcases   \n",
      "1       42420   South  FUR-CH-10000454        Furniture       Chairs   \n",
      "2       90036    West  OFF-LA-10000240  Office Supplies       Labels   \n",
      "3       33311   South  FUR-TA-10000577        Furniture       Tables   \n",
      "4       33311   South  OFF-ST-10000760  Office Supplies      Storage   \n",
      "\n",
      "                                        Product Name     Sales  Quantity  \\\n",
      "0                  Bush Somerset Collection Bookcase  261.9600         2   \n",
      "1  Hon Deluxe Fabric Upholstered Stacking Chairs,...  731.9400         3   \n",
      "2  Self-Adhesive Address Labels for Typewriters b...   14.6200         2   \n",
      "3      Bretford CR4500 Series Slim Rectangular Table  957.5775         5   \n",
      "4                     Eldon Fold 'N Roll Cart System   22.3680         2   \n",
      "\n",
      "   Discount    Profit  \n",
      "0      0.00   41.9136  \n",
      "1      0.00  219.5820  \n",
      "2      0.00    6.8714  \n",
      "3      0.45 -383.0310  \n",
      "4      0.20    2.5164  \n",
      "\n",
      "[5 rows x 21 columns]\n",
      "(9994, 21)\n"
     ]
    }
   ],
   "source": [
    "df = pd.read_excel('Sample - Superstore.xls')\n",
    "print(df.head())\n",
    "print(df.shape)"
   ]
  },
  {
   "cell_type": "code",
   "execution_count": null,
   "id": "9757ddf3",
   "metadata": {},
   "outputs": [
    {
     "name": "stdout",
     "output_type": "stream",
     "text": [
      "5009\n"
     ]
    }
   ],
   "source": [
    "# Question 1: Find total number of orders in the dataset.\n",
    "total_orders = df['Order ID'].nunique()\n",
    "print(total_orders)"
   ]
  },
  {
   "cell_type": "code",
   "execution_count": null,
   "id": "838f5f50",
   "metadata": {},
   "outputs": [
    {
     "name": "stdout",
     "output_type": "stream",
     "text": [
      "2014-01-03 00:00:00\n"
     ]
    }
   ],
   "source": [
    "# Question 2: Find the earliest order date.\n",
    "earliest_order_date = df['Order Date'].min()\n",
    "print(earliest_order_date)"
   ]
  },
  {
   "cell_type": "code",
   "execution_count": 8,
   "id": "a70b0511",
   "metadata": {},
   "outputs": [
    {
     "name": "stdout",
     "output_type": "stream",
     "text": [
      "2017-12-30 00:00:00\n"
     ]
    }
   ],
   "source": [
    "# Question 3: Find the latest order date.\n",
    "latest_order_date = df['Order Date'].max()\n",
    "print(latest_order_date)"
   ]
  },
  {
   "cell_type": "code",
   "execution_count": 10,
   "id": "ba62f7bd",
   "metadata": {},
   "outputs": [
    {
     "name": "stdout",
     "output_type": "stream",
     "text": [
      "793\n"
     ]
    }
   ],
   "source": [
    "# Question 4: Find the total number of unique customers.\n",
    "total_unique_customers = df['Customer ID'].nunique()\n",
    "print(total_unique_customers)\n"
   ]
  },
  {
   "cell_type": "code",
   "execution_count": 11,
   "id": "5c089375",
   "metadata": {},
   "outputs": [
    {
     "name": "stdout",
     "output_type": "stream",
     "text": [
      "1862\n"
     ]
    }
   ],
   "source": [
    "# Question 5: Find the total number of unique products sold.\n",
    "total_unique_products = df['Product ID'].nunique()\n",
    "print(total_unique_products)"
   ]
  },
  {
   "cell_type": "code",
   "execution_count": 12,
   "id": "7488a46b",
   "metadata": {},
   "outputs": [
    {
     "name": "stdout",
     "output_type": "stream",
     "text": [
      "3\n"
     ]
    }
   ],
   "source": [
    "# Question 6: Find the total number of unique categories.\n",
    "total_unique_category = df['Category'].nunique()\n",
    "print(total_unique_category)"
   ]
  },
  {
   "cell_type": "code",
   "execution_count": 13,
   "id": "75a61858",
   "metadata": {},
   "outputs": [
    {
     "name": "stdout",
     "output_type": "stream",
     "text": [
      "17\n"
     ]
    }
   ],
   "source": [
    "# Question 7: Find the total number of unique sub-categories.\n",
    "total_unique_sub_category = df['Sub-Category'].nunique()\n",
    "print(total_unique_sub_category)"
   ]
  },
  {
   "cell_type": "code",
   "execution_count": null,
   "id": "2036b63f",
   "metadata": {},
   "outputs": [
    {
     "name": "stdout",
     "output_type": "stream",
     "text": [
      "Region\n",
      "West       3203\n",
      "East       2848\n",
      "Central    2323\n",
      "South      1620\n",
      "Name: count, dtype: int64\n"
     ]
    }
   ],
   "source": [
    "# Question 8: Count number of orders in each region.\n",
    "\n",
    "# orders_by_region = df.groupby(\"Region\")[\"Order ID\"].value_counts()\n",
    "# print(orders_by_region)\n",
    "#print(orders_by_region[df[\"Region\"] == \"East\"].head(50))\n",
    "\n",
    "\n",
    "orders_by_region = df['Region'].value_counts()\n",
    "print(orders_by_region)"
   ]
  },
  {
   "cell_type": "code",
   "execution_count": 32,
   "id": "c02cd8b8",
   "metadata": {},
   "outputs": [
    {
     "name": "stdout",
     "output_type": "stream",
     "text": [
      "State\n",
      "California              2001\n",
      "New York                1128\n",
      "Texas                    985\n",
      "Pennsylvania             587\n",
      "Washington               506\n",
      "Illinois                 492\n",
      "Ohio                     469\n",
      "Florida                  383\n",
      "Michigan                 255\n",
      "North Carolina           249\n",
      "Arizona                  224\n",
      "Virginia                 224\n",
      "Georgia                  184\n",
      "Tennessee                183\n",
      "Colorado                 182\n",
      "Indiana                  149\n",
      "Kentucky                 139\n",
      "Massachusetts            135\n",
      "New Jersey               130\n",
      "Oregon                   124\n",
      "Wisconsin                110\n",
      "Maryland                 105\n",
      "Delaware                  96\n",
      "Minnesota                 89\n",
      "Connecticut               82\n",
      "Missouri                  66\n",
      "Oklahoma                  66\n",
      "Alabama                   61\n",
      "Arkansas                  60\n",
      "Rhode Island              56\n",
      "Utah                      53\n",
      "Mississippi               53\n",
      "South Carolina            42\n",
      "Louisiana                 42\n",
      "Nevada                    39\n",
      "Nebraska                  38\n",
      "New Mexico                37\n",
      "Iowa                      30\n",
      "New Hampshire             27\n",
      "Kansas                    24\n",
      "Idaho                     21\n",
      "Montana                   15\n",
      "South Dakota              12\n",
      "Vermont                   11\n",
      "District of Columbia      10\n",
      "Maine                      8\n",
      "North Dakota               7\n",
      "West Virginia              4\n",
      "Wyoming                    1\n",
      "Name: count, dtype: int64\n"
     ]
    }
   ],
   "source": [
    "# Question 9: Count number of orders by state.\n",
    "\n",
    "orders_by_state = df['State'].value_counts()\n",
    "print(orders_by_state)"
   ]
  },
  {
   "cell_type": "code",
   "execution_count": 33,
   "id": "dfbfa565",
   "metadata": {},
   "outputs": [
    {
     "name": "stdout",
     "output_type": "stream",
     "text": [
      "City\n",
      "New York City    915\n",
      "Los Angeles      747\n",
      "Philadelphia     537\n",
      "San Francisco    510\n",
      "Seattle          428\n",
      "                ... \n",
      "Abilene            1\n",
      "Montebello         1\n",
      "Kissimmee          1\n",
      "Danbury            1\n",
      "Springdale         1\n",
      "Name: count, Length: 531, dtype: int64\n"
     ]
    }
   ],
   "source": [
    "# Question 10: Count number of orders by city.\n",
    "\n",
    "orders_by_city = df['City'].value_counts()\n",
    "print(orders_by_city)"
   ]
  },
  {
   "cell_type": "code",
   "execution_count": 56,
   "id": "31756e1a",
   "metadata": {},
   "outputs": [
    {
     "name": "stdout",
     "output_type": "stream",
     "text": [
      "Standard Class\n"
     ]
    }
   ],
   "source": [
    "# Question 11: Find the most common ship mode.\n",
    "most_comm_ship_mode = df['Ship Mode'].value_counts().idxmax()\n",
    "print(most_comm_ship_mode)"
   ]
  },
  {
   "cell_type": "code",
   "execution_count": 36,
   "id": "562df893",
   "metadata": {},
   "outputs": [
    {
     "name": "stdout",
     "output_type": "stream",
     "text": [
      "Same Day\n"
     ]
    }
   ],
   "source": [
    "# Question 12: Find the least common ship mode.\n",
    "least_comm_ship_mode = df['Ship Mode'].value_counts().idxmin()\n",
    "print(least_comm_ship_mode)"
   ]
  },
  {
   "cell_type": "code",
   "execution_count": null,
   "id": "7f0ab1f5",
   "metadata": {},
   "outputs": [
    {
     "name": "stdout",
     "output_type": "stream",
     "text": [
      "543\n"
     ]
    }
   ],
   "source": [
    "# Question 13: Count number of orders shipped with \"Same Day\" mode.\n",
    "same_day_orders = df[df['Ship Mode'] == 'Same Day'].value_counts().sum()\n",
    "\n",
    "# same_day_orders = df[df['Ship Mode'] == 'Same Day'].shape[0]\n",
    "print(same_day_orders)"
   ]
  },
  {
   "cell_type": "code",
   "execution_count": 42,
   "id": "f1bc47aa",
   "metadata": {},
   "outputs": [
    {
     "name": "stdout",
     "output_type": "stream",
     "text": [
      "1538\n"
     ]
    }
   ],
   "source": [
    "# Question 14: Count number of orders shipped with \"First Class\".\n",
    "\n",
    "first_class_orders = df[df['Ship Mode'] == 'First Class'].shape[0]\n",
    "print(first_class_orders)"
   ]
  },
  {
   "cell_type": "code",
   "execution_count": 43,
   "id": "7d77e30d",
   "metadata": {},
   "outputs": [
    {
     "name": "stdout",
     "output_type": "stream",
     "text": [
      "1945\n"
     ]
    }
   ],
   "source": [
    "# Question 15: Count number of orders shipped with \"Second Class\".\n",
    "Second_class_orders = df[df['Ship Mode'] == 'Second Class'].shape[0]\n",
    "print(Second_class_orders)"
   ]
  },
  {
   "cell_type": "code",
   "execution_count": 44,
   "id": "afd1f328",
   "metadata": {},
   "outputs": [
    {
     "name": "stdout",
     "output_type": "stream",
     "text": [
      "5968\n"
     ]
    }
   ],
   "source": [
    "# Question 16: Count number of orders shipped with \"Standard Class\".\n",
    "standard_class_orders = df[df['Ship Mode'] == 'Standard Class'].shape[0]\n",
    "print(standard_class_orders)"
   ]
  },
  {
   "cell_type": "code",
   "execution_count": null,
   "id": "dd22eabf",
   "metadata": {},
   "outputs": [
    {
     "name": "stdout",
     "output_type": "stream",
     "text": [
      "Order Date\n",
      "2017    3312\n",
      "2016    2587\n",
      "2015    2102\n",
      "2014    1993\n",
      "Name: count, dtype: int64\n"
     ]
    }
   ],
   "source": [
    "# Question 17: Find number of orders in each year.\n",
    "\n",
    "df['year'] = df['Order Date'].dt.year\n",
    "print(df['year'].value_counts())"
   ]
  },
  {
   "cell_type": "code",
   "execution_count": 49,
   "id": "31c24f66",
   "metadata": {},
   "outputs": [
    {
     "name": "stdout",
     "output_type": "stream",
     "text": [
      "quarter\n",
      "4    3698\n",
      "3    2799\n",
      "2    2120\n",
      "1    1377\n",
      "Name: count, dtype: int64\n"
     ]
    }
   ],
   "source": [
    "# Question 18: Find number of orders in each quarter.\n",
    "df['quarter'] = df['Order Date'].dt.quarter\n",
    "print(df['quarter'].value_counts())\n"
   ]
  },
  {
   "cell_type": "code",
   "execution_count": 50,
   "id": "1f667a44",
   "metadata": {},
   "outputs": [
    {
     "name": "stdout",
     "output_type": "stream",
     "text": [
      "month\n",
      "11    1471\n",
      "12    1408\n",
      "9     1383\n",
      "10     819\n",
      "5      735\n",
      "6      717\n",
      "7      710\n",
      "8      706\n",
      "3      696\n",
      "4      668\n",
      "1      381\n",
      "2      300\n",
      "Name: count, dtype: int64\n"
     ]
    }
   ],
   "source": [
    "# Question 19: Find number of orders in each month.\n",
    "df['month'] = df['Order Date'].dt.month\n",
    "print(df['month'].value_counts())"
   ]
  },
  {
   "cell_type": "code",
   "execution_count": 51,
   "id": "a5b6f561",
   "metadata": {},
   "outputs": [
    {
     "name": "stdout",
     "output_type": "stream",
     "text": [
      "weekday\n",
      "0    1871\n",
      "4    1818\n",
      "6    1710\n",
      "5    1655\n",
      "3    1463\n",
      "1    1106\n",
      "2     371\n",
      "Name: count, dtype: int64\n"
     ]
    }
   ],
   "source": [
    "# Question 20: Find number of orders in each weekday.\n",
    "df['weekday'] = df['Order Date'].dt.weekday\n",
    "print(df['weekday'].value_counts())"
   ]
  },
  {
   "cell_type": "code",
   "execution_count": 53,
   "id": "7b490cfe",
   "metadata": {},
   "outputs": [
    {
     "name": "stdout",
     "output_type": "stream",
     "text": [
      "5196\n"
     ]
    }
   ],
   "source": [
    "# Question 21: Count orders with discount applied.\n",
    "\n",
    "orders_with_discount = df[df['Discount'] > 0].shape[0]\n",
    "print(orders_with_discount)"
   ]
  },
  {
   "cell_type": "code",
   "execution_count": null,
   "id": "1dd67b7e",
   "metadata": {},
   "outputs": [
    {
     "name": "stdout",
     "output_type": "stream",
     "text": [
      "4798\n"
     ]
    }
   ],
   "source": [
    "# Question 22: Count orders without discount.\n",
    "orders_without_discount = df[df['Discount'] == 0].shape[0]\n",
    "print(orders_without_discount)"
   ]
  },
  {
   "cell_type": "code",
   "execution_count": null,
   "id": "c0ec157d",
   "metadata": {},
   "outputs": [
    {
     "name": "stdout",
     "output_type": "stream",
     "text": [
      "4798\n"
     ]
    }
   ],
   "source": [
    "# Question 23: Count orders where discount = 0.\n",
    "orders_without_discount = df[df['Discount'] == 0].shape[0]\n",
    "print(orders_without_discount)"
   ]
  },
  {
   "cell_type": "code",
   "execution_count": 59,
   "id": "cacde2df",
   "metadata": {},
   "outputs": [
    {
     "name": "stdout",
     "output_type": "stream",
     "text": [
      "1393\n"
     ]
    }
   ],
   "source": [
    "# Question 24: Count orders where discount > 0.2.\n",
    "orders_with_discount_grt_pointTwo = df[df['Discount'] > 0.2].shape[0]\n",
    "print(orders_with_discount_grt_pointTwo)"
   ]
  },
  {
   "cell_type": "code",
   "execution_count": 60,
   "id": "333e9974",
   "metadata": {},
   "outputs": [
    {
     "name": "stdout",
     "output_type": "stream",
     "text": [
      "66\n"
     ]
    }
   ],
   "source": [
    "# Question 25: Count orders where discount = 0.5.\n",
    "orders_with_discount_grt_pointFive = df[df['Discount'] == 0.5].shape[0]\n",
    "print(orders_with_discount_grt_pointFive)"
   ]
  },
  {
   "cell_type": "code",
   "execution_count": 61,
   "id": "c58bdb83",
   "metadata": {},
   "outputs": [
    {
     "name": "stdout",
     "output_type": "stream",
     "text": [
      "0.8\n"
     ]
    }
   ],
   "source": [
    "# Question 26: Find maximum discount given.\n",
    "max_discount = df['Discount'].max()\n",
    "print(max_discount)"
   ]
  },
  {
   "cell_type": "code",
   "execution_count": 68,
   "id": "e701c687",
   "metadata": {},
   "outputs": [
    {
     "name": "stdout",
     "output_type": "stream",
     "text": [
      "0.1\n"
     ]
    }
   ],
   "source": [
    "# Question 27: Find minimum discount given.\n",
    "\n",
    "# df['Discount'] > 0 → creates a boolean mask to exclude zeros.\n",
    "# df.loc[mask, 'Discount'] → selects only the Discount column where discount > 0.\n",
    "# .min() → finds the minimum value from that filtered column.\n",
    "min_discount = df.loc[df['Discount'] > 0, 'Discount'].min()\n",
    "print(min_discount)"
   ]
  },
  {
   "cell_type": "code",
   "execution_count": 70,
   "id": "4c656d24",
   "metadata": {},
   "outputs": [
    {
     "name": "stdout",
     "output_type": "stream",
     "text": [
      "1871\n"
     ]
    }
   ],
   "source": [
    "# Question 28: Count orders where profit < 0.\n",
    "\n",
    "orders_with_profit_lt_0 =  df[df['Profit'] < 0].shape[0]\n",
    "print(orders_with_profit_lt_0)"
   ]
  },
  {
   "cell_type": "code",
   "execution_count": 71,
   "id": "3b5a50c8",
   "metadata": {},
   "outputs": [
    {
     "name": "stdout",
     "output_type": "stream",
     "text": [
      "65\n"
     ]
    }
   ],
   "source": [
    "# Question 29: Count orders where profit = 0.\n",
    "\n",
    "orders_with_profit_is_0 =  df[df['Profit'] == 0].shape[0]\n",
    "print(orders_with_profit_is_0)"
   ]
  },
  {
   "cell_type": "code",
   "execution_count": 73,
   "id": "ebcb3a14",
   "metadata": {},
   "outputs": [
    {
     "name": "stdout",
     "output_type": "stream",
     "text": [
      "890\n"
     ]
    }
   ],
   "source": [
    "# Question 30: Count orders where profit > 100.\n",
    "orders_with_profit_gt_100 =  df[df['Profit'] > 100].shape[0]\n",
    "print(orders_with_profit_gt_100)"
   ]
  },
  {
   "cell_type": "code",
   "execution_count": 74,
   "id": "6abbc024",
   "metadata": {},
   "outputs": [
    {
     "name": "stdout",
     "output_type": "stream",
     "text": [
      "468\n"
     ]
    }
   ],
   "source": [
    "# Question 31: Count orders where sales > 1000.\n",
    "orders_with_sales_gt_1000 =  df[df['Sales'] > 1000].shape[0]\n",
    "print(orders_with_sales_gt_1000)"
   ]
  },
  {
   "cell_type": "code",
   "execution_count": 75,
   "id": "ad9e740d",
   "metadata": {},
   "outputs": [
    {
     "name": "stdout",
     "output_type": "stream",
     "text": [
      "37873\n"
     ]
    }
   ],
   "source": [
    "# Question 32: Find total quantity sold.\n",
    "total_quantity_sold = df['Quantity'].sum()\n",
    "print(total_quantity_sold)"
   ]
  },
  {
   "cell_type": "code",
   "execution_count": 76,
   "id": "dd01b54f",
   "metadata": {},
   "outputs": [
    {
     "name": "stdout",
     "output_type": "stream",
     "text": [
      "3.789573744246548\n"
     ]
    }
   ],
   "source": [
    "# Question 33: Find average quantity per order.\n",
    "\n",
    "avg_quantity_per_order = df['Quantity'].mean()\n",
    "print(avg_quantity_per_order)"
   ]
  },
  {
   "cell_type": "code",
   "execution_count": 77,
   "id": "d992b203",
   "metadata": {},
   "outputs": [
    {
     "name": "stdout",
     "output_type": "stream",
     "text": [
      "229.85800083049827\n"
     ]
    }
   ],
   "source": [
    "# Question 34: Find average sales per order.\n",
    "\n",
    "avg_sales_per_order = df['Sales'].mean()\n",
    "print(avg_sales_per_order)"
   ]
  },
  {
   "cell_type": "code",
   "execution_count": 78,
   "id": "7c4d419a",
   "metadata": {},
   "outputs": [
    {
     "name": "stdout",
     "output_type": "stream",
     "text": [
      "28.656896307784663\n"
     ]
    }
   ],
   "source": [
    "# Question 35: Find average profit per order.\n",
    "\n",
    "avg_profit_per_order = df['Profit'].mean()\n",
    "print(avg_profit_per_order)\n"
   ]
  },
  {
   "cell_type": "code",
   "execution_count": 79,
   "id": "1b25e381",
   "metadata": {},
   "outputs": [
    {
     "name": "stdout",
     "output_type": "stream",
     "text": [
      "22638.48\n"
     ]
    }
   ],
   "source": [
    "# Question 36: Find maximum sales in a single order.\n",
    "\n",
    "max_sales_single_order = df['Sales'].max()\n",
    "print(max_sales_single_order)"
   ]
  },
  {
   "cell_type": "code",
   "execution_count": 80,
   "id": "09eff298",
   "metadata": {},
   "outputs": [
    {
     "name": "stdout",
     "output_type": "stream",
     "text": [
      "0.44399999999999995\n"
     ]
    }
   ],
   "source": [
    "# Question 37: Find minimum sales in a single order.\n",
    "\n",
    "min_sales_single_order = df['Sales'].min()\n",
    "print(min_sales_single_order)"
   ]
  },
  {
   "cell_type": "code",
   "execution_count": 81,
   "id": "ac49d7b2",
   "metadata": {},
   "outputs": [
    {
     "name": "stdout",
     "output_type": "stream",
     "text": [
      "8399.975999999999\n"
     ]
    }
   ],
   "source": [
    "# Question 38: Find maximum profit in a single order.\n",
    "\n",
    "max_profit_single_order = df['Profit'].max()\n",
    "print(max_profit_single_order)"
   ]
  },
  {
   "cell_type": "code",
   "execution_count": 82,
   "id": "16c99915",
   "metadata": {},
   "outputs": [
    {
     "name": "stdout",
     "output_type": "stream",
     "text": [
      "-6599.978000000001\n"
     ]
    }
   ],
   "source": [
    "# Question 39: Find minimum profit in a single order.\n",
    "\n",
    "min_profit_single_order = df['Profit'].min()\n",
    "print(min_profit_single_order)"
   ]
  },
  {
   "cell_type": "code",
   "execution_count": 83,
   "id": "21f39cb1",
   "metadata": {},
   "outputs": [
    {
     "name": "stdout",
     "output_type": "stream",
     "text": [
      "Customer ID\n",
      "WB-21850    37\n",
      "MA-17560    34\n",
      "JL-15835    34\n",
      "PP-18955    34\n",
      "CK-12205    32\n",
      "            ..\n",
      "AO-10810     1\n",
      "LD-16855     1\n",
      "JR-15700     1\n",
      "CJ-11875     1\n",
      "RE-19405     1\n",
      "Name: count, Length: 793, dtype: int64\n"
     ]
    }
   ],
   "source": [
    "# Question 40: Find number of orders per customer.\n",
    "\n",
    "orders_per_customer = df['Customer ID'].value_counts()\n",
    "print(orders_per_customer)"
   ]
  },
  {
   "cell_type": "code",
   "execution_count": null,
   "id": "d4bbf600",
   "metadata": {},
   "outputs": [],
   "source": []
  },
  {
   "cell_type": "code",
   "execution_count": null,
   "id": "8f12f095",
   "metadata": {},
   "outputs": [],
   "source": []
  },
  {
   "cell_type": "code",
   "execution_count": null,
   "id": "05271a7e",
   "metadata": {},
   "outputs": [],
   "source": []
  },
  {
   "cell_type": "code",
   "execution_count": null,
   "id": "1cc02bc2",
   "metadata": {},
   "outputs": [],
   "source": []
  },
  {
   "cell_type": "code",
   "execution_count": null,
   "id": "c43e15f7",
   "metadata": {},
   "outputs": [],
   "source": []
  },
  {
   "cell_type": "code",
   "execution_count": null,
   "id": "41e27761",
   "metadata": {},
   "outputs": [],
   "source": []
  },
  {
   "cell_type": "code",
   "execution_count": null,
   "id": "77608d34",
   "metadata": {},
   "outputs": [],
   "source": []
  },
  {
   "cell_type": "code",
   "execution_count": null,
   "id": "3f50595a",
   "metadata": {},
   "outputs": [],
   "source": []
  },
  {
   "cell_type": "code",
   "execution_count": null,
   "id": "6fb422e3",
   "metadata": {},
   "outputs": [],
   "source": []
  },
  {
   "cell_type": "code",
   "execution_count": null,
   "id": "13361afd",
   "metadata": {},
   "outputs": [],
   "source": []
  },
  {
   "cell_type": "code",
   "execution_count": null,
   "id": "6bcf2c21",
   "metadata": {},
   "outputs": [],
   "source": []
  },
  {
   "cell_type": "code",
   "execution_count": null,
   "id": "f9d1acab",
   "metadata": {},
   "outputs": [],
   "source": []
  },
  {
   "cell_type": "code",
   "execution_count": null,
   "id": "ab4da2de",
   "metadata": {},
   "outputs": [],
   "source": []
  },
  {
   "cell_type": "code",
   "execution_count": null,
   "id": "9c786f05",
   "metadata": {},
   "outputs": [],
   "source": []
  },
  {
   "cell_type": "code",
   "execution_count": null,
   "id": "924a3c5b",
   "metadata": {},
   "outputs": [],
   "source": []
  },
  {
   "cell_type": "code",
   "execution_count": null,
   "id": "68d8a6f8",
   "metadata": {},
   "outputs": [],
   "source": []
  },
  {
   "cell_type": "code",
   "execution_count": null,
   "id": "8f863340",
   "metadata": {},
   "outputs": [],
   "source": []
  },
  {
   "cell_type": "code",
   "execution_count": null,
   "id": "2a968943",
   "metadata": {},
   "outputs": [],
   "source": []
  },
  {
   "cell_type": "code",
   "execution_count": null,
   "id": "eb34cbe8",
   "metadata": {},
   "outputs": [],
   "source": []
  },
  {
   "cell_type": "code",
   "execution_count": null,
   "id": "75860931",
   "metadata": {},
   "outputs": [],
   "source": []
  },
  {
   "cell_type": "code",
   "execution_count": null,
   "id": "e9e8ff28",
   "metadata": {},
   "outputs": [],
   "source": []
  },
  {
   "cell_type": "code",
   "execution_count": null,
   "id": "5ab932cf",
   "metadata": {},
   "outputs": [],
   "source": []
  },
  {
   "cell_type": "code",
   "execution_count": null,
   "id": "c192cfac",
   "metadata": {},
   "outputs": [],
   "source": []
  },
  {
   "cell_type": "code",
   "execution_count": null,
   "id": "23aca3cc",
   "metadata": {},
   "outputs": [],
   "source": []
  },
  {
   "cell_type": "code",
   "execution_count": null,
   "id": "b68d5da5",
   "metadata": {},
   "outputs": [],
   "source": []
  }
 ],
 "metadata": {
  "kernelspec": {
   "display_name": "Python 3",
   "language": "python",
   "name": "python3"
  },
  "language_info": {
   "codemirror_mode": {
    "name": "ipython",
    "version": 3
   },
   "file_extension": ".py",
   "mimetype": "text/x-python",
   "name": "python",
   "nbconvert_exporter": "python",
   "pygments_lexer": "ipython3",
   "version": "3.13.2"
  }
 },
 "nbformat": 4,
 "nbformat_minor": 5
}
