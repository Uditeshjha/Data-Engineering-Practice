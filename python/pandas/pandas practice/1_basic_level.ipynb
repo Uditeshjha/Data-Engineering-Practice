{
 "cells": [
  {
   "cell_type": "code",
   "execution_count": 2,
   "id": "3e0dcd1e",
   "metadata": {},
   "outputs": [],
   "source": [
    "import numpy as np\n",
    "import pandas as pd"
   ]
  },
  {
   "cell_type": "code",
   "execution_count": 3,
   "id": "fcc990f0",
   "metadata": {},
   "outputs": [
    {
     "name": "stdout",
     "output_type": "stream",
     "text": [
      "   Row ID        Order ID Order Date  Ship Date       Ship Mode Customer ID  \\\n",
      "0       1  CA-2016-152156 2016-11-08 2016-11-11    Second Class    CG-12520   \n",
      "1       2  CA-2016-152156 2016-11-08 2016-11-11    Second Class    CG-12520   \n",
      "2       3  CA-2016-138688 2016-06-12 2016-06-16    Second Class    DV-13045   \n",
      "3       4  US-2015-108966 2015-10-11 2015-10-18  Standard Class    SO-20335   \n",
      "4       5  US-2015-108966 2015-10-11 2015-10-18  Standard Class    SO-20335   \n",
      "\n",
      "     Customer Name    Segment        Country             City  ...  \\\n",
      "0      Claire Gute   Consumer  United States        Henderson  ...   \n",
      "1      Claire Gute   Consumer  United States        Henderson  ...   \n",
      "2  Darrin Van Huff  Corporate  United States      Los Angeles  ...   \n",
      "3   Sean O'Donnell   Consumer  United States  Fort Lauderdale  ...   \n",
      "4   Sean O'Donnell   Consumer  United States  Fort Lauderdale  ...   \n",
      "\n",
      "  Postal Code  Region       Product ID         Category Sub-Category  \\\n",
      "0       42420   South  FUR-BO-10001798        Furniture    Bookcases   \n",
      "1       42420   South  FUR-CH-10000454        Furniture       Chairs   \n",
      "2       90036    West  OFF-LA-10000240  Office Supplies       Labels   \n",
      "3       33311   South  FUR-TA-10000577        Furniture       Tables   \n",
      "4       33311   South  OFF-ST-10000760  Office Supplies      Storage   \n",
      "\n",
      "                                        Product Name     Sales  Quantity  \\\n",
      "0                  Bush Somerset Collection Bookcase  261.9600         2   \n",
      "1  Hon Deluxe Fabric Upholstered Stacking Chairs,...  731.9400         3   \n",
      "2  Self-Adhesive Address Labels for Typewriters b...   14.6200         2   \n",
      "3      Bretford CR4500 Series Slim Rectangular Table  957.5775         5   \n",
      "4                     Eldon Fold 'N Roll Cart System   22.3680         2   \n",
      "\n",
      "   Discount    Profit  \n",
      "0      0.00   41.9136  \n",
      "1      0.00  219.5820  \n",
      "2      0.00    6.8714  \n",
      "3      0.45 -383.0310  \n",
      "4      0.20    2.5164  \n",
      "\n",
      "[5 rows x 21 columns]\n",
      "(9994, 21)\n"
     ]
    }
   ],
   "source": [
    "df = pd.read_excel('Sample - Superstore.xls')\n",
    "print(df.head())\n",
    "print(df.shape)"
   ]
  },
  {
   "cell_type": "code",
   "execution_count": null,
   "id": "9757ddf3",
   "metadata": {},
   "outputs": [
    {
     "name": "stdout",
     "output_type": "stream",
     "text": [
      "5009\n"
     ]
    }
   ],
   "source": [
    "# Question 1: Find total number of orders in the dataset.\n",
    "total_orders = df['Order ID'].nunique()\n",
    "print(total_orders)"
   ]
  },
  {
   "cell_type": "code",
   "execution_count": null,
   "id": "838f5f50",
   "metadata": {},
   "outputs": [
    {
     "name": "stdout",
     "output_type": "stream",
     "text": [
      "2014-01-03 00:00:00\n"
     ]
    }
   ],
   "source": [
    "# Question 2: Find the earliest order date.\n",
    "earliest_order_date = df['Order Date'].min()\n",
    "print(earliest_order_date)"
   ]
  },
  {
   "cell_type": "code",
   "execution_count": 8,
   "id": "a70b0511",
   "metadata": {},
   "outputs": [
    {
     "name": "stdout",
     "output_type": "stream",
     "text": [
      "2017-12-30 00:00:00\n"
     ]
    }
   ],
   "source": [
    "# Question 3: Find the latest order date.\n",
    "latest_order_date = df['Order Date'].max()\n",
    "print(latest_order_date)"
   ]
  },
  {
   "cell_type": "code",
   "execution_count": 10,
   "id": "ba62f7bd",
   "metadata": {},
   "outputs": [
    {
     "name": "stdout",
     "output_type": "stream",
     "text": [
      "793\n"
     ]
    }
   ],
   "source": [
    "# Question 4: Find the total number of unique customers.\n",
    "total_unique_customers = df['Customer ID'].nunique()\n",
    "print(total_unique_customers)\n"
   ]
  },
  {
   "cell_type": "code",
   "execution_count": 11,
   "id": "5c089375",
   "metadata": {},
   "outputs": [
    {
     "name": "stdout",
     "output_type": "stream",
     "text": [
      "1862\n"
     ]
    }
   ],
   "source": [
    "# Question 5: Find the total number of unique products sold.\n",
    "total_unique_products = df['Product ID'].nunique()\n",
    "print(total_unique_products)"
   ]
  },
  {
   "cell_type": "code",
   "execution_count": 12,
   "id": "7488a46b",
   "metadata": {},
   "outputs": [
    {
     "name": "stdout",
     "output_type": "stream",
     "text": [
      "3\n"
     ]
    }
   ],
   "source": [
    "# Question 6: Find the total number of unique categories.\n",
    "total_unique_category = df['Category'].nunique()\n",
    "print(total_unique_category)"
   ]
  },
  {
   "cell_type": "code",
   "execution_count": 13,
   "id": "75a61858",
   "metadata": {},
   "outputs": [
    {
     "name": "stdout",
     "output_type": "stream",
     "text": [
      "17\n"
     ]
    }
   ],
   "source": [
    "# Question 7: Find the total number of unique sub-categories.\n",
    "total_unique_sub_category = df['Sub-Category'].nunique()\n",
    "print(total_unique_sub_category)"
   ]
  },
  {
   "cell_type": "code",
   "execution_count": null,
   "id": "2036b63f",
   "metadata": {},
   "outputs": [
    {
     "name": "stdout",
     "output_type": "stream",
     "text": [
      "Region\n",
      "West       3203\n",
      "East       2848\n",
      "Central    2323\n",
      "South      1620\n",
      "Name: count, dtype: int64\n"
     ]
    }
   ],
   "source": [
    "# Question 8: Count number of orders in each region.\n",
    "\n",
    "# orders_by_region = df.groupby(\"Region\")[\"Order ID\"].value_counts()\n",
    "# print(orders_by_region)\n",
    "#print(orders_by_region[df[\"Region\"] == \"East\"].head(50))\n",
    "\n",
    "\n",
    "orders_by_region = df['Region'].value_counts()\n",
    "print(orders_by_region)"
   ]
  },
  {
   "cell_type": "code",
   "execution_count": 32,
   "id": "c02cd8b8",
   "metadata": {},
   "outputs": [
    {
     "name": "stdout",
     "output_type": "stream",
     "text": [
      "State\n",
      "California              2001\n",
      "New York                1128\n",
      "Texas                    985\n",
      "Pennsylvania             587\n",
      "Washington               506\n",
      "Illinois                 492\n",
      "Ohio                     469\n",
      "Florida                  383\n",
      "Michigan                 255\n",
      "North Carolina           249\n",
      "Arizona                  224\n",
      "Virginia                 224\n",
      "Georgia                  184\n",
      "Tennessee                183\n",
      "Colorado                 182\n",
      "Indiana                  149\n",
      "Kentucky                 139\n",
      "Massachusetts            135\n",
      "New Jersey               130\n",
      "Oregon                   124\n",
      "Wisconsin                110\n",
      "Maryland                 105\n",
      "Delaware                  96\n",
      "Minnesota                 89\n",
      "Connecticut               82\n",
      "Missouri                  66\n",
      "Oklahoma                  66\n",
      "Alabama                   61\n",
      "Arkansas                  60\n",
      "Rhode Island              56\n",
      "Utah                      53\n",
      "Mississippi               53\n",
      "South Carolina            42\n",
      "Louisiana                 42\n",
      "Nevada                    39\n",
      "Nebraska                  38\n",
      "New Mexico                37\n",
      "Iowa                      30\n",
      "New Hampshire             27\n",
      "Kansas                    24\n",
      "Idaho                     21\n",
      "Montana                   15\n",
      "South Dakota              12\n",
      "Vermont                   11\n",
      "District of Columbia      10\n",
      "Maine                      8\n",
      "North Dakota               7\n",
      "West Virginia              4\n",
      "Wyoming                    1\n",
      "Name: count, dtype: int64\n"
     ]
    }
   ],
   "source": [
    "# Question 9: Count number of orders by state.\n",
    "\n",
    "orders_by_state = df['State'].value_counts()\n",
    "print(orders_by_state)"
   ]
  },
  {
   "cell_type": "code",
   "execution_count": 33,
   "id": "dfbfa565",
   "metadata": {},
   "outputs": [
    {
     "name": "stdout",
     "output_type": "stream",
     "text": [
      "City\n",
      "New York City    915\n",
      "Los Angeles      747\n",
      "Philadelphia     537\n",
      "San Francisco    510\n",
      "Seattle          428\n",
      "                ... \n",
      "Abilene            1\n",
      "Montebello         1\n",
      "Kissimmee          1\n",
      "Danbury            1\n",
      "Springdale         1\n",
      "Name: count, Length: 531, dtype: int64\n"
     ]
    }
   ],
   "source": [
    "# Question 10: Count number of orders by city.\n",
    "\n",
    "orders_by_city = df['City'].value_counts()\n",
    "print(orders_by_city)"
   ]
  },
  {
   "cell_type": "code",
   "execution_count": 56,
   "id": "31756e1a",
   "metadata": {},
   "outputs": [
    {
     "name": "stdout",
     "output_type": "stream",
     "text": [
      "Standard Class\n"
     ]
    }
   ],
   "source": [
    "# Question 11: Find the most common ship mode.\n",
    "most_comm_ship_mode = df['Ship Mode'].value_counts().idxmax()\n",
    "print(most_comm_ship_mode)"
   ]
  },
  {
   "cell_type": "code",
   "execution_count": 36,
   "id": "562df893",
   "metadata": {},
   "outputs": [
    {
     "name": "stdout",
     "output_type": "stream",
     "text": [
      "Same Day\n"
     ]
    }
   ],
   "source": [
    "# Question 12: Find the least common ship mode.\n",
    "least_comm_ship_mode = df['Ship Mode'].value_counts().idxmin()\n",
    "print(least_comm_ship_mode)"
   ]
  },
  {
   "cell_type": "code",
   "execution_count": null,
   "id": "7f0ab1f5",
   "metadata": {},
   "outputs": [
    {
     "name": "stdout",
     "output_type": "stream",
     "text": [
      "543\n"
     ]
    }
   ],
   "source": [
    "# Question 13: Count number of orders shipped with \"Same Day\" mode.\n",
    "same_day_orders = df[df['Ship Mode'] == 'Same Day'].value_counts().sum()\n",
    "\n",
    "# same_day_orders = df[df['Ship Mode'] == 'Same Day'].shape[0]\n",
    "print(same_day_orders)"
   ]
  },
  {
   "cell_type": "code",
   "execution_count": 42,
   "id": "f1bc47aa",
   "metadata": {},
   "outputs": [
    {
     "name": "stdout",
     "output_type": "stream",
     "text": [
      "1538\n"
     ]
    }
   ],
   "source": [
    "# Question 14: Count number of orders shipped with \"First Class\".\n",
    "\n",
    "first_class_orders = df[df['Ship Mode'] == 'First Class'].shape[0]\n",
    "print(first_class_orders)"
   ]
  },
  {
   "cell_type": "code",
   "execution_count": 43,
   "id": "7d77e30d",
   "metadata": {},
   "outputs": [
    {
     "name": "stdout",
     "output_type": "stream",
     "text": [
      "1945\n"
     ]
    }
   ],
   "source": [
    "# Question 15: Count number of orders shipped with \"Second Class\".\n",
    "Second_class_orders = df[df['Ship Mode'] == 'Second Class'].shape[0]\n",
    "print(Second_class_orders)"
   ]
  },
  {
   "cell_type": "code",
   "execution_count": 44,
   "id": "afd1f328",
   "metadata": {},
   "outputs": [
    {
     "name": "stdout",
     "output_type": "stream",
     "text": [
      "5968\n"
     ]
    }
   ],
   "source": [
    "# Question 16: Count number of orders shipped with \"Standard Class\".\n",
    "standard_class_orders = df[df['Ship Mode'] == 'Standard Class'].shape[0]\n",
    "print(standard_class_orders)"
   ]
  },
  {
   "cell_type": "code",
   "execution_count": 37,
   "id": "dd22eabf",
   "metadata": {},
   "outputs": [
    {
     "name": "stdout",
     "output_type": "stream",
     "text": [
      "year\n",
      "2017    3312\n",
      "2016    2587\n",
      "2015    2102\n",
      "2014    1993\n",
      "Name: count, dtype: int64\n"
     ]
    }
   ],
   "source": [
    "# Question 17: Find number of orders in each year.\n",
    "\n",
    "df['year'] = df['Order Date'].dt.year\n",
    "print(df['year'].value_counts())"
   ]
  },
  {
   "cell_type": "code",
   "execution_count": 38,
   "id": "31c24f66",
   "metadata": {},
   "outputs": [
    {
     "name": "stdout",
     "output_type": "stream",
     "text": [
      "quarter\n",
      "4    3698\n",
      "3    2799\n",
      "2    2120\n",
      "1    1377\n",
      "Name: count, dtype: int64\n"
     ]
    }
   ],
   "source": [
    "# Question 18: Find number of orders in each quarter.\n",
    "df['quarter'] = df['Order Date'].dt.quarter\n",
    "print(df['quarter'].value_counts())\n"
   ]
  },
  {
   "cell_type": "code",
   "execution_count": 55,
   "id": "1f667a44",
   "metadata": {},
   "outputs": [
    {
     "name": "stdout",
     "output_type": "stream",
     "text": [
      "month\n",
      "11    1471\n",
      "12    1408\n",
      "9     1383\n",
      "10     819\n",
      "5      735\n",
      "6      717\n",
      "7      710\n",
      "8      706\n",
      "3      696\n",
      "4      668\n",
      "1      381\n",
      "2      300\n",
      "Name: count, dtype: int64\n"
     ]
    }
   ],
   "source": [
    "# Question 19: Find number of orders in each month.\n",
    "df['month'] = df['Order Date'].dt.month\n",
    "print(df['month'].value_counts())"
   ]
  },
  {
   "cell_type": "code",
   "execution_count": 39,
   "id": "a5b6f561",
   "metadata": {},
   "outputs": [
    {
     "name": "stdout",
     "output_type": "stream",
     "text": [
      "weekday\n",
      "0    1871\n",
      "4    1818\n",
      "6    1710\n",
      "5    1655\n",
      "3    1463\n",
      "1    1106\n",
      "2     371\n",
      "Name: count, dtype: int64\n"
     ]
    }
   ],
   "source": [
    "# Question 20: Find number of orders in each weekday.\n",
    "df['weekday'] = df['Order Date'].dt.weekday\n",
    "print(df['weekday'].value_counts())"
   ]
  },
  {
   "cell_type": "code",
   "execution_count": 53,
   "id": "7b490cfe",
   "metadata": {},
   "outputs": [
    {
     "name": "stdout",
     "output_type": "stream",
     "text": [
      "5196\n"
     ]
    }
   ],
   "source": [
    "# Question 21: Count orders with discount applied.\n",
    "\n",
    "orders_with_discount = df[df['Discount'] > 0].shape[0]\n",
    "print(orders_with_discount)"
   ]
  },
  {
   "cell_type": "code",
   "execution_count": null,
   "id": "1dd67b7e",
   "metadata": {},
   "outputs": [
    {
     "name": "stdout",
     "output_type": "stream",
     "text": [
      "4798\n"
     ]
    }
   ],
   "source": [
    "# Question 22: Count orders without discount.\n",
    "orders_without_discount = df[df['Discount'] == 0].shape[0]\n",
    "print(orders_without_discount)"
   ]
  },
  {
   "cell_type": "code",
   "execution_count": null,
   "id": "c0ec157d",
   "metadata": {},
   "outputs": [
    {
     "name": "stdout",
     "output_type": "stream",
     "text": [
      "4798\n"
     ]
    }
   ],
   "source": [
    "# Question 23: Count orders where discount = 0.\n",
    "orders_without_discount = df[df['Discount'] == 0].shape[0]\n",
    "print(orders_without_discount)"
   ]
  },
  {
   "cell_type": "code",
   "execution_count": 59,
   "id": "cacde2df",
   "metadata": {},
   "outputs": [
    {
     "name": "stdout",
     "output_type": "stream",
     "text": [
      "1393\n"
     ]
    }
   ],
   "source": [
    "# Question 24: Count orders where discount > 0.2.\n",
    "orders_with_discount_grt_pointTwo = df[df['Discount'] > 0.2].shape[0]\n",
    "print(orders_with_discount_grt_pointTwo)"
   ]
  },
  {
   "cell_type": "code",
   "execution_count": 60,
   "id": "333e9974",
   "metadata": {},
   "outputs": [
    {
     "name": "stdout",
     "output_type": "stream",
     "text": [
      "66\n"
     ]
    }
   ],
   "source": [
    "# Question 25: Count orders where discount = 0.5.\n",
    "orders_with_discount_grt_pointFive = df[df['Discount'] == 0.5].shape[0]\n",
    "print(orders_with_discount_grt_pointFive)"
   ]
  },
  {
   "cell_type": "code",
   "execution_count": 61,
   "id": "c58bdb83",
   "metadata": {},
   "outputs": [
    {
     "name": "stdout",
     "output_type": "stream",
     "text": [
      "0.8\n"
     ]
    }
   ],
   "source": [
    "# Question 26: Find maximum discount given.\n",
    "max_discount = df['Discount'].max()\n",
    "print(max_discount)"
   ]
  },
  {
   "cell_type": "code",
   "execution_count": 68,
   "id": "e701c687",
   "metadata": {},
   "outputs": [
    {
     "name": "stdout",
     "output_type": "stream",
     "text": [
      "0.1\n"
     ]
    }
   ],
   "source": [
    "# Question 27: Find minimum discount given.\n",
    "\n",
    "# df['Discount'] > 0 → creates a boolean mask to exclude zeros.\n",
    "# df.loc[mask, 'Discount'] → selects only the Discount column where discount > 0.\n",
    "# .min() → finds the minimum value from that filtered column.\n",
    "min_discount = df.loc[df['Discount'] > 0, 'Discount'].min()\n",
    "print(min_discount)"
   ]
  },
  {
   "cell_type": "code",
   "execution_count": 70,
   "id": "4c656d24",
   "metadata": {},
   "outputs": [
    {
     "name": "stdout",
     "output_type": "stream",
     "text": [
      "1871\n"
     ]
    }
   ],
   "source": [
    "# Question 28: Count orders where profit < 0.\n",
    "\n",
    "orders_with_profit_lt_0 =  df[df['Profit'] < 0].shape[0]\n",
    "print(orders_with_profit_lt_0)"
   ]
  },
  {
   "cell_type": "code",
   "execution_count": 71,
   "id": "3b5a50c8",
   "metadata": {},
   "outputs": [
    {
     "name": "stdout",
     "output_type": "stream",
     "text": [
      "65\n"
     ]
    }
   ],
   "source": [
    "# Question 29: Count orders where profit = 0.\n",
    "\n",
    "orders_with_profit_is_0 =  df[df['Profit'] == 0].shape[0]\n",
    "print(orders_with_profit_is_0)"
   ]
  },
  {
   "cell_type": "code",
   "execution_count": 73,
   "id": "ebcb3a14",
   "metadata": {},
   "outputs": [
    {
     "name": "stdout",
     "output_type": "stream",
     "text": [
      "890\n"
     ]
    }
   ],
   "source": [
    "# Question 30: Count orders where profit > 100.\n",
    "orders_with_profit_gt_100 =  df[df['Profit'] > 100].shape[0]\n",
    "print(orders_with_profit_gt_100)"
   ]
  },
  {
   "cell_type": "code",
   "execution_count": 74,
   "id": "6abbc024",
   "metadata": {},
   "outputs": [
    {
     "name": "stdout",
     "output_type": "stream",
     "text": [
      "468\n"
     ]
    }
   ],
   "source": [
    "# Question 31: Count orders where sales > 1000.\n",
    "orders_with_sales_gt_1000 =  df[df['Sales'] > 1000].shape[0]\n",
    "print(orders_with_sales_gt_1000)"
   ]
  },
  {
   "cell_type": "code",
   "execution_count": 75,
   "id": "ad9e740d",
   "metadata": {},
   "outputs": [
    {
     "name": "stdout",
     "output_type": "stream",
     "text": [
      "37873\n"
     ]
    }
   ],
   "source": [
    "# Question 32: Find total quantity sold.\n",
    "total_quantity_sold = df['Quantity'].sum()\n",
    "print(total_quantity_sold)"
   ]
  },
  {
   "cell_type": "code",
   "execution_count": 76,
   "id": "dd01b54f",
   "metadata": {},
   "outputs": [
    {
     "name": "stdout",
     "output_type": "stream",
     "text": [
      "3.789573744246548\n"
     ]
    }
   ],
   "source": [
    "# Question 33: Find average quantity per order.\n",
    "\n",
    "avg_quantity_per_order = df['Quantity'].mean()\n",
    "print(avg_quantity_per_order)"
   ]
  },
  {
   "cell_type": "code",
   "execution_count": 77,
   "id": "d992b203",
   "metadata": {},
   "outputs": [
    {
     "name": "stdout",
     "output_type": "stream",
     "text": [
      "229.85800083049827\n"
     ]
    }
   ],
   "source": [
    "# Question 34: Find average sales per order.\n",
    "\n",
    "avg_sales_per_order = df['Sales'].mean()\n",
    "print(avg_sales_per_order)"
   ]
  },
  {
   "cell_type": "code",
   "execution_count": 78,
   "id": "7c4d419a",
   "metadata": {},
   "outputs": [
    {
     "name": "stdout",
     "output_type": "stream",
     "text": [
      "28.656896307784663\n"
     ]
    }
   ],
   "source": [
    "# Question 35: Find average profit per order.\n",
    "\n",
    "avg_profit_per_order = df['Profit'].mean()\n",
    "print(avg_profit_per_order)\n"
   ]
  },
  {
   "cell_type": "code",
   "execution_count": 79,
   "id": "1b25e381",
   "metadata": {},
   "outputs": [
    {
     "name": "stdout",
     "output_type": "stream",
     "text": [
      "22638.48\n"
     ]
    }
   ],
   "source": [
    "# Question 36: Find maximum sales in a single order.\n",
    "\n",
    "max_sales_single_order = df['Sales'].max()\n",
    "print(max_sales_single_order)"
   ]
  },
  {
   "cell_type": "code",
   "execution_count": 80,
   "id": "09eff298",
   "metadata": {},
   "outputs": [
    {
     "name": "stdout",
     "output_type": "stream",
     "text": [
      "0.44399999999999995\n"
     ]
    }
   ],
   "source": [
    "# Question 37: Find minimum sales in a single order.\n",
    "\n",
    "min_sales_single_order = df['Sales'].min()\n",
    "print(min_sales_single_order)"
   ]
  },
  {
   "cell_type": "code",
   "execution_count": 81,
   "id": "ac49d7b2",
   "metadata": {},
   "outputs": [
    {
     "name": "stdout",
     "output_type": "stream",
     "text": [
      "8399.975999999999\n"
     ]
    }
   ],
   "source": [
    "# Question 38: Find maximum profit in a single order.\n",
    "\n",
    "max_profit_single_order = df['Profit'].max()\n",
    "print(max_profit_single_order)"
   ]
  },
  {
   "cell_type": "code",
   "execution_count": 82,
   "id": "16c99915",
   "metadata": {},
   "outputs": [
    {
     "name": "stdout",
     "output_type": "stream",
     "text": [
      "-6599.978000000001\n"
     ]
    }
   ],
   "source": [
    "# Question 39: Find minimum profit in a single order.\n",
    "\n",
    "min_profit_single_order = df['Profit'].min()\n",
    "print(min_profit_single_order)"
   ]
  },
  {
   "cell_type": "code",
   "execution_count": 4,
   "id": "21f39cb1",
   "metadata": {},
   "outputs": [
    {
     "name": "stdout",
     "output_type": "stream",
     "text": [
      "Customer ID\n",
      "WB-21850    37\n",
      "MA-17560    34\n",
      "JL-15835    34\n",
      "PP-18955    34\n",
      "CK-12205    32\n",
      "            ..\n",
      "AO-10810     1\n",
      "LD-16855     1\n",
      "JR-15700     1\n",
      "CJ-11875     1\n",
      "RE-19405     1\n",
      "Name: count, Length: 793, dtype: int64\n"
     ]
    }
   ],
   "source": [
    "# Question 40: Find number of orders per customer.\n",
    "\n",
    "orders_per_customer = df['Customer ID'].value_counts()\n",
    "print(orders_per_customer)"
   ]
  },
  {
   "cell_type": "code",
   "execution_count": 6,
   "id": "d4bbf600",
   "metadata": {},
   "outputs": [
    {
     "name": "stdout",
     "output_type": "stream",
     "text": [
      "['AO-10810', 'LD-16855', 'JR-15700', 'CJ-11875', 'RE-19405']\n"
     ]
    }
   ],
   "source": [
    "# Question 41: Find customers who placed only 1 order.\n",
    "\n",
    "customers_with_one_order = orders_per_customer[orders_per_customer == 1].index.tolist()\n",
    "print(customers_with_one_order)"
   ]
  },
  {
   "cell_type": "code",
   "execution_count": 7,
   "id": "8f12f095",
   "metadata": {},
   "outputs": [
    {
     "name": "stdout",
     "output_type": "stream",
     "text": [
      "['WB-21850', 'MA-17560', 'JL-15835', 'PP-18955', 'CK-12205', 'JD-15895', 'EH-13765', 'SV-20365', 'ZC-21910', 'EP-13915', 'AP-10915', 'LC-16870', 'Dp-13240', 'SH-19975', 'KL-16645', 'BM-11650', 'GT-14710', 'KD-16495', 'XP-21865', 'CS-12250', 'CL-12565', 'KM-16720', 'DK-12835', 'BF-11170', 'SC-20725', 'NS-18640', 'CB-12025', 'PG-18820', 'LA-16780', 'CK-12595', 'PK-19075', 'RP-19390', 'EA-14035', 'AS-10090', 'SV-20785', 'SJ-20125', 'BH-11710', 'RL-19615', 'DR-12880', 'SP-20620', 'SP-20860', 'MS-17365', 'JA-15970', 'LB-16795', 'GG-14650', 'RB-19465', 'DH-13075', 'AH-10690', 'DK-13375', 'LC-16885', 'JE-15745', 'KB-16585', 'KH-16510', 'RW-19540', 'KB-16315', 'JE-15715', 'CS-12355', 'NW-18400', 'LS-16975', 'AM-10705', 'PO-18850', 'SC-20095', 'RA-19915', 'CS-11950', 'CC-12220', 'SM-20950', 'MH-18115', 'ME-17320', 'KL-16555', 'GA-14725', 'EM-14140', 'RD-19900', 'PS-18760', 'SC-20770', 'DB-13210', 'IM-15070', 'AJ-10795', 'BF-11020', 'AG-10900', 'NP-18325', 'SD-20485', 'SS-20140', 'SA-20830', 'FH-14275', 'MY-18295', 'AG-10495', 'ES-14080', 'SC-20380', 'DM-13015', 'JE-15610', 'BT-11680', 'RD-19720', 'BB-11545', 'BD-11605', 'TB-21520', 'JK-15730', 'HW-14935', 'BP-11095', 'MP-17965', 'CJ-12010', 'AH-10075', 'GB-14530', 'NZ-18565', 'HM-14860', 'FM-14290', 'ML-17395', 'EB-13750', 'SZ-20035', 'KM-16375', 'AB-10105', 'DS-13180', 'JM-15250', 'CB-12535', 'PF-19120', 'TM-21010', 'TB-21250', 'MM-18055', 'JM-16195', 'CV-12805', 'HF-14995', 'SN-20710', 'CC-12430', 'DS-13030', 'DK-13225', 'SE-20110', 'JF-15190', 'LH-17155', 'MS-17770', 'MP-18175', 'LC-17140', 'MB-17305', 'MC-18100', 'KM-16225', 'RD-19585', 'AP-10720', 'BD-11320', 'TS-21205', 'PO-19180', 'CT-11995', 'HA-14920', 'TB-21055', 'RB-19360', 'AI-10855', 'VW-21775', 'MC-17605', 'JG-15160', 'JS-16030', 'KH-16330', 'SC-20260', 'BC-11125', 'AA-10645', 'SU-20665', 'AC-10615', 'KF-16285', 'BP-11185', 'DC-12850', 'ND-18370', 'RB-19795', 'AB-10060', 'EH-14125', 'SC-20020', 'DP-13000', 'PG-18895', 'GH-14410', 'MC-17590', 'TB-21400', 'SB-20290', 'NC-18340', 'KN-16390', 'JK-16120', 'DL-13315', 'HG-14965', 'FA-14230', 'TS-21160', 'RA-19285', 'JK-15370', 'JL-15505', 'BW-11110', 'KH-16630', 'MK-17905', 'CA-12775', 'SF-20965', 'JD-16150', 'NB-18655', 'CA-12265', 'BN-11515', 'MD-17350', 'EH-13945', 'AF-10870', 'EM-13825', 'RB-19435', 'KD-16270', 'JP-15520', 'AW-10930', 'AH-10120', 'TP-21130', 'LR-16915', 'BM-11140', 'JC-15775', 'RF-19345', 'JF-15565', 'TC-21295', 'LF-17185', 'NG-18355', 'AT-10735', 'MM-17920', 'RW-19630', 'TD-20995', 'GB-14575', 'BK-11260', 'RD-19810', 'JF-15355', 'VD-21670', 'JB-15400', 'BP-11290', 'AA-10375', 'NS-18505', 'RP-19855', 'RD-19480', 'DV-13465', 'FM-14215', 'AG-10675', 'MJ-17740', 'TT-21220', 'LH-16900', 'ML-17410', 'SP-20650', 'CD-12790', 'MS-17710', 'RW-19690', 'SN-20560', 'NM-18520', 'TS-21370', 'KE-16420', 'LW-16825', 'HK-14890', 'CP-12340', 'LP-17095', 'TB-21625', 'ON-18715', 'JF-15490', 'SF-20200', 'LW-17215', 'KN-16705', 'DK-12895', 'RA-19885', 'SM-20320', 'MV-17485', 'SS-20875', 'KH-16690', 'FO-14305', 'AJ-10780', 'JP-15460', 'SC-20050', 'SO-20335', 'SH-20395', 'NC-18535', 'BS-11755', 'FM-14380', 'AB-10165', 'SG-20470', 'DB-13555', 'JF-15415', 'FP-14320', 'LC-16930', 'AG-10270', 'MW-18220', 'IL-15100', 'NF-18385', 'MC-17845', 'DP-13390', 'JF-15295', 'TT-21460', 'LS-17200', 'TT-21070', 'ED-13885', 'DB-13405', 'AB-10255', 'CS-12400', 'JW-15220', 'SC-20695', 'BM-11785', 'LT-17110', 'RS-19765', 'DL-12865', 'KT-16465', 'DB-13120', 'BV-11245', 'JH-15985', 'GA-14515', 'FH-14350', 'MP-17470', 'NC-18415', 'DB-12970', 'SP-20920', 'CP-12085', 'RF-19735', 'LS-16945', 'CK-12760', 'DP-13105', 'GZ-14470', 'HR-14830', 'CC-12670', 'MG-17650', 'DL-12925', 'KH-16360', 'GK-14620', 'NM-18445', 'TS-21505', 'TS-21655', 'VP-21760', 'FC-14245', 'PJ-18835', 'JE-15475', 'JO-15145', 'MH-17290', 'DK-13090', 'JM-15865', 'KD-16615', 'BF-10975', 'DB-13060', 'JK-15205', 'AR-10825', 'AS-10240', 'ML-17755', 'BE-11455', 'MC-17275', 'BS-11380', 'CD-12280', 'TH-21235', 'DJ-13510', 'CC-12475', 'ME-17725', 'FH-14365', 'DB-13270', 'JP-16135', 'PN-18775', 'MG-17890', 'PW-19030', 'GM-14500', 'TB-21355', 'QJ-19255', 'TH-21550', 'AS-10225', 'KT-16480', 'NP-18700', 'DR-12940', 'DM-13345', 'PS-19045', 'PV-18985', 'AH-10210', 'DO-13435', 'CC-12100', 'HR-14770', 'SV-20935', 'CV-12295', 'SG-20605', 'PO-18865', 'JM-15265', 'PS-18970', 'CM-12715', 'MY-17380', 'NR-18550', 'MF-18250', 'SS-20410', 'LR-17035', 'PR-18880', 'AS-10630', 'MA-17995', 'DL-13495', 'CC-12610', 'CK-12325', 'TS-21340', 'NF-18595', 'RP-19270', 'SR-20740', 'JL-15130', 'AM-10360', 'AB-10150', 'JM-15655', 'GM-14455', 'ST-20530', 'YS-21880', 'TC-20980', 'BO-11350', 'VM-21685', 'PW-19240', 'CB-12415', 'AD-10180', 'AZ-10750', 'TW-21025', 'DB-12910', 'SC-20305', 'EB-13705', 'TN-21040', 'RO-19780', 'BG-11035', 'JK-15625', 'AA-10480', 'CC-12685', 'RH-19510', 'SB-20185', 'LS-17245', 'MM-18280', 'JK-15640', 'LL-16840', 'TS-21610', 'TB-21175', 'MK-18160', 'RF-19840', 'MH-17785', 'GM-14695', 'PB-19150', 'JD-16015', 'HG-15025', 'RC-19960', 'GM-14680', 'AA-10315', 'JG-15310', 'TC-21475', 'CC-12145', 'KA-16525', 'FG-14260', 'MC-17575', 'CY-12745', 'EB-14110', 'MH-17455', 'JO-15280', 'EH-14005', 'DH-13675', 'MO-17800', 'JO-15550', 'NH-18610', 'DN-13690', 'SC-20230', 'SG-20080', 'NK-18490', 'MV-18190', 'LW-16990', 'GM-14440', 'CA-12310', 'DO-13645', 'EB-13870', 'MC-18130', 'BP-11155', 'CC-12370', 'VF-21715', 'HE-14800', 'MT-18070', 'JS-15685', 'DW-13480', 'RM-19675', 'JL-15850', 'AH-10030', 'DB-13615', 'BS-11665', 'MS-17980', 'CW-11905', 'JW-15955', 'TB-21280', 'HL-15040', 'RH-19600']\n"
     ]
    }
   ],
   "source": [
    "# Question 42: Find customers who placed more than 10 orders.\n",
    "customers_with_more_than_10_orders = orders_per_customer[orders_per_customer > 10].index.tolist()\n",
    "print(customers_with_more_than_10_orders)"
   ]
  },
  {
   "cell_type": "code",
   "execution_count": 8,
   "id": "05271a7e",
   "metadata": {},
   "outputs": [
    {
     "name": "stdout",
     "output_type": "stream",
     "text": [
      "49\n"
     ]
    }
   ],
   "source": [
    "# Question 43: Find total number of states represented.\n",
    "total_states = df['State'].nunique()\n",
    "print(total_states)"
   ]
  },
  {
   "cell_type": "code",
   "execution_count": 9,
   "id": "1cc02bc2",
   "metadata": {},
   "outputs": [
    {
     "name": "stdout",
     "output_type": "stream",
     "text": [
      "531\n"
     ]
    }
   ],
   "source": [
    "# Question 44: Find total number of cities represented.\n",
    "total_cities = df['City'].nunique()\n",
    "print(total_cities)"
   ]
  },
  {
   "cell_type": "code",
   "execution_count": 10,
   "id": "c43e15f7",
   "metadata": {},
   "outputs": [
    {
     "name": "stdout",
     "output_type": "stream",
     "text": [
      "2001\n"
     ]
    }
   ],
   "source": [
    "# Question 45: Find number of orders placed from California.\n",
    "california_orders = df[df['State'] == 'California'].shape[0]\n",
    "print(california_orders)"
   ]
  },
  {
   "cell_type": "code",
   "execution_count": 11,
   "id": "41e27761",
   "metadata": {},
   "outputs": [
    {
     "name": "stdout",
     "output_type": "stream",
     "text": [
      "1128\n"
     ]
    }
   ],
   "source": [
    "# Question 46: Find number of orders placed from New York.\n",
    "new_york_orders = df[df['State'] == 'New York'].shape[0]\n",
    "print(new_york_orders)"
   ]
  },
  {
   "cell_type": "code",
   "execution_count": 12,
   "id": "77608d34",
   "metadata": {},
   "outputs": [
    {
     "name": "stdout",
     "output_type": "stream",
     "text": [
      "985\n"
     ]
    }
   ],
   "source": [
    "# Question 47: Find number of orders placed from Texas.\n",
    "texas_orders = df[df['State'] == 'Texas'].shape[0]\n",
    "print(texas_orders)"
   ]
  },
  {
   "cell_type": "code",
   "execution_count": 13,
   "id": "3f50595a",
   "metadata": {},
   "outputs": [
    {
     "name": "stdout",
     "output_type": "stream",
     "text": [
      "383\n"
     ]
    }
   ],
   "source": [
    "# Question 48: Find number of orders placed from Florida.\n",
    "florida_orders = df[df['State'] == 'Florida'].shape[0]\n",
    "print(florida_orders)"
   ]
  },
  {
   "cell_type": "code",
   "execution_count": 14,
   "id": "6fb422e3",
   "metadata": {},
   "outputs": [
    {
     "name": "stdout",
     "output_type": "stream",
     "text": [
      "1824\n"
     ]
    }
   ],
   "source": [
    "# Question 49: Find number of orders shipped after 5 days of order.\n",
    "df['Shipping Delay'] = (df['Ship Date'] - df['Order Date']).dt.days\n",
    "orders_shipped_after_5_days = df[df['Shipping Delay'] > 5].shape[0]\n",
    "print(orders_shipped_after_5_days)"
   ]
  },
  {
   "cell_type": "code",
   "execution_count": 15,
   "id": "13361afd",
   "metadata": {},
   "outputs": [
    {
     "name": "stdout",
     "output_type": "stream",
     "text": [
      "2297200.8603\n"
     ]
    }
   ],
   "source": [
    "# Question 51: Find total sales.\n",
    "total_sales = df['Sales'].sum()\n",
    "print(total_sales)"
   ]
  },
  {
   "cell_type": "code",
   "execution_count": 16,
   "id": "6bcf2c21",
   "metadata": {},
   "outputs": [
    {
     "name": "stdout",
     "output_type": "stream",
     "text": [
      "286397.0216999999\n"
     ]
    }
   ],
   "source": [
    "# Question 52: Find total profit.  \n",
    "total_profit = df['Profit'].sum()\n",
    "print(total_profit)"
   ]
  },
  {
   "cell_type": "code",
   "execution_count": 17,
   "id": "f9d1acab",
   "metadata": {},
   "outputs": [
    {
     "name": "stdout",
     "output_type": "stream",
     "text": [
      "229.85800083049827\n"
     ]
    }
   ],
   "source": [
    "# Question 53: Find average sales per order.\n",
    "avg_sales_per_order = df['Sales'].mean()\n",
    "print(avg_sales_per_order)"
   ]
  },
  {
   "cell_type": "code",
   "execution_count": 18,
   "id": "ab4da2de",
   "metadata": {},
   "outputs": [
    {
     "name": "stdout",
     "output_type": "stream",
     "text": [
      "28.656896307784663\n"
     ]
    }
   ],
   "source": [
    "# Question 54: Find average profit per order.\n",
    "avg_profit_per_order = df['Profit'].mean()\n",
    "print(avg_profit_per_order)"
   ]
  },
  {
   "cell_type": "code",
   "execution_count": 19,
   "id": "9c786f05",
   "metadata": {},
   "outputs": [
    {
     "name": "stdout",
     "output_type": "stream",
     "text": [
      "Category\n",
      "Furniture          741999.7953\n",
      "Office Supplies    719047.0320\n",
      "Technology         836154.0330\n",
      "Name: Sales, dtype: float64\n"
     ]
    }
   ],
   "source": [
    "# Question 55: Find sales by category.\n",
    "sales_by_category = df.groupby('Category')['Sales'].sum()\n",
    "print(sales_by_category)"
   ]
  },
  {
   "cell_type": "code",
   "execution_count": 20,
   "id": "924a3c5b",
   "metadata": {},
   "outputs": [
    {
     "name": "stdout",
     "output_type": "stream",
     "text": [
      "Category\n",
      "Furniture           18451.2728\n",
      "Office Supplies    122490.8008\n",
      "Technology         145454.9481\n",
      "Name: Profit, dtype: float64\n"
     ]
    }
   ],
   "source": [
    "# Question 56: Find profit by category.\n",
    "profit_by_category = df.groupby('Category')['Profit'].sum()\n",
    "print(profit_by_category)"
   ]
  },
  {
   "cell_type": "code",
   "execution_count": 21,
   "id": "68d8a6f8",
   "metadata": {},
   "outputs": [
    {
     "name": "stdout",
     "output_type": "stream",
     "text": [
      "Sub-Category\n",
      "Accessories    167380.3180\n",
      "Appliances     107532.1610\n",
      "Art             27118.7920\n",
      "Binders        203412.7330\n",
      "Bookcases      114879.9963\n",
      "Chairs         328449.1030\n",
      "Copiers        149528.0300\n",
      "Envelopes       16476.4020\n",
      "Fasteners        3024.2800\n",
      "Furnishings     91705.1640\n",
      "Labels          12486.3120\n",
      "Machines       189238.6310\n",
      "Paper           78479.2060\n",
      "Phones         330007.0540\n",
      "Storage        223843.6080\n",
      "Supplies        46673.5380\n",
      "Tables         206965.5320\n",
      "Name: Sales, dtype: float64\n"
     ]
    }
   ],
   "source": [
    "# Question 57: Find sales by sub-category.\n",
    "sales_by_sub_category = df.groupby('Sub-Category')['Sales'].sum()\n",
    "print(sales_by_sub_category)"
   ]
  },
  {
   "cell_type": "code",
   "execution_count": 22,
   "id": "8f863340",
   "metadata": {},
   "outputs": [
    {
     "name": "stdout",
     "output_type": "stream",
     "text": [
      "Sub-Category\n",
      "Accessories    41936.6357\n",
      "Appliances     18138.0054\n",
      "Art             6527.7870\n",
      "Binders        30221.7633\n",
      "Bookcases      -3472.5560\n",
      "Chairs         26590.1663\n",
      "Copiers        55617.8249\n",
      "Envelopes       6964.1767\n",
      "Fasteners        949.5182\n",
      "Furnishings    13059.1436\n",
      "Labels          5546.2540\n",
      "Machines        3384.7569\n",
      "Paper          34053.5693\n",
      "Phones         44515.7306\n",
      "Storage        21278.8264\n",
      "Supplies       -1189.0995\n",
      "Tables        -17725.4811\n",
      "Name: Profit, dtype: float64\n"
     ]
    }
   ],
   "source": [
    "# Question 58: Find profit by sub-category.\n",
    "profit_by_sub_category = df.groupby('Sub-Category')['Profit'].sum()\n",
    "print(profit_by_sub_category)"
   ]
  },
  {
   "cell_type": "code",
   "execution_count": 23,
   "id": "2a968943",
   "metadata": {},
   "outputs": [
    {
     "name": "stdout",
     "output_type": "stream",
     "text": [
      "Technology\n"
     ]
    }
   ],
   "source": [
    "# Question 59: Find highest sales category.\n",
    "highest_sales_category = sales_by_category.idxmax()\n",
    "print(highest_sales_category)"
   ]
  },
  {
   "cell_type": "code",
   "execution_count": 24,
   "id": "eb34cbe8",
   "metadata": {},
   "outputs": [
    {
     "name": "stdout",
     "output_type": "stream",
     "text": [
      "Technology\n"
     ]
    }
   ],
   "source": [
    "# Question 60: Find highest profit category.\n",
    "highest_profit_category = profit_by_category.idxmax()\n",
    "print(highest_profit_category)"
   ]
  },
  {
   "cell_type": "code",
   "execution_count": 25,
   "id": "75860931",
   "metadata": {},
   "outputs": [
    {
     "name": "stdout",
     "output_type": "stream",
     "text": [
      "Furniture\n"
     ]
    }
   ],
   "source": [
    "# Question 61: Find lowest profit category.\n",
    "lowest_profit_category = profit_by_category.idxmin()\n",
    "print(lowest_profit_category)"
   ]
  },
  {
   "cell_type": "code",
   "execution_count": 26,
   "id": "e9e8ff28",
   "metadata": {},
   "outputs": [
    {
     "name": "stdout",
     "output_type": "stream",
     "text": [
      "Fasteners\n"
     ]
    }
   ],
   "source": [
    "# Question 62: Find lowest sales sub-category.\n",
    "lowest_sales_sub_category = sales_by_sub_category.idxmin()\n",
    "print(lowest_sales_sub_category)"
   ]
  },
  {
   "cell_type": "code",
   "execution_count": 27,
   "id": "5ab932cf",
   "metadata": {},
   "outputs": [
    {
     "name": "stdout",
     "output_type": "stream",
     "text": [
      "Copiers\n"
     ]
    }
   ],
   "source": [
    "# Question 63: Find highest profit sub-category.\n",
    "highest_profit_sub_category = profit_by_sub_category.idxmax()\n",
    "print(highest_profit_sub_category)"
   ]
  },
  {
   "cell_type": "code",
   "execution_count": 28,
   "id": "c192cfac",
   "metadata": {},
   "outputs": [
    {
     "name": "stdout",
     "output_type": "stream",
     "text": [
      "Tables\n"
     ]
    }
   ],
   "source": [
    "# Question 64: Find lowest profit sub-category.\n",
    "lowest_profit_sub_category = profit_by_sub_category.idxmin()\n",
    "print(lowest_profit_sub_category)"
   ]
  },
  {
   "cell_type": "code",
   "execution_count": 29,
   "id": "23aca3cc",
   "metadata": {},
   "outputs": [
    {
     "name": "stdout",
     "output_type": "stream",
     "text": [
      "Product Name\n",
      "Canon imageCLASS 2200 Advanced Copier                                          25199.9280\n",
      "Fellowes PB500 Electric Punch Plastic Comb Binding Machine with Manual Bind     7753.0390\n",
      "Hewlett Packard LaserJet 3310 Copier                                            6983.8836\n",
      "Canon PC1060 Personal Laser Copier                                              4570.9347\n",
      "HP Designjet T520 Inkjet Large Format Printer - 24\" Color                       4094.9766\n",
      "Ativa V4110MDD Micro-Cut Shredder                                               3772.9461\n",
      "3D Systems Cube Printer, 2nd Generation, Magenta                                3717.9714\n",
      "Plantronics Savi W720 Multi-Device Wireless Headset System                      3696.2820\n",
      "Ibico EPK-21 Electric Binding System                                            3345.2823\n",
      "Zebra ZM400 Thermal Label Printer                                               3343.5360\n",
      "Name: Profit, dtype: float64\n"
     ]
    }
   ],
   "source": [
    "# Question 65: Find top 10 profitable products.\n",
    "top_10_profitable_products = df.groupby('Product Name')['Profit'].sum().nlargest(10)\n",
    "print(top_10_profitable_products)"
   ]
  },
  {
   "cell_type": "code",
   "execution_count": 30,
   "id": "b68d5da5",
   "metadata": {},
   "outputs": [
    {
     "name": "stdout",
     "output_type": "stream",
     "text": [
      "Product Name\n",
      "Cubify CubeX 3D Printer Double Head Print                           -8879.9704\n",
      "Lexmark MX611dhe Monochrome Laser Printer                           -4589.9730\n",
      "Cubify CubeX 3D Printer Triple Head Print                           -3839.9904\n",
      "Chromcraft Bull-Nose Wood Oval Conference Tables & Bases            -2876.1156\n",
      "Bush Advantage Collection Racetrack Conference Table                -1934.3976\n",
      "GBC DocuBind P400 Electric Binding System                           -1878.1662\n",
      "Cisco TelePresence System EX90 Videoconferencing Unit               -1811.0784\n",
      "Martin Yale Chadless Opener Electric Letter Opener                  -1299.1836\n",
      "Balt Solid Wood Round Tables                                        -1201.0581\n",
      "BoxOffice By Design Rectangular and Half-Moon Meeting Room Tables   -1148.4375\n",
      "Name: Profit, dtype: float64\n"
     ]
    }
   ],
   "source": [
    "# Question 66: Find top 10 least profitable products.\n",
    "top_10_least_profitable_products = df.groupby('Product Name')['Profit'].sum().nsmallest(10)\n",
    "print(top_10_least_profitable_products)"
   ]
  },
  {
   "cell_type": "code",
   "execution_count": 31,
   "id": "61632f47",
   "metadata": {},
   "outputs": [
    {
     "name": "stdout",
     "output_type": "stream",
     "text": [
      "Product Name\n",
      "Canon imageCLASS 2200 Advanced Copier                                          61599.824\n",
      "Fellowes PB500 Electric Punch Plastic Comb Binding Machine with Manual Bind    27453.384\n",
      "Cisco TelePresence System EX90 Videoconferencing Unit                          22638.480\n",
      "HON 5400 Series Task Chairs for Big and Tall                                   21870.576\n",
      "GBC DocuBind TL300 Electric Binding System                                     19823.479\n",
      "GBC Ibimaster 500 Manual ProClick Binding System                               19024.500\n",
      "Hewlett Packard LaserJet 3310 Copier                                           18839.686\n",
      "HP Designjet T520 Inkjet Large Format Printer - 24\" Color                      18374.895\n",
      "GBC DocuBind P400 Electric Binding System                                      17965.068\n",
      "High Speed Automatic Electric Letter Opener                                    17030.312\n",
      "Name: Sales, dtype: float64\n"
     ]
    }
   ],
   "source": [
    "# Question 67: Find top 10 best-selling products by sales.\n",
    "top_10_best_selling_products = df.groupby('Product Name')['Sales'].sum().nlargest(10)\n",
    "print(top_10_best_selling_products)\n"
   ]
  },
  {
   "cell_type": "code",
   "execution_count": 33,
   "id": "475eb35a",
   "metadata": {},
   "outputs": [
    {
     "name": "stdout",
     "output_type": "stream",
     "text": [
      "Product Name\n",
      "Staples                                                       215\n",
      "Staple envelope                                               170\n",
      "Easy-staple paper                                             150\n",
      "Staples in misc. colors                                        86\n",
      "KI Adjustable-Height Table                                     74\n",
      "Avery Non-Stick Binders                                        71\n",
      "Storex Dura Pro Binders                                        71\n",
      "GBC Premium Transparent Covers with Diagonal Lined Pattern     67\n",
      "Situations Contoured Folding Chairs, 4/Set                     64\n",
      "Staple-based wall hangings                                     62\n",
      "Name: Quantity, dtype: int64\n"
     ]
    }
   ],
   "source": [
    "# Question 68: Find top 10 best-selling products by quantity.\n",
    "top_10_best_selling_products_by_quantity = df.groupby('Product Name')['Quantity'].sum().nlargest(10)\n",
    "print(top_10_best_selling_products_by_quantity)"
   ]
  },
  {
   "cell_type": "code",
   "execution_count": 34,
   "id": "c259a5c2",
   "metadata": {},
   "outputs": [
    {
     "name": "stdout",
     "output_type": "stream",
     "text": [
      "Product Name\n",
      "Eureka Disposable Bags for Sanitaire Vibra Groomer I Upright Vac    1.624\n",
      "Avery 5                                                             5.760\n",
      "Xerox 20                                                            6.480\n",
      "Grip Seal Envelopes                                                 7.072\n",
      "Avery Hi-Liter Pen Style Six-Color Fluorescent Set                  7.700\n",
      "Avery Hi-Liter Comfort Grip Fluorescent Highlighter, Yellow Ink     7.800\n",
      "Xerox 1989                                                          7.968\n",
      "4009 Highlighters                                                   8.040\n",
      "Stockwell Gold Paper Clips                                          8.096\n",
      "Newell 308                                                          8.400\n",
      "Name: Sales, dtype: float64\n"
     ]
    }
   ],
   "source": [
    "# Question 69: Find bottom 10 products by sales.\n",
    "bottom_10_products_by_sales = df.groupby('Product Name')['Sales'].sum().nsmallest(10)\n",
    "print(bottom_10_products_by_sales)"
   ]
  },
  {
   "cell_type": "code",
   "execution_count": 35,
   "id": "ce82ae80",
   "metadata": {},
   "outputs": [
    {
     "name": "stdout",
     "output_type": "stream",
     "text": [
      "Product Name\n",
      "Cubify CubeX 3D Printer Double Head Print                           -8879.9704\n",
      "Lexmark MX611dhe Monochrome Laser Printer                           -4589.9730\n",
      "Cubify CubeX 3D Printer Triple Head Print                           -3839.9904\n",
      "Chromcraft Bull-Nose Wood Oval Conference Tables & Bases            -2876.1156\n",
      "Bush Advantage Collection Racetrack Conference Table                -1934.3976\n",
      "GBC DocuBind P400 Electric Binding System                           -1878.1662\n",
      "Cisco TelePresence System EX90 Videoconferencing Unit               -1811.0784\n",
      "Martin Yale Chadless Opener Electric Letter Opener                  -1299.1836\n",
      "Balt Solid Wood Round Tables                                        -1201.0581\n",
      "BoxOffice By Design Rectangular and Half-Moon Meeting Room Tables   -1148.4375\n",
      "Name: Profit, dtype: float64\n"
     ]
    }
   ],
   "source": [
    "# Question 70: Find bottom 10 products by profit.\n",
    "bottom_10_products_by_profit = df.groupby('Product Name')['Profit'].sum().nsmallest(10)\n",
    "print(bottom_10_products_by_profit)"
   ]
  },
  {
   "cell_type": "code",
   "execution_count": 40,
   "id": "f637772a",
   "metadata": {},
   "outputs": [
    {
     "name": "stdout",
     "output_type": "stream",
     "text": [
      "year\n",
      "2014    484247.4981\n",
      "2015    470532.5090\n",
      "2016    609205.5980\n",
      "2017    733215.2552\n",
      "Name: Sales, dtype: float64\n"
     ]
    }
   ],
   "source": [
    "# Question 71: Find total sales by year.\n",
    "total_sales_by_year = df.groupby('year')['Sales'].sum()\n",
    "print(total_sales_by_year)"
   ]
  },
  {
   "cell_type": "code",
   "execution_count": 41,
   "id": "75280c40",
   "metadata": {},
   "outputs": [
    {
     "name": "stdout",
     "output_type": "stream",
     "text": [
      "year\n",
      "2014    49543.9741\n",
      "2015    61618.6037\n",
      "2016    81795.1743\n",
      "2017    93439.2696\n",
      "Name: Profit, dtype: float64\n"
     ]
    }
   ],
   "source": [
    "# Question 72: Find total profit by year.\n",
    "total_profit_by_year = df.groupby('year')['Profit'].sum()\n",
    "print(total_profit_by_year)"
   ]
  },
  {
   "cell_type": "code",
   "execution_count": 47,
   "id": "3091fdc5",
   "metadata": {},
   "outputs": [
    {
     "name": "stdout",
     "output_type": "stream",
     "text": [
      "year\n",
      "2014    484247.4981\n",
      "2015    470532.5090\n",
      "2016    609205.5980\n",
      "2017    733215.2552\n",
      "Name: Sales, dtype: float64\n",
      "year\n",
      "2014      NaN\n",
      "2015    -2.83\n",
      "2016    29.47\n",
      "2017    20.36\n",
      "Name: Sales, dtype: float64\n"
     ]
    }
   ],
   "source": [
    "# Question 73: Find sales growth year by year.\n",
    "# Calculate year-over-year sales growth percentage\n",
    "\n",
    "sales_per_year = df.groupby('year')['Sales'].sum().sort_index()\n",
    "print(sales_per_year)\n",
    "sales_growth = sales_per_year.pct_change() * 100\n",
    "print(np.round(sales_growth,2))\n"
   ]
  },
  {
   "cell_type": "code",
   "execution_count": 51,
   "id": "91361323",
   "metadata": {},
   "outputs": [
    {
     "name": "stdout",
     "output_type": "stream",
     "text": [
      "year\n",
      "2014    49543.9741\n",
      "2015    61618.6037\n",
      "2016    81795.1743\n",
      "2017    93439.2696\n",
      "Name: Profit, dtype: float64\n",
      "year\n",
      "2014      NaN\n",
      "2015    24.37\n",
      "2016    32.74\n",
      "2017    14.24\n",
      "Name: Profit, dtype: float64\n"
     ]
    }
   ],
   "source": [
    "# Question 74: Find profit growth year by year.\n",
    "profit_per_year = df.groupby('year')['Profit'].sum().sort_index()\n",
    "print(profit_per_year)\n",
    "profit_growth = profit_per_year.pct_change() * 100\n",
    "print(np.round(profit_growth,2))"
   ]
  },
  {
   "cell_type": "code",
   "execution_count": 52,
   "id": "a3823430",
   "metadata": {},
   "outputs": [
    {
     "name": "stdout",
     "output_type": "stream",
     "text": [
      "quarter\n",
      "1    359681.5758\n",
      "2    445509.6196\n",
      "3    613932.1057\n",
      "4    878077.5592\n",
      "Name: Sales, dtype: float64\n"
     ]
    }
   ],
   "source": [
    "# Question 75: Find sales by quarter.\n",
    "sales_by_quarter = df.groupby('quarter')['Sales'].sum()\n",
    "print(sales_by_quarter)"
   ]
  },
  {
   "cell_type": "code",
   "execution_count": 53,
   "id": "0f4e4890",
   "metadata": {},
   "outputs": [
    {
     "name": "stdout",
     "output_type": "stream",
     "text": [
      "quarter\n",
      "1     48023.7440\n",
      "2     55284.5395\n",
      "3     72467.0785\n",
      "4    110621.6597\n",
      "Name: Profit, dtype: float64\n"
     ]
    }
   ],
   "source": [
    "# Question 76: Find profit by quarter.\n",
    "profit_by_quarter = df.groupby('quarter')['Profit'].sum()\n",
    "print(profit_by_quarter)"
   ]
  },
  {
   "cell_type": "code",
   "execution_count": 56,
   "id": "dcd0c755",
   "metadata": {},
   "outputs": [
    {
     "name": "stdout",
     "output_type": "stream",
     "text": [
      "month\n",
      "1      94924.8356\n",
      "2      59751.2514\n",
      "3     205005.4888\n",
      "4     137762.1286\n",
      "5     155028.8117\n",
      "6     152718.6793\n",
      "7     147238.0970\n",
      "8     159044.0630\n",
      "9     307649.9457\n",
      "10    200322.9847\n",
      "11    352461.0710\n",
      "12    325293.5035\n",
      "Name: Sales, dtype: float64\n"
     ]
    }
   ],
   "source": [
    "# Question 77: Find sales by month.\n",
    "sales_by_month = df.groupby('month')['Sales'].sum()\n",
    "print(sales_by_month)"
   ]
  },
  {
   "cell_type": "code",
   "execution_count": 57,
   "id": "397924e5",
   "metadata": {},
   "outputs": [
    {
     "name": "stdout",
     "output_type": "stream",
     "text": [
      "month\n",
      "1      9134.4461\n",
      "2     10294.6107\n",
      "3     28594.6872\n",
      "4     11587.4363\n",
      "5     22411.3078\n",
      "6     21285.7954\n",
      "7     13832.6648\n",
      "8     21776.9384\n",
      "9     36857.4753\n",
      "10    31784.0413\n",
      "11    35468.4265\n",
      "12    43369.1919\n",
      "Name: Profit, dtype: float64\n"
     ]
    }
   ],
   "source": [
    "# Question 78: Find profit by month.\n",
    "profit_by_month = df.groupby('month')['Profit'].sum()\n",
    "print(profit_by_month)"
   ]
  },
  {
   "cell_type": "code",
   "execution_count": 58,
   "id": "1f838f8c",
   "metadata": {},
   "outputs": [
    {
     "name": "stdout",
     "output_type": "stream",
     "text": [
      "11\n"
     ]
    }
   ],
   "source": [
    "# Question 79: Find month with highest sales.\n",
    "highest_sales_month = sales_by_month.idxmax()\n",
    "print(highest_sales_month)"
   ]
  },
  {
   "cell_type": "code",
   "execution_count": 59,
   "id": "4e4c069e",
   "metadata": {},
   "outputs": [
    {
     "name": "stdout",
     "output_type": "stream",
     "text": [
      "12\n"
     ]
    }
   ],
   "source": [
    "# Question 80: Find month with highest profit.\n",
    "highest_profit_month = profit_by_month.idxmax()\n",
    "print(highest_profit_month)"
   ]
  },
  {
   "cell_type": "code",
   "execution_count": 60,
   "id": "e99528fc",
   "metadata": {},
   "outputs": [
    {
     "name": "stdout",
     "output_type": "stream",
     "text": [
      "2\n"
     ]
    }
   ],
   "source": [
    "# Question 81: Find month with lowest sales.\n",
    "lowest_profit_month = sales_by_month.idxmin()\n",
    "print(lowest_profit_month)"
   ]
  },
  {
   "cell_type": "code",
   "execution_count": 61,
   "id": "ae01142a",
   "metadata": {},
   "outputs": [
    {
     "name": "stdout",
     "output_type": "stream",
     "text": [
      "1\n"
     ]
    }
   ],
   "source": [
    "# Question 82: Find month with lowest profit.\n",
    "lowest_profit_month = profit_by_month.idxmin()\n",
    "print(lowest_profit_month)"
   ]
  },
  {
   "cell_type": "code",
   "execution_count": 62,
   "id": "6c91809f",
   "metadata": {},
   "outputs": [
    {
     "name": "stdout",
     "output_type": "stream",
     "text": [
      "weekday\n",
      "0    428937.8157\n",
      "1    287209.5022\n",
      "2     88056.9752\n",
      "3    321965.7785\n",
      "4    427692.2593\n",
      "5    357984.6830\n",
      "6    385353.8464\n",
      "Name: Sales, dtype: float64\n"
     ]
    }
   ],
   "source": [
    "# Question 83: Find total sales by weekday.\n",
    "total_sales_by_weekday = df.groupby('weekday')['Sales'].sum()\n",
    "print(total_sales_by_weekday)"
   ]
  },
  {
   "cell_type": "code",
   "execution_count": 63,
   "id": "f8834d47",
   "metadata": {},
   "outputs": [
    {
     "name": "stdout",
     "output_type": "stream",
     "text": [
      "weekday\n",
      "0    51511.1146\n",
      "1    35570.3288\n",
      "2    14703.8707\n",
      "3    39683.7512\n",
      "4    46520.8242\n",
      "5    41277.6202\n",
      "6    57129.5120\n",
      "Name: Profit, dtype: float64\n"
     ]
    }
   ],
   "source": [
    "# Question 84: Find total profit by weekday.\n",
    "total_profit_by_weekday = df.groupby('weekday')['Profit'].sum()\n",
    "print(total_profit_by_weekday)"
   ]
  },
  {
   "cell_type": "code",
   "execution_count": 64,
   "id": "c854259e",
   "metadata": {},
   "outputs": [
    {
     "name": "stdout",
     "output_type": "stream",
     "text": [
      "0\n"
     ]
    }
   ],
   "source": [
    "# Question 85: Find weekday with highest sales.\n",
    "highest_sales_weekday = total_sales_by_weekday.idxmax()\n",
    "print(highest_sales_weekday)"
   ]
  },
  {
   "cell_type": "code",
   "execution_count": 65,
   "id": "9ffeeb67",
   "metadata": {},
   "outputs": [
    {
     "name": "stdout",
     "output_type": "stream",
     "text": [
      "2\n"
     ]
    }
   ],
   "source": [
    "# Question 86: Find weekday with lowest sales.\n",
    "lowest_sales_weekday = total_sales_by_weekday.idxmin()\n",
    "print(lowest_sales_weekday)"
   ]
  },
  {
   "cell_type": "code",
   "execution_count": 66,
   "id": "532188cf",
   "metadata": {},
   "outputs": [
    {
     "name": "stdout",
     "output_type": "stream",
     "text": [
      "6\n"
     ]
    }
   ],
   "source": [
    "# Question 87: Find weekday with highest profit.\n",
    "\n",
    "highest_profit_weekday = total_profit_by_weekday.idxmax()\n",
    "print(highest_profit_weekday)"
   ]
  },
  {
   "cell_type": "code",
   "execution_count": 67,
   "id": "2d747ded",
   "metadata": {},
   "outputs": [
    {
     "name": "stdout",
     "output_type": "stream",
     "text": [
      "2\n"
     ]
    }
   ],
   "source": [
    "# Question 88: Find weekday with lowest profit.\n",
    "lowest_profit_weekday = total_profit_by_weekday.idxmin()\n",
    "print(lowest_profit_weekday)"
   ]
  },
  {
   "cell_type": "code",
   "execution_count": 68,
   "id": "655b2346",
   "metadata": {},
   "outputs": [
    {
     "name": "stdout",
     "output_type": "stream",
     "text": [
      "California\n"
     ]
    }
   ],
   "source": [
    "# Question 89: Find state with highest sales.\n",
    "state_with_highest_sales = df.groupby('State')['Sales'].sum().idxmax()\n",
    "print(state_with_highest_sales)"
   ]
  },
  {
   "cell_type": "code",
   "execution_count": 69,
   "id": "27fb2bf8",
   "metadata": {},
   "outputs": [
    {
     "name": "stdout",
     "output_type": "stream",
     "text": [
      "California\n"
     ]
    }
   ],
   "source": [
    "# Question 90: Find state with highest profit.\n",
    "state_with_highest_profit = df.groupby('State')['Profit'].sum().idxmax()\n",
    "print(state_with_highest_profit)"
   ]
  },
  {
   "cell_type": "code",
   "execution_count": 70,
   "id": "f3f48e24",
   "metadata": {},
   "outputs": [
    {
     "name": "stdout",
     "output_type": "stream",
     "text": [
      "North Dakota\n"
     ]
    }
   ],
   "source": [
    "# Question 91: Find state with lowest sales.\n",
    "state_with_lowest_sales = df.groupby('State')['Sales'].sum().idxmin()\n",
    "print(state_with_lowest_sales)"
   ]
  },
  {
   "cell_type": "code",
   "execution_count": 71,
   "id": "eb201ee3",
   "metadata": {},
   "outputs": [
    {
     "name": "stdout",
     "output_type": "stream",
     "text": [
      "Texas\n"
     ]
    }
   ],
   "source": [
    "# Question 92: Find state with lowest profit.\n",
    "state_with_lowest_profit = df.groupby('State')['Profit'].sum().idxmin()\n",
    "print(state_with_lowest_profit)"
   ]
  },
  {
   "cell_type": "code",
   "execution_count": 72,
   "id": "77efc2d2",
   "metadata": {},
   "outputs": [
    {
     "name": "stdout",
     "output_type": "stream",
     "text": [
      "West\n"
     ]
    }
   ],
   "source": [
    "# Question 93: Find region with highest sales.\n",
    "region_with_highest_sales = df.groupby('Region')['Sales'].sum().idxmax()\n",
    "print(region_with_highest_sales)"
   ]
  },
  {
   "cell_type": "code",
   "execution_count": 73,
   "id": "7dd1a628",
   "metadata": {},
   "outputs": [
    {
     "name": "stdout",
     "output_type": "stream",
     "text": [
      "West\n"
     ]
    }
   ],
   "source": [
    "# Question 94: Find region with highest profit.\n",
    "region_with_highest_profit = df.groupby('Region')['Profit'].sum().idxmax()\n",
    "print(region_with_highest_profit)"
   ]
  },
  {
   "cell_type": "code",
   "execution_count": 74,
   "id": "1d9b5351",
   "metadata": {},
   "outputs": [
    {
     "name": "stdout",
     "output_type": "stream",
     "text": [
      "South\n"
     ]
    }
   ],
   "source": [
    "# Question 95: Find region with lowest sales.\n",
    "region_with_lowest_sales = df.groupby('Region')['Sales'].sum().idxmin()\n",
    "print(region_with_lowest_sales)"
   ]
  },
  {
   "cell_type": "code",
   "execution_count": 75,
   "id": "46900242",
   "metadata": {},
   "outputs": [
    {
     "name": "stdout",
     "output_type": "stream",
     "text": [
      "Central\n"
     ]
    }
   ],
   "source": [
    "# Question 96: Find region with lowest profit.\n",
    "region_with_lowest_profit = df.groupby('Region')['Profit'].sum().idxmin()\n",
    "print(region_with_lowest_profit)"
   ]
  },
  {
   "cell_type": "code",
   "execution_count": 76,
   "id": "f72c15a1",
   "metadata": {},
   "outputs": [
    {
     "name": "stdout",
     "output_type": "stream",
     "text": [
      "0.1562027216329798\n"
     ]
    }
   ],
   "source": [
    "# Question 97: Find average discount overall.\n",
    "average_discount_overall = df['Discount'].mean()\n",
    "print(average_discount_overall)"
   ]
  },
  {
   "cell_type": "code",
   "execution_count": 77,
   "id": "bcfedaba",
   "metadata": {},
   "outputs": [
    {
     "name": "stdout",
     "output_type": "stream",
     "text": [
      "Category\n",
      "Furniture          0.173923\n",
      "Office Supplies    0.157285\n",
      "Technology         0.132323\n",
      "Name: Discount, dtype: float64\n"
     ]
    }
   ],
   "source": [
    "# Question 98: Find average discount in each category.\n",
    "average_discount_by_category = df.groupby('Category')['Discount'].mean()\n",
    "print(average_discount_by_category)"
   ]
  },
  {
   "cell_type": "code",
   "execution_count": 78,
   "id": "28247da5",
   "metadata": {},
   "outputs": [
    {
     "name": "stdout",
     "output_type": "stream",
     "text": [
      "Sub-Category\n",
      "Accessories    0.078452\n",
      "Appliances     0.166524\n",
      "Art            0.074874\n",
      "Binders        0.372292\n",
      "Bookcases      0.211140\n",
      "Chairs         0.170178\n",
      "Copiers        0.161765\n",
      "Envelopes      0.080315\n",
      "Fasteners      0.082028\n",
      "Furnishings    0.138349\n",
      "Labels         0.068681\n",
      "Machines       0.306087\n",
      "Paper          0.074891\n",
      "Phones         0.154556\n",
      "Storage        0.074704\n",
      "Supplies       0.076842\n",
      "Tables         0.261285\n",
      "Name: Discount, dtype: float64\n"
     ]
    }
   ],
   "source": [
    "# Question 99: Find average discount in each sub-category.\n",
    "average_discount_by_sub_category = df.groupby('Sub-Category')['Discount'].mean()\n",
    "print(average_discount_by_sub_category)"
   ]
  },
  {
   "cell_type": "code",
   "execution_count": 79,
   "id": "c102bb83",
   "metadata": {},
   "outputs": [
    {
     "name": "stdout",
     "output_type": "stream",
     "text": [
      "Region\n",
      "Central    501239.8908\n",
      "East       678781.2400\n",
      "South      391721.9050\n",
      "West       725457.8245\n",
      "Name: Sales, dtype: float64\n",
      "Region\n",
      "Central     39706.3625\n",
      "East        91522.7800\n",
      "South       46749.4303\n",
      "West       108418.4489\n",
      "Name: Profit, dtype: float64\n"
     ]
    }
   ],
   "source": [
    "# Question 100: Compare total sales vs profit across regions.\n",
    "sales_by_region = df.groupby('Region')['Sales'].sum()\n",
    "profit_by_region = df.groupby('Region')['Profit'].sum()\n",
    "print(sales_by_region)\n",
    "print(profit_by_region)"
   ]
  },
  {
   "cell_type": "code",
   "execution_count": 80,
   "id": "b1ed172f",
   "metadata": {},
   "outputs": [],
   "source": [
    "import matplotlib.pyplot as plt"
   ]
  },
  {
   "cell_type": "code",
   "execution_count": 81,
   "id": "20d7277b",
   "metadata": {},
   "outputs": [
    {
     "name": "stdout",
     "output_type": "stream",
     "text": [
      "    Region        Sales       Profit\n",
      "0  Central  501239.8908   39706.3625\n",
      "1     East  678781.2400   91522.7800\n",
      "2    South  391721.9050   46749.4303\n",
      "3     West  725457.8245  108418.4489\n"
     ]
    }
   ],
   "source": [
    "region_summary = df.groupby('Region')[['Sales', 'Profit']].sum().reset_index()\n",
    "print(region_summary)"
   ]
  },
  {
   "cell_type": "code",
   "execution_count": 82,
   "id": "af3b472d",
   "metadata": {},
   "outputs": [
    {
     "data": {
      "image/png": "[encoded data removed]",
      "text/plain": [
       "<Figure size 640x480 with 1 Axes>"
      ]
     },
     "metadata": {},
     "output_type": "display_data"
    }
   ],
   "source": [
    "region_summary.plot(x='Region', y=['Sales', 'Profit'], kind='bar')\n",
    "plt.ylabel(\"Amount\")\n",
    "plt.title(\"Total Sales vs Profit by Region\")\n",
    "plt.show()"
   ]
  },
  {
   "cell_type": "code",
   "execution_count": null,
   "id": "a3854893",
   "metadata": {},
   "outputs": [],
   "source": []
  }
 ],
 "metadata": {
  "kernelspec": {
   "display_name": "Python 3",
   "language": "python",
   "name": "python3"
  },
  "language_info": {
   "codemirror_mode": {
    "name": "ipython",
    "version": 3
   },
   "file_extension": ".py",
   "mimetype": "text/x-python",
   "name": "python",
   "nbconvert_exporter": "python",
   "pygments_lexer": "ipython3",
   "version": "3.13.2"
  }
 },
 "nbformat": 4,
 "nbformat_minor": 5
}
