{
  "nbformat": 4,
  "nbformat_minor": 0,
  "metadata": {
    "colab": {
      "provenance": []
    },
    "kernelspec": {
      "name": "python3",
      "display_name": "Python 3"
    },
    "language_info": {
      "name": "python"
    }
  },
  "cells": [
    {
      "cell_type": "markdown",
      "source": [
        "# Exception Handling Assignment – Coding Questions\n",
        "\n",
        "## Basic Level\n",
        "1. Write a program to handle division by zero using try-except.  \n",
        "2. Write a program to handle invalid user input (string instead of number).  \n",
        "3. Write a program that catches `IndexError` when accessing a list element.  \n",
        "4. Write a program to open a file and handle `FileNotFoundError`.  \n",
        "5. Write a program that handles multiple exceptions (`ZeroDivisionError`, `ValueError`).  \n",
        "6. Write a program using `try-except-else` to check if a number is even.  \n",
        "7. Write a program with `finally` block to always display \"Execution Completed\".  \n",
        "8. Write a program to demonstrate nested try-except blocks.  \n",
        "9. Write a program that asks for two numbers and handles both division and conversion errors.  \n",
        "10. Write a program that raises and handles a `TypeError`.  \n",
        "\n",
        "## Intermediate Level\n",
        "11. Write a function to withdraw money and raise an exception if balance < withdrawal.  \n",
        "12. Write a function that validates age and raises an exception if age < 18.  \n",
        "13. Write a program to validate email format and raise a custom exception.  \n",
        "14. Write a custom exception `NegativeNumberError` and use it in a square root function.  \n",
        "15. Write a custom exception for `InsufficientFundsError` in a banking system.  \n",
        "16. Write a program that handles exceptions while parsing JSON.  \n",
        "17. Write a program to retry dividing two numbers 3 times if an error occurs.  \n",
        "18. Write a program that uses `assert` to validate positive numbers and handle `AssertionError`.  \n",
        "19. Write a program that logs exceptions to a file using `logging` module.  \n",
        "20. Write a program that raises multiple custom exceptions (`InvalidPasswordError`, `InvalidUsernameError`).  \n",
        "\n",
        "## Advanced Level\n",
        "21. Write a program that demonstrates exception propagation across multiple functions.  \n",
        "22. Write a program using exception chaining (`raise ... from ...`).  \n",
        "23. Write a program that simulates database connection and raises custom exceptions.  \n",
        "24. Write a program that reads from a file using `with` statement and handles errors.  \n",
        "25. Write a program that skips bad data rows in a CSV file using exception handling.  \n",
        "26. Write a program that handles timeout error when connecting to a server (use `requests`).  \n",
        "27. Write a program that handles exceptions in a recursive factorial function.  \n",
        "28. Write a program that simulates transaction rollback in a banking system using exceptions.  \n",
        "29. Write a program to validate credit card numbers and raise exceptions for invalid inputs.  \n",
        "30. Write a program that raises an exception if memory usage goes beyond a threshold.  \n",
        "\n",
        "## Data Engineering / Real-World Scenarios\n",
        "31. Write a program that raises a custom exception if a data file is missing.  \n",
        "32. Write a program that raises exceptions when schema mismatch occurs in a dataset.  \n",
        "33. Write a program that handles `KeyError` while accessing dictionary values in a dataset.  \n",
        "34. Write a program to simulate ETL pipeline exception handling (Extract → Transform → Load).  \n",
        "35. Write a program to catch exceptions while reading data from an API.  \n",
        "36. Write a program to handle exceptions while connecting to Azure Blob Storage (mocked).  \n",
        "37. Write a program that handles exceptions when reading from a corrupted JSON file.  \n",
        "38. Write a program that raises an exception when duplicate data is found in a dataset.  \n",
        "39. Write a program to catch exceptions while writing data into SQL database.  \n",
        "40. Write a program that retries failed API requests 3 times using exception handling.  \n",
        "\n",
        "## Advanced Custom Exceptions\n",
        "41. Write a program to create a hierarchy of custom exceptions for banking (`BankError`, `InsufficientFunds`, `InvalidAccount`).  \n",
        "42. Write a program that raises a custom exception when user enters a weak password.  \n",
        "43. Write a program that handles multiple custom exceptions in an e-commerce system (`OutOfStockError`, `PaymentFailedError`).  \n",
        "44. Write a program to simulate exception handling in machine learning model training (skip invalid rows).  \n",
        "45. Write a program that raises exceptions if missing values are detected in a dataset.  \n",
        "46. Write a program that handles exceptions while saving a model to disk.  \n",
        "47. Write a program that catches exceptions during multi-threaded execution.  \n",
        "48. Write a program that demonstrates a global exception handler for a Python script.  \n",
        "49. Write a program that raises custom exceptions for invalid file formats (`.csv`, `.json`, `.xml`).  \n",
        "50. Write a program to implement centralized exception logging for a Python application.  \n"
      ],
      "metadata": {
        "id": "NEAa80H8Kumw"
      }
    }
  ]
}